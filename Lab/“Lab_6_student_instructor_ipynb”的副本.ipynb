{
  "nbformat": 4,
  "nbformat_minor": 0,
  "metadata": {
    "colab": {
      "provenance": [],
      "collapsed_sections": [
        "1CMUW02fxnV7",
        "j7k9x_RGb2S8"
      ],
      "toc_visible": true
    },
    "kernelspec": {
      "display_name": "Python 3",
      "language": "python",
      "name": "python3"
    },
    "language_info": {
      "codemirror_mode": {
        "name": "ipython",
        "version": 3
      },
      "file_extension": ".py",
      "mimetype": "text/x-python",
      "name": "python",
      "nbconvert_exporter": "python",
      "pygments_lexer": "ipython3",
      "version": "3.8.6"
    }
  },
  "cells": [
    {
      "cell_type": "markdown",
      "metadata": {
        "id": "1CMUW02fxnV7"
      },
      "source": [
        "## Lab 6 - MlInspect"
      ]
    },
    {
      "cell_type": "code",
      "source": [
        "#install python 3.8 and dev utils\n",
        "!sudo apt-get update -y\n",
        "!sudo apt-get install python3.8 python3.8-dev python3.8-distutils libpython3.8-dev\n",
        "\n",
        "!sudo update-alternatives --install /usr/bin/python3 python3 /usr/bin/python3.9 1\n",
        "!sudo update-alternatives --install /usr/bin/python3 python3 /usr/bin/python3.8 2\n",
        "\n",
        "!python3 --version\n",
        "\n",
        "!curl https://bootstrap.pypa.io/get-pip.py -o get-pip.py\n",
        "!python3 get-pip.py --force-reinstall\n",
        "\n",
        "!python3 -m pip install ipython ipython_genutils ipykernel jupyter_console prompt_toolkit httplib2 astor\n",
        "\n",
        "!ln -s /usr/local/lib/python3.9/dist-packages/google \\\n",
        "       /usr/local/lib/python3.8/dist-packages/google\n",
        "\n",
        "!sed -i \"s/from IPython.utils import traitlets as _traitlets/import traitlets as _traitlets/\" /usr/local/lib/python3.8/dist-packages/google/colab/*.py\n",
        "!sed -i \"s/from IPython.utils import traitlets/import traitlets/\" /usr/local/lib/python3.8/dist-packages/google/colab/*.py"
      ],
      "metadata": {
        "colab": {
          "base_uri": "https://localhost:8080/"
        },
        "id": "6A6h5D2SS0Jr",
        "outputId": "3fe352fe-80ca-4499-e8dd-19c0a2480a14"
      },
      "execution_count": 1,
      "outputs": [
        {
          "output_type": "stream",
          "name": "stdout",
          "text": [
            "\r0% [Working]\r            \rHit:1 http://archive.ubuntu.com/ubuntu focal InRelease\n",
            "\r0% [Connecting to security.ubuntu.com (185.125.190.39)] [Waiting for headers] [\r                                                                               \rHit:2 http://archive.ubuntu.com/ubuntu focal-updates InRelease\n",
            "\r0% [Waiting for headers] [Waiting for headers] [Waiting for headers] [Waiting f\r                                                                               \rHit:3 https://cloud.r-project.org/bin/linux/ubuntu focal-cran40/ InRelease\n",
            "\r0% [Waiting for headers] [Waiting for headers] [Waiting for headers] [Connectin\r                                                                               \rHit:4 http://archive.ubuntu.com/ubuntu focal-backports InRelease\n",
            "\r0% [Waiting for headers] [Waiting for headers] [Connecting to developer.downloa\r                                                                               \rHit:5 http://security.ubuntu.com/ubuntu focal-security InRelease\n",
            "Hit:6 http://ppa.launchpad.net/c2d4u.team/c2d4u4.0+/ubuntu focal InRelease\n",
            "Hit:7 http://ppa.launchpad.net/cran/libgit2/ubuntu focal InRelease\n",
            "Hit:8 http://ppa.launchpad.net/deadsnakes/ppa/ubuntu focal InRelease\n",
            "Hit:9 https://developer.download.nvidia.com/compute/cuda/repos/ubuntu2004/x86_64  InRelease\n",
            "Hit:10 http://ppa.launchpad.net/graphics-drivers/ppa/ubuntu focal InRelease\n",
            "Hit:11 http://ppa.launchpad.net/ubuntugis/ppa/ubuntu focal InRelease\n",
            "Reading package lists... Done\n",
            "Reading package lists... Done\n",
            "Building dependency tree       \n",
            "Reading state information... Done\n",
            "Note, selecting 'python3-distutils' instead of 'python3.8-distutils'\n",
            "libpython3.8-dev is already the newest version (3.8.10-0ubuntu1~20.04.7).\n",
            "python3-distutils is already the newest version (3.8.10-0ubuntu1~20.04).\n",
            "python3.8 is already the newest version (3.8.10-0ubuntu1~20.04.7).\n",
            "python3.8-dev is already the newest version (3.8.10-0ubuntu1~20.04.7).\n",
            "0 upgraded, 0 newly installed, 0 to remove and 24 not upgraded.\n",
            "Python 3.8.10\n",
            "  % Total    % Received % Xferd  Average Speed   Time    Time     Time  Current\n",
            "                                 Dload  Upload   Total   Spent    Left  Speed\n",
            "100 2513k  100 2513k    0     0  14.5M      0 --:--:-- --:--:-- --:--:-- 14.5M\n",
            "Looking in indexes: https://pypi.org/simple, https://us-python.pkg.dev/colab-wheels/public/simple/\n",
            "Collecting pip\n",
            "  Using cached pip-23.0.1-py3-none-any.whl (2.1 MB)\n",
            "Installing collected packages: pip\n",
            "  Attempting uninstall: pip\n",
            "    Found existing installation: pip 23.0.1\n",
            "    Uninstalling pip-23.0.1:\n",
            "      Successfully uninstalled pip-23.0.1\n",
            "Successfully installed pip-23.0.1\n",
            "\u001b[33mWARNING: Running pip as the 'root' user can result in broken permissions and conflicting behaviour with the system package manager. It is recommended to use a virtual environment instead: https://pip.pypa.io/warnings/venv\u001b[0m\u001b[33m\n",
            "\u001b[0mLooking in indexes: https://pypi.org/simple, https://us-python.pkg.dev/colab-wheels/public/simple/\n",
            "Requirement already satisfied: ipython in /usr/local/lib/python3.8/dist-packages (7.19.0)\n",
            "Requirement already satisfied: ipython_genutils in /usr/local/lib/python3.8/dist-packages (0.2.0)\n",
            "Requirement already satisfied: ipykernel in /usr/local/lib/python3.8/dist-packages (6.22.0)\n",
            "Requirement already satisfied: jupyter_console in /usr/local/lib/python3.8/dist-packages (6.6.3)\n",
            "Requirement already satisfied: prompt_toolkit in /usr/local/lib/python3.8/dist-packages (3.0.38)\n",
            "Requirement already satisfied: httplib2 in /usr/local/lib/python3.8/dist-packages (0.22.0)\n",
            "Requirement already satisfied: astor in /usr/local/lib/python3.8/dist-packages (0.8.1)\n",
            "Requirement already satisfied: pickleshare in /usr/local/lib/python3.8/dist-packages (from ipython) (0.7.5)\n",
            "Requirement already satisfied: jedi>=0.10 in /usr/local/lib/python3.8/dist-packages (from ipython) (0.18.2)\n",
            "Requirement already satisfied: pygments in /usr/local/lib/python3.8/dist-packages (from ipython) (2.14.0)\n",
            "Requirement already satisfied: traitlets>=4.2 in /usr/local/lib/python3.8/dist-packages (from ipython) (5.9.0)\n",
            "Requirement already satisfied: setuptools>=18.5 in /usr/local/lib/python3.8/dist-packages (from ipython) (67.6.0)\n",
            "Requirement already satisfied: decorator in /usr/local/lib/python3.8/dist-packages (from ipython) (5.1.1)\n",
            "Requirement already satisfied: pexpect>4.3 in /usr/local/lib/python3.8/dist-packages (from ipython) (4.8.0)\n",
            "Requirement already satisfied: backcall in /usr/local/lib/python3.8/dist-packages (from ipython) (0.2.0)\n",
            "Requirement already satisfied: jupyter-core!=5.0.*,>=4.12 in /usr/local/lib/python3.8/dist-packages (from ipykernel) (5.3.0)\n",
            "Requirement already satisfied: tornado>=6.1 in /usr/local/lib/python3.8/dist-packages (from ipykernel) (6.2)\n",
            "Requirement already satisfied: psutil in /usr/local/lib/python3.8/dist-packages (from ipykernel) (5.9.4)\n",
            "Requirement already satisfied: jupyter-client>=6.1.12 in /usr/local/lib/python3.8/dist-packages (from ipykernel) (8.1.0)\n",
            "Requirement already satisfied: comm>=0.1.1 in /usr/local/lib/python3.8/dist-packages (from ipykernel) (0.1.3)\n",
            "Collecting ipython\n",
            "  Using cached ipython-8.11.0-py3-none-any.whl (793 kB)\n",
            "Requirement already satisfied: packaging in /usr/local/lib/python3.8/dist-packages (from ipykernel) (23.0)\n",
            "Requirement already satisfied: debugpy>=1.6.5 in /usr/local/lib/python3.8/dist-packages (from ipykernel) (1.6.6)\n",
            "Requirement already satisfied: nest-asyncio in /usr/local/lib/python3.8/dist-packages (from ipykernel) (1.5.6)\n",
            "Requirement already satisfied: matplotlib-inline>=0.1 in /usr/local/lib/python3.8/dist-packages (from ipykernel) (0.1.6)\n",
            "Requirement already satisfied: pyzmq>=20 in /usr/local/lib/python3.8/dist-packages (from ipykernel) (25.0.2)\n",
            "Requirement already satisfied: stack-data in /usr/local/lib/python3.8/dist-packages (from ipython) (0.6.2)\n",
            "Requirement already satisfied: wcwidth in /usr/local/lib/python3.8/dist-packages (from prompt_toolkit) (0.2.6)\n",
            "Requirement already satisfied: pyparsing!=3.0.0,!=3.0.1,!=3.0.2,!=3.0.3,<4,>=2.4.2 in /usr/local/lib/python3.8/dist-packages (from httplib2) (3.0.9)\n",
            "Requirement already satisfied: parso<0.9.0,>=0.8.0 in /usr/local/lib/python3.8/dist-packages (from jedi>=0.10->ipython) (0.8.3)\n",
            "Requirement already satisfied: python-dateutil>=2.8.2 in /usr/local/lib/python3.8/dist-packages (from jupyter-client>=6.1.12->ipykernel) (2.8.2)\n",
            "Requirement already satisfied: importlib-metadata>=4.8.3 in /usr/local/lib/python3.8/dist-packages (from jupyter-client>=6.1.12->ipykernel) (6.1.0)\n",
            "Requirement already satisfied: platformdirs>=2.5 in /usr/local/lib/python3.8/dist-packages (from jupyter-core!=5.0.*,>=4.12->ipykernel) (3.1.1)\n",
            "Requirement already satisfied: ptyprocess>=0.5 in /usr/local/lib/python3.8/dist-packages (from pexpect>4.3->ipython) (0.7.0)\n",
            "Requirement already satisfied: asttokens>=2.1.0 in /usr/local/lib/python3.8/dist-packages (from stack-data->ipython) (2.2.1)\n",
            "Requirement already satisfied: pure-eval in /usr/local/lib/python3.8/dist-packages (from stack-data->ipython) (0.2.2)\n",
            "Requirement already satisfied: executing>=1.2.0 in /usr/local/lib/python3.8/dist-packages (from stack-data->ipython) (1.2.0)\n",
            "Requirement already satisfied: six in /usr/local/lib/python3.8/dist-packages (from asttokens>=2.1.0->stack-data->ipython) (1.15.0)\n",
            "Requirement already satisfied: zipp>=0.5 in /usr/local/lib/python3.8/dist-packages (from importlib-metadata>=4.8.3->jupyter-client>=6.1.12->ipykernel) (3.15.0)\n",
            "Installing collected packages: ipython\n",
            "  Attempting uninstall: ipython\n",
            "    Found existing installation: ipython 7.19.0\n",
            "    Uninstalling ipython-7.19.0:\n",
            "      Successfully uninstalled ipython-7.19.0\n",
            "\u001b[31mERROR: pip's dependency resolver does not currently take into account all the packages that are installed. This behaviour is the source of the following dependency conflicts.\n",
            "mlinspect 0.0.1.dev0 requires ipython==7.19.0, but you have ipython 8.11.0 which is incompatible.\u001b[0m\u001b[31m\n",
            "\u001b[0mSuccessfully installed ipython-8.11.0\n",
            "\u001b[33mWARNING: Running pip as the 'root' user can result in broken permissions and conflicting behaviour with the system package manager. It is recommended to use a virtual environment instead: https://pip.pypa.io/warnings/venv\u001b[0m\u001b[33m\n",
            "\u001b[0m"
          ]
        }
      ]
    },
    {
      "cell_type": "code",
      "source": [
        "# check python version -- should be 3.8\n",
        "import sys\n",
        "print(sys.version)\n",
        "!python3 --version\n",
        "!python --version"
      ],
      "metadata": {
        "colab": {
          "base_uri": "https://localhost:8080/"
        },
        "id": "7iKZXgCqS5Ou",
        "outputId": "c900a514-f154-4c9d-919d-226579dba519"
      },
      "execution_count": 2,
      "outputs": [
        {
          "output_type": "stream",
          "name": "stdout",
          "text": [
            "3.8.10 (default, Mar 13 2023, 10:26:41) \n",
            "[GCC 9.4.0]\n",
            "Python 3.8.10\n",
            "Python 3.8.10\n"
          ]
        }
      ]
    },
    {
      "cell_type": "markdown",
      "source": [
        "## Install package required."
      ],
      "metadata": {
        "id": "j7k9x_RGb2S8"
      }
    },
    {
      "cell_type": "code",
      "source": [
        "# graphviz is installed already, but need lib too\n",
        "!apt install libgraphviz-dev\n",
        "!pip install pygraphviz\n",
        "!pip install mlinspect\n",
        "!pip install tensorflow==2.5.0\n",
        "!pip install keras==2.4.3\n",
        "!pip install jinja2==3.0.3"
      ],
      "metadata": {
        "colab": {
          "base_uri": "https://localhost:8080/"
        },
        "outputId": "2cd41bde-7a30-4d61-8e1a-25b07cadebee",
        "id": "12Dkq7BAV9hA"
      },
      "execution_count": 3,
      "outputs": [
        {
          "output_type": "stream",
          "name": "stdout",
          "text": [
            "Reading package lists... Done\n",
            "Building dependency tree       \n",
            "Reading state information... Done\n",
            "libgraphviz-dev is already the newest version (2.42.2-3build2).\n",
            "0 upgraded, 0 newly installed, 0 to remove and 24 not upgraded.\n",
            "Looking in indexes: https://pypi.org/simple, https://us-python.pkg.dev/colab-wheels/public/simple/\n",
            "Requirement already satisfied: pygraphviz in /usr/local/lib/python3.8/dist-packages (1.5)\n",
            "\u001b[33mWARNING: Running pip as the 'root' user can result in broken permissions and conflicting behaviour with the system package manager. It is recommended to use a virtual environment instead: https://pip.pypa.io/warnings/venv\u001b[0m\u001b[33m\n",
            "\u001b[0mLooking in indexes: https://pypi.org/simple, https://us-python.pkg.dev/colab-wheels/public/simple/\n",
            "Requirement already satisfied: mlinspect in /usr/local/lib/python3.8/dist-packages (0.0.1.dev0)\n",
            "Requirement already satisfied: astunparse==1.6.3 in /usr/local/lib/python3.8/dist-packages (from mlinspect) (1.6.3)\n",
            "Requirement already satisfied: pygraphviz==1.5 in /usr/local/lib/python3.8/dist-packages (from mlinspect) (1.5)\n",
            "Requirement already satisfied: networkx==2.5 in /usr/local/lib/python3.8/dist-packages (from mlinspect) (2.5)\n",
            "Requirement already satisfied: pandas==1.1.4 in /usr/local/lib/python3.8/dist-packages (from mlinspect) (1.1.4)\n",
            "Requirement already satisfied: astmonkey==0.3.6 in /usr/local/lib/python3.8/dist-packages (from mlinspect) (0.3.6)\n",
            "Requirement already satisfied: more-itertools==8.6.0 in /usr/local/lib/python3.8/dist-packages (from mlinspect) (8.6.0)\n",
            "Requirement already satisfied: scikit-learn[alldeps]==0.23.2 in /usr/local/lib/python3.8/dist-packages (from mlinspect) (0.23.2)\n",
            "Requirement already satisfied: testfixtures==6.15.0 in /usr/local/lib/python3.8/dist-packages (from mlinspect) (6.15.0)\n",
            "Requirement already satisfied: nbconvert==6.0.7 in /usr/local/lib/python3.8/dist-packages (from mlinspect) (6.0.7)\n",
            "Requirement already satisfied: astpretty==2.0.0 in /usr/local/lib/python3.8/dist-packages (from mlinspect) (2.0.0)\n",
            "Collecting ipython==7.19.0\n",
            "  Using cached ipython-7.19.0-py3-none-any.whl (784 kB)\n",
            "Requirement already satisfied: nbformat==5.0.8 in /usr/local/lib/python3.8/dist-packages (from mlinspect) (5.0.8)\n",
            "Requirement already satisfied: matplotlib==3.3.2 in /usr/local/lib/python3.8/dist-packages (from mlinspect) (3.3.2)\n",
            "Requirement already satisfied: pydot in /usr/local/lib/python3.8/dist-packages (from astmonkey==0.3.6->mlinspect) (1.4.2)\n",
            "Requirement already satisfied: six<2.0,>=1.6.1 in /usr/local/lib/python3.8/dist-packages (from astunparse==1.6.3->mlinspect) (1.15.0)\n",
            "Requirement already satisfied: wheel<1.0,>=0.23.0 in /usr/local/lib/python3.8/dist-packages (from astunparse==1.6.3->mlinspect) (0.40.0)\n",
            "Requirement already satisfied: backcall in /usr/local/lib/python3.8/dist-packages (from ipython==7.19.0->mlinspect) (0.2.0)\n",
            "Requirement already satisfied: pygments in /usr/local/lib/python3.8/dist-packages (from ipython==7.19.0->mlinspect) (2.14.0)\n",
            "Requirement already satisfied: pickleshare in /usr/local/lib/python3.8/dist-packages (from ipython==7.19.0->mlinspect) (0.7.5)\n",
            "Requirement already satisfied: setuptools>=18.5 in /usr/local/lib/python3.8/dist-packages (from ipython==7.19.0->mlinspect) (67.6.0)\n",
            "Requirement already satisfied: jedi>=0.10 in /usr/local/lib/python3.8/dist-packages (from ipython==7.19.0->mlinspect) (0.18.2)\n",
            "Requirement already satisfied: prompt-toolkit!=3.0.0,!=3.0.1,<3.1.0,>=2.0.0 in /usr/local/lib/python3.8/dist-packages (from ipython==7.19.0->mlinspect) (3.0.38)\n",
            "Requirement already satisfied: traitlets>=4.2 in /usr/local/lib/python3.8/dist-packages (from ipython==7.19.0->mlinspect) (5.9.0)\n",
            "Requirement already satisfied: pexpect>4.3 in /usr/local/lib/python3.8/dist-packages (from ipython==7.19.0->mlinspect) (4.8.0)\n",
            "Requirement already satisfied: decorator in /usr/local/lib/python3.8/dist-packages (from ipython==7.19.0->mlinspect) (5.1.1)\n",
            "Requirement already satisfied: pillow>=6.2.0 in /usr/local/lib/python3.8/dist-packages (from matplotlib==3.3.2->mlinspect) (9.4.0)\n",
            "Requirement already satisfied: python-dateutil>=2.1 in /usr/local/lib/python3.8/dist-packages (from matplotlib==3.3.2->mlinspect) (2.8.2)\n",
            "Requirement already satisfied: kiwisolver>=1.0.1 in /usr/local/lib/python3.8/dist-packages (from matplotlib==3.3.2->mlinspect) (1.4.4)\n",
            "Requirement already satisfied: certifi>=2020.06.20 in /usr/local/lib/python3.8/dist-packages (from matplotlib==3.3.2->mlinspect) (2022.12.7)\n",
            "Requirement already satisfied: pyparsing!=2.0.4,!=2.1.2,!=2.1.6,>=2.0.3 in /usr/local/lib/python3.8/dist-packages (from matplotlib==3.3.2->mlinspect) (3.0.9)\n",
            "Requirement already satisfied: cycler>=0.10 in /usr/local/lib/python3.8/dist-packages (from matplotlib==3.3.2->mlinspect) (0.11.0)\n",
            "Requirement already satisfied: numpy>=1.15 in /usr/local/lib/python3.8/dist-packages (from matplotlib==3.3.2->mlinspect) (1.19.5)\n",
            "Requirement already satisfied: jupyter-core in /usr/local/lib/python3.8/dist-packages (from nbconvert==6.0.7->mlinspect) (5.3.0)\n",
            "Requirement already satisfied: testpath in /usr/local/lib/python3.8/dist-packages (from nbconvert==6.0.7->mlinspect) (0.6.0)\n",
            "Requirement already satisfied: entrypoints>=0.2.2 in /usr/local/lib/python3.8/dist-packages (from nbconvert==6.0.7->mlinspect) (0.4)\n",
            "Requirement already satisfied: pandocfilters>=1.4.1 in /usr/local/lib/python3.8/dist-packages (from nbconvert==6.0.7->mlinspect) (1.5.0)\n",
            "Requirement already satisfied: defusedxml in /usr/local/lib/python3.8/dist-packages (from nbconvert==6.0.7->mlinspect) (0.7.1)\n",
            "Requirement already satisfied: nbclient<0.6.0,>=0.5.0 in /usr/local/lib/python3.8/dist-packages (from nbconvert==6.0.7->mlinspect) (0.5.13)\n",
            "Requirement already satisfied: jinja2>=2.4 in /usr/local/lib/python3.8/dist-packages (from nbconvert==6.0.7->mlinspect) (3.0.3)\n",
            "Requirement already satisfied: mistune<2,>=0.8.1 in /usr/local/lib/python3.8/dist-packages (from nbconvert==6.0.7->mlinspect) (0.8.4)\n",
            "Requirement already satisfied: jupyterlab-pygments in /usr/local/lib/python3.8/dist-packages (from nbconvert==6.0.7->mlinspect) (0.2.2)\n",
            "Requirement already satisfied: bleach in /usr/local/lib/python3.8/dist-packages (from nbconvert==6.0.7->mlinspect) (6.0.0)\n",
            "Requirement already satisfied: jsonschema!=2.5.0,>=2.4 in /usr/local/lib/python3.8/dist-packages (from nbformat==5.0.8->mlinspect) (4.17.3)\n",
            "Requirement already satisfied: ipython-genutils in /usr/local/lib/python3.8/dist-packages (from nbformat==5.0.8->mlinspect) (0.2.0)\n",
            "Requirement already satisfied: pytz>=2017.2 in /usr/local/lib/python3.8/dist-packages (from pandas==1.1.4->mlinspect) (2022.7.1)\n",
            "Requirement already satisfied: joblib>=0.11 in /usr/local/lib/python3.8/dist-packages (from scikit-learn[alldeps]==0.23.2->mlinspect) (1.2.0)\n",
            "Requirement already satisfied: scipy>=0.19.1 in /usr/local/lib/python3.8/dist-packages (from scikit-learn[alldeps]==0.23.2->mlinspect) (1.10.1)\n",
            "Requirement already satisfied: threadpoolctl>=2.0.0 in /usr/local/lib/python3.8/dist-packages (from scikit-learn[alldeps]==0.23.2->mlinspect) (3.1.0)\n",
            "Requirement already satisfied: parso<0.9.0,>=0.8.0 in /usr/local/lib/python3.8/dist-packages (from jedi>=0.10->ipython==7.19.0->mlinspect) (0.8.3)\n",
            "Requirement already satisfied: MarkupSafe>=2.0 in /usr/local/lib/python3.8/dist-packages (from jinja2>=2.4->nbconvert==6.0.7->mlinspect) (2.1.2)\n",
            "Requirement already satisfied: attrs>=17.4.0 in /usr/local/lib/python3.8/dist-packages (from jsonschema!=2.5.0,>=2.4->nbformat==5.0.8->mlinspect) (22.2.0)\n",
            "Requirement already satisfied: importlib-resources>=1.4.0 in /usr/local/lib/python3.8/dist-packages (from jsonschema!=2.5.0,>=2.4->nbformat==5.0.8->mlinspect) (5.12.0)\n",
            "Requirement already satisfied: pkgutil-resolve-name>=1.3.10 in /usr/local/lib/python3.8/dist-packages (from jsonschema!=2.5.0,>=2.4->nbformat==5.0.8->mlinspect) (1.3.10)\n",
            "Requirement already satisfied: pyrsistent!=0.17.0,!=0.17.1,!=0.17.2,>=0.14.0 in /usr/local/lib/python3.8/dist-packages (from jsonschema!=2.5.0,>=2.4->nbformat==5.0.8->mlinspect) (0.19.3)\n",
            "Requirement already satisfied: jupyter-client>=6.1.5 in /usr/local/lib/python3.8/dist-packages (from nbclient<0.6.0,>=0.5.0->nbconvert==6.0.7->mlinspect) (8.1.0)\n",
            "Requirement already satisfied: nest-asyncio in /usr/local/lib/python3.8/dist-packages (from nbclient<0.6.0,>=0.5.0->nbconvert==6.0.7->mlinspect) (1.5.6)\n",
            "Requirement already satisfied: ptyprocess>=0.5 in /usr/local/lib/python3.8/dist-packages (from pexpect>4.3->ipython==7.19.0->mlinspect) (0.7.0)\n",
            "Requirement already satisfied: wcwidth in /usr/local/lib/python3.8/dist-packages (from prompt-toolkit!=3.0.0,!=3.0.1,<3.1.0,>=2.0.0->ipython==7.19.0->mlinspect) (0.2.6)\n",
            "Requirement already satisfied: webencodings in /usr/local/lib/python3.8/dist-packages (from bleach->nbconvert==6.0.7->mlinspect) (0.5.1)\n",
            "Requirement already satisfied: platformdirs>=2.5 in /usr/local/lib/python3.8/dist-packages (from jupyter-core->nbconvert==6.0.7->mlinspect) (3.1.1)\n",
            "Requirement already satisfied: zipp>=3.1.0 in /usr/local/lib/python3.8/dist-packages (from importlib-resources>=1.4.0->jsonschema!=2.5.0,>=2.4->nbformat==5.0.8->mlinspect) (3.15.0)\n",
            "Requirement already satisfied: tornado>=6.2 in /usr/local/lib/python3.8/dist-packages (from jupyter-client>=6.1.5->nbclient<0.6.0,>=0.5.0->nbconvert==6.0.7->mlinspect) (6.2)\n",
            "Requirement already satisfied: pyzmq>=23.0 in /usr/local/lib/python3.8/dist-packages (from jupyter-client>=6.1.5->nbclient<0.6.0,>=0.5.0->nbconvert==6.0.7->mlinspect) (25.0.2)\n",
            "Requirement already satisfied: importlib-metadata>=4.8.3 in /usr/local/lib/python3.8/dist-packages (from jupyter-client>=6.1.5->nbclient<0.6.0,>=0.5.0->nbconvert==6.0.7->mlinspect) (6.1.0)\n",
            "Installing collected packages: ipython\n",
            "  Attempting uninstall: ipython\n",
            "    Found existing installation: ipython 8.11.0\n",
            "    Uninstalling ipython-8.11.0:\n",
            "      Successfully uninstalled ipython-8.11.0\n",
            "\u001b[31mERROR: pip's dependency resolver does not currently take into account all the packages that are installed. This behaviour is the source of the following dependency conflicts.\n",
            "ipykernel 6.22.0 requires ipython>=7.23.1, but you have ipython 7.19.0 which is incompatible.\u001b[0m\u001b[31m\n",
            "\u001b[0mSuccessfully installed ipython-7.19.0\n",
            "\u001b[33mWARNING: Running pip as the 'root' user can result in broken permissions and conflicting behaviour with the system package manager. It is recommended to use a virtual environment instead: https://pip.pypa.io/warnings/venv\u001b[0m\u001b[33m\n",
            "\u001b[0mLooking in indexes: https://pypi.org/simple, https://us-python.pkg.dev/colab-wheels/public/simple/\n",
            "Requirement already satisfied: tensorflow==2.5.0 in /usr/local/lib/python3.8/dist-packages (2.5.0)\n",
            "Requirement already satisfied: typing-extensions~=3.7.4 in /usr/local/lib/python3.8/dist-packages (from tensorflow==2.5.0) (3.7.4.3)\n",
            "Requirement already satisfied: h5py~=3.1.0 in /usr/local/lib/python3.8/dist-packages (from tensorflow==2.5.0) (3.1.0)\n",
            "Requirement already satisfied: google-pasta~=0.2 in /usr/local/lib/python3.8/dist-packages (from tensorflow==2.5.0) (0.2.0)\n",
            "Requirement already satisfied: tensorboard~=2.5 in /usr/local/lib/python3.8/dist-packages (from tensorflow==2.5.0) (2.11.2)\n",
            "Requirement already satisfied: wheel~=0.35 in /usr/local/lib/python3.8/dist-packages (from tensorflow==2.5.0) (0.40.0)\n",
            "Requirement already satisfied: numpy~=1.19.2 in /usr/local/lib/python3.8/dist-packages (from tensorflow==2.5.0) (1.19.5)\n",
            "Requirement already satisfied: gast==0.4.0 in /usr/local/lib/python3.8/dist-packages (from tensorflow==2.5.0) (0.4.0)\n",
            "Requirement already satisfied: opt-einsum~=3.3.0 in /usr/local/lib/python3.8/dist-packages (from tensorflow==2.5.0) (3.3.0)\n",
            "Requirement already satisfied: flatbuffers~=1.12.0 in /usr/local/lib/python3.8/dist-packages (from tensorflow==2.5.0) (1.12)\n",
            "Requirement already satisfied: astunparse~=1.6.3 in /usr/local/lib/python3.8/dist-packages (from tensorflow==2.5.0) (1.6.3)\n",
            "Requirement already satisfied: grpcio~=1.34.0 in /usr/local/lib/python3.8/dist-packages (from tensorflow==2.5.0) (1.34.1)\n",
            "Requirement already satisfied: termcolor~=1.1.0 in /usr/local/lib/python3.8/dist-packages (from tensorflow==2.5.0) (1.1.0)\n",
            "Requirement already satisfied: wrapt~=1.12.1 in /usr/local/lib/python3.8/dist-packages (from tensorflow==2.5.0) (1.12.1)\n",
            "Requirement already satisfied: keras-nightly~=2.5.0.dev in /usr/local/lib/python3.8/dist-packages (from tensorflow==2.5.0) (2.5.0.dev2021032900)\n",
            "Requirement already satisfied: six~=1.15.0 in /usr/local/lib/python3.8/dist-packages (from tensorflow==2.5.0) (1.15.0)\n",
            "Requirement already satisfied: protobuf>=3.9.2 in /usr/local/lib/python3.8/dist-packages (from tensorflow==2.5.0) (3.20.3)\n",
            "Requirement already satisfied: keras-preprocessing~=1.1.2 in /usr/local/lib/python3.8/dist-packages (from tensorflow==2.5.0) (1.1.2)\n",
            "Requirement already satisfied: absl-py~=0.10 in /usr/local/lib/python3.8/dist-packages (from tensorflow==2.5.0) (0.15.0)\n",
            "Requirement already satisfied: tensorflow-estimator<2.6.0,>=2.5.0rc0 in /usr/local/lib/python3.8/dist-packages (from tensorflow==2.5.0) (2.5.0)\n",
            "Requirement already satisfied: requests<3,>=2.21.0 in /usr/local/lib/python3.8/dist-packages (from tensorboard~=2.5->tensorflow==2.5.0) (2.28.2)\n",
            "Requirement already satisfied: setuptools>=41.0.0 in /usr/local/lib/python3.8/dist-packages (from tensorboard~=2.5->tensorflow==2.5.0) (67.6.0)\n",
            "Requirement already satisfied: markdown>=2.6.8 in /usr/local/lib/python3.8/dist-packages (from tensorboard~=2.5->tensorflow==2.5.0) (3.4.3)\n",
            "Requirement already satisfied: tensorboard-plugin-wit>=1.6.0 in /usr/local/lib/python3.8/dist-packages (from tensorboard~=2.5->tensorflow==2.5.0) (1.8.1)\n",
            "Requirement already satisfied: google-auth<3,>=1.6.3 in /usr/local/lib/python3.8/dist-packages (from tensorboard~=2.5->tensorflow==2.5.0) (2.16.2)\n",
            "Requirement already satisfied: werkzeug>=1.0.1 in /usr/local/lib/python3.8/dist-packages (from tensorboard~=2.5->tensorflow==2.5.0) (2.2.3)\n",
            "Requirement already satisfied: google-auth-oauthlib<0.5,>=0.4.1 in /usr/local/lib/python3.8/dist-packages (from tensorboard~=2.5->tensorflow==2.5.0) (0.4.6)\n",
            "Requirement already satisfied: tensorboard-data-server<0.7.0,>=0.6.0 in /usr/local/lib/python3.8/dist-packages (from tensorboard~=2.5->tensorflow==2.5.0) (0.6.1)\n",
            "Requirement already satisfied: cachetools<6.0,>=2.0.0 in /usr/local/lib/python3.8/dist-packages (from google-auth<3,>=1.6.3->tensorboard~=2.5->tensorflow==2.5.0) (5.3.0)\n",
            "Requirement already satisfied: pyasn1-modules>=0.2.1 in /usr/local/lib/python3.8/dist-packages (from google-auth<3,>=1.6.3->tensorboard~=2.5->tensorflow==2.5.0) (0.2.8)\n",
            "Requirement already satisfied: rsa<5,>=3.1.4 in /usr/local/lib/python3.8/dist-packages (from google-auth<3,>=1.6.3->tensorboard~=2.5->tensorflow==2.5.0) (4.9)\n",
            "Requirement already satisfied: requests-oauthlib>=0.7.0 in /usr/local/lib/python3.8/dist-packages (from google-auth-oauthlib<0.5,>=0.4.1->tensorboard~=2.5->tensorflow==2.5.0) (1.3.1)\n",
            "Requirement already satisfied: importlib-metadata>=4.4 in /usr/local/lib/python3.8/dist-packages (from markdown>=2.6.8->tensorboard~=2.5->tensorflow==2.5.0) (6.1.0)\n",
            "Requirement already satisfied: certifi>=2017.4.17 in /usr/local/lib/python3.8/dist-packages (from requests<3,>=2.21.0->tensorboard~=2.5->tensorflow==2.5.0) (2022.12.7)\n",
            "Requirement already satisfied: idna<4,>=2.5 in /usr/local/lib/python3.8/dist-packages (from requests<3,>=2.21.0->tensorboard~=2.5->tensorflow==2.5.0) (3.4)\n",
            "Requirement already satisfied: charset-normalizer<4,>=2 in /usr/local/lib/python3.8/dist-packages (from requests<3,>=2.21.0->tensorboard~=2.5->tensorflow==2.5.0) (3.1.0)\n",
            "Requirement already satisfied: urllib3<1.27,>=1.21.1 in /usr/local/lib/python3.8/dist-packages (from requests<3,>=2.21.0->tensorboard~=2.5->tensorflow==2.5.0) (1.26.15)\n",
            "Requirement already satisfied: MarkupSafe>=2.1.1 in /usr/local/lib/python3.8/dist-packages (from werkzeug>=1.0.1->tensorboard~=2.5->tensorflow==2.5.0) (2.1.2)\n",
            "Requirement already satisfied: zipp>=0.5 in /usr/local/lib/python3.8/dist-packages (from importlib-metadata>=4.4->markdown>=2.6.8->tensorboard~=2.5->tensorflow==2.5.0) (3.15.0)\n",
            "Requirement already satisfied: pyasn1<0.5.0,>=0.4.6 in /usr/local/lib/python3.8/dist-packages (from pyasn1-modules>=0.2.1->google-auth<3,>=1.6.3->tensorboard~=2.5->tensorflow==2.5.0) (0.4.8)\n",
            "Requirement already satisfied: oauthlib>=3.0.0 in /usr/local/lib/python3.8/dist-packages (from requests-oauthlib>=0.7.0->google-auth-oauthlib<0.5,>=0.4.1->tensorboard~=2.5->tensorflow==2.5.0) (3.2.2)\n",
            "\u001b[33mWARNING: Running pip as the 'root' user can result in broken permissions and conflicting behaviour with the system package manager. It is recommended to use a virtual environment instead: https://pip.pypa.io/warnings/venv\u001b[0m\u001b[33m\n",
            "\u001b[0mLooking in indexes: https://pypi.org/simple, https://us-python.pkg.dev/colab-wheels/public/simple/\n",
            "Requirement already satisfied: keras==2.4.3 in /usr/local/lib/python3.8/dist-packages (2.4.3)\n",
            "Requirement already satisfied: pyyaml in /usr/local/lib/python3.8/dist-packages (from keras==2.4.3) (6.0)\n",
            "Requirement already satisfied: scipy>=0.14 in /usr/local/lib/python3.8/dist-packages (from keras==2.4.3) (1.10.1)\n",
            "Requirement already satisfied: h5py in /usr/local/lib/python3.8/dist-packages (from keras==2.4.3) (3.1.0)\n",
            "Requirement already satisfied: numpy>=1.9.1 in /usr/local/lib/python3.8/dist-packages (from keras==2.4.3) (1.19.5)\n",
            "\u001b[33mWARNING: Running pip as the 'root' user can result in broken permissions and conflicting behaviour with the system package manager. It is recommended to use a virtual environment instead: https://pip.pypa.io/warnings/venv\u001b[0m\u001b[33m\n",
            "\u001b[0mLooking in indexes: https://pypi.org/simple, https://us-python.pkg.dev/colab-wheels/public/simple/\n",
            "Requirement already satisfied: jinja2==3.0.3 in /usr/local/lib/python3.8/dist-packages (3.0.3)\n",
            "Requirement already satisfied: MarkupSafe>=2.0 in /usr/local/lib/python3.8/dist-packages (from jinja2==3.0.3) (2.1.2)\n",
            "\u001b[33mWARNING: Running pip as the 'root' user can result in broken permissions and conflicting behaviour with the system package manager. It is recommended to use a virtual environment instead: https://pip.pypa.io/warnings/venv\u001b[0m\u001b[33m\n",
            "\u001b[0m"
          ]
        }
      ]
    },
    {
      "cell_type": "code",
      "source": [
        "#@title This cell will restart the environment so you don't have to do it manually. Continue from here after restart.\n",
        "import os\n",
        "os.kill(os.getpid(), 9)"
      ],
      "metadata": {
        "id": "6gwGDzJaUoeP",
        "cellView": "form"
      },
      "execution_count": null,
      "outputs": []
    },
    {
      "cell_type": "markdown",
      "metadata": {
        "id": "1E_8wNplxnWF"
      },
      "source": [
        "## Overview of the example from the paper\n",
        "\n",
        "\n",
        "![paper_example_image](https://github.com/stefan-grafberger/mlinspect/blob/master/demo/feature_overview/paper_example_image.png?raw=true)\n",
        "\n",
        "Example of an ML pipeline that predicts which patients are at a higher risk of serious complications, under the requirement to achieve comparable false negative rates across intersectional groups by age and race. The pipeline is implemented using native constructs from the popular pandas and scikit-learn libraries. On the left, we highlight potential issues identified by mlinspect. On the right, we show the corresponding dataflow graph extracted by mlinspect to instrument the code and pinpoint issues."
      ]
    },
    {
      "cell_type": "markdown",
      "metadata": {
        "id": "Aq5yEgKKxnWG"
      },
      "source": [
        "## Task\n",
        "Operators like joins, selections and missing value imputaters can cause data distribution issues, which can heavily impact the performance of our model for specific demographic groups. Mlinspect helps with identifying such issues by offering a check that calculates histograms for sensitive groups in the data and verifying whether the histogram change is significant enough to alert the user. Thanks to our annotation propagation, we can deal with complex code involving things like nested sklearn pipelines and group memberships that are removed from the training data using projections.\n",
        "\n",
        "We want to find out if preprocessing operations in pipelines introduce bias and if so, which groups are effected. The pipeline we want to analyse in this task can be found using the path os.path.join(str(get_project_root()), \"experiments\", \"user_interviews\", \"adult_simple_modified.py\"). The senstive attributes we want to take a look at are race and sex.\n",
        "\n",
        "It is using a benchmark dataset frequently used in the algorithmic fairness literature. Adult income contains information about 33,000 individuals from the 1994 U.S. census, with sensitive attributes gender and race. The corresponding task is to predict whether the annual income of an individual exceeds $50,000. We took this existing data set and only modified it slightly by introducing an artificial issue which we will now try to find using mlinspect.\n",
        "\n",
        "The code of the pipeline:\n",
        "\n",
        "> ```python\n",
        "> \"\"\"\n",
        "> Adult income pipeline\n",
        "> \"\"\"\n",
        "> import os\n",
        "> import pandas as pd\n",
        "> from sklearn import compose, preprocessing, tree, pipeline\n",
        "> \n",
        "> from mlinspect.utils import get_project_root\n",
        "> \n",
        "> print('pipeline start')\n",
        "> \n",
        "> train_file_a = os.path.join(str(get_project_root()), \"experiments\", \"user_interviews\", \"adult_simple_train_a.csv\")\n",
        "> raw_data_a = pd.read_csv(train_file_a, na_values='?', index_col=0)\n",
        "> \n",
        "> train_file_b = os.path.join(str(get_project_root()), \"experiments\", \"user_interviews\", \"adult_simple_train_b.csv\")\n",
        "> raw_data_b = pd.read_csv(train_file_b, na_values='?', index_col=0)\n",
        "> \n",
        "> merged_raw_data = raw_data_a.merge(raw_data_b, on=\"id\")\n",
        "> \n",
        "> data = merged_raw_data.dropna()\n",
        "> \n",
        "> labels = preprocessing.label_binarize(data['income-per-year'], classes=['>50K', '<=50K'])\n",
        "> \n",
        "> column_transformer = compose.ColumnTransformer(transformers=[\n",
        ">     ('categorical', preprocessing.OneHotEncoder(handle_unknown='ignore'), ['education', 'workclass']),\n",
        ">     ('numeric', preprocessing.StandardScaler(), ['age', 'hours-per-week'])\n",
        "> ])\n",
        "> adult_income_pipeline = pipeline.Pipeline([\n",
        ">     ('features', column_transformer),\n",
        ">     ('classifier', tree.DecisionTreeClassifier())])\n",
        "> \n",
        "> adult_income_pipeline.fit(data, labels)\n",
        "> print('pipeline finished')\n",
        "> ```"
      ]
    },
    {
      "cell_type": "markdown",
      "source": [
        "Additional reading:\n",
        "https://scikit-learn.org/stable/modules/compose.html#combining-estimators"
      ],
      "metadata": {
        "id": "Rc32t873hNqp"
      }
    },
    {
      "cell_type": "markdown",
      "metadata": {
        "id": "hGrO7CzixnWH"
      },
      "source": [
        "# Step 1/4: Add check and execute the pipeline\n",
        "\n",
        "The central entry point of mlinspect is the `PipelineInspector`. To use mlinspect, we use it and pass it the path to the runnable version of the example pipeline. Here, we have the example pipeline in a `.py` file. \n",
        "\n",
        "First, we define the check we want mlinspect to run. In this example, we only use `NoBiasIntroducedFor([\"col1\", \"col2\", ...])` to automatically check for significant changes in the distribution of sensitive demograhpic groups and compute the histograms.\n",
        "\n",
        "Then, we execute the pipeline. Mlinspect returns a `InspectorResult`, which, among other information, contains the output of our check. "
      ]
    },
    {
      "cell_type": "code",
      "source": [
        "import urllib\n",
        "from inspect import cleandoc\n",
        "\n",
        "import os\n",
        "from mlinspect.utils import get_project_root\n",
        "\n",
        "from mlinspect import PipelineInspector\n",
        "from mlinspect.checks import NoBiasIntroducedFor, NoIllegalFeatures\n",
        "from mlinspect.inspections import MaterializeFirstOutputRows"
      ],
      "metadata": {
        "id": "7NSPGtl1qm6n",
        "colab": {
          "base_uri": "https://localhost:8080/"
        },
        "outputId": "0d908020-c63f-4809-db8f-0eed6f64aa13"
      },
      "execution_count": 1,
      "outputs": [
        {
          "output_type": "stream",
          "name": "stderr",
          "text": [
            "2023-03-23 15:34:55.844833: I tensorflow/stream_executor/platform/default/dso_loader.cc:53] Successfully opened dynamic library libcudart.so.11.0\n"
          ]
        }
      ]
    },
    {
      "cell_type": "code",
      "source": [
        "python_string = cleandoc(\"\"\"\n",
        "import os\n",
        "import pandas as pd\n",
        "from sklearn import compose, preprocessing, tree, pipeline\n",
        "\n",
        "from mlinspect.utils import get_project_root\n",
        "\n",
        "print('pipeline start')\n",
        "raw_data_a = pd.read_csv('https://raw.githubusercontent.com/DataResponsibly/Datasets/master/dataset_lab_6/adult_simple_train_a.csv')\n",
        "raw_data_b = pd.read_csv('https://raw.githubusercontent.com/DataResponsibly/Datasets/master/dataset_lab_6/adult_simple_train_b.csv')\n",
        "\n",
        "merged_raw_data = raw_data_a.merge(raw_data_b, on=\"id\")\n",
        "\n",
        "data = merged_raw_data.dropna()\n",
        "\n",
        "labels = preprocessing.label_binarize(data['income-per-year'], classes=['>50K', '<=50K'])\n",
        "\n",
        "column_transformer = compose.ColumnTransformer(transformers=[\n",
        "    ('categorical', preprocessing.OneHotEncoder(handle_unknown='ignore'), ['education', 'workclass']),\n",
        "    ('numeric', preprocessing.StandardScaler(), ['age', 'hours-per-week'])\n",
        "])\n",
        "adult_income_pipeline = pipeline.Pipeline([\n",
        "    ('features', column_transformer),\n",
        "    ('classifier', tree.DecisionTreeClassifier())])\n",
        "\n",
        "adult_income_pipeline.fit(data, labels)\n",
        "print('pipeline finished')\n",
        "\"\"\")"
      ],
      "metadata": {
        "id": "ydeVxaLUvfql"
      },
      "execution_count": 2,
      "outputs": []
    },
    {
      "cell_type": "code",
      "metadata": {
        "id": "kpcIG9hExnWI",
        "colab": {
          "base_uri": "https://localhost:8080/"
        },
        "outputId": "964ccf58-130b-40ee-cbe3-07ce35d74980"
      },
      "source": [
        "inspector_result = PipelineInspector\\\n",
        "    .on_pipeline_from_string(python_string) \\\n",
        "    .add_check(NoBiasIntroducedFor(['race', 'sex'])) \\\n",
        "    .add_check(NoIllegalFeatures()) \\\n",
        "    .add_required_inspection(MaterializeFirstOutputRows(5)) \\\n",
        "    .execute()\n",
        "\n",
        "extracted_dag = inspector_result.dag\n",
        "check_results = inspector_result.check_to_check_results\n",
        "inspection_results = inspector_result.inspection_to_annotations"
      ],
      "execution_count": 3,
      "outputs": [
        {
          "output_type": "stream",
          "name": "stdout",
          "text": [
            "pipeline start\n",
            "pipeline finished\n"
          ]
        }
      ]
    },
    {
      "cell_type": "code",
      "source": [
        "extracted_dag.nodes"
      ],
      "metadata": {
        "id": "mRiwNnp9v7Rt",
        "colab": {
          "base_uri": "https://localhost:8080/"
        },
        "outputId": "e66fedae-a26d-4e30-b563-dab8a70d38f8"
      },
      "execution_count": 4,
      "outputs": [
        {
          "output_type": "execute_result",
          "data": {
            "text/plain": [
              "NodeView((DagNode(node_id=7, operator_type=<OperatorType.DATA_SOURCE: 'Data Source'>, code_reference=CodeReference(lineno=8, col_offset=13, end_lineno=8, end_col_offset=132), module=('pandas.io.parsers', 'read_csv'), description='adult_simple_train_a.csv', columns=['Unnamed: 0', 'id', 'age', 'workclass', 'fnlwgt', 'education', 'education-num']), DagNode(node_id=10, operator_type=<OperatorType.DATA_SOURCE: 'Data Source'>, code_reference=CodeReference(lineno=9, col_offset=13, end_lineno=9, end_col_offset=132), module=('pandas.io.parsers', 'read_csv'), description='adult_simple_train_b.csv', columns=['Unnamed: 0', 'id', 'marital-status', 'occupation', 'relationship', 'race', 'sex', 'capital-gain', 'capital-loss', 'hours-per-week', 'native-country', 'income-per-year']), DagNode(node_id=14, operator_type=<OperatorType.JOIN: 'Join'>, code_reference=CodeReference(lineno=11, col_offset=18, end_lineno=11, end_col_offset=55), module=('pandas.core.frame', 'merge'), description='on id', columns=['Unnamed: 0_x', 'id', 'age', 'workclass', 'fnlwgt', 'education', 'education-num', 'Unnamed: 0_y', 'marital-status', 'occupation', 'relationship', 'race', 'sex', 'capital-gain', 'capital-loss', 'hours-per-week', 'native-country', 'income-per-year']), DagNode(node_id=16, operator_type=<OperatorType.SELECTION: 'Selection'>, code_reference=CodeReference(lineno=13, col_offset=7, end_lineno=13, end_col_offset=31), module=('pandas.core.frame', 'dropna'), description='dropna', columns=['Unnamed: 0_x', 'id', 'age', 'workclass', 'fnlwgt', 'education', 'education-num', 'Unnamed: 0_y', 'marital-status', 'occupation', 'relationship', 'race', 'sex', 'capital-gain', 'capital-loss', 'hours-per-week', 'native-country', 'income-per-year']), DagNode(node_id=19, operator_type=<OperatorType.PROJECTION: 'Projection'>, code_reference=CodeReference(lineno=15, col_offset=38, end_lineno=15, end_col_offset=61), module=('pandas.core.frame', '__getitem__', 'Projection'), description=\"to ['income-per-year']\", columns=['income-per-year']), DagNode(node_id=52, operator_type=<OperatorType.TRAIN_DATA: 'Train Data'>, code_reference=CodeReference(lineno=21, col_offset=24, end_lineno=23, end_col_offset=51), module=('sklearn.pipeline', 'fit', 'Train Data'), description=None, columns=['Unnamed: 0_x', 'id', 'age', 'workclass', 'fnlwgt', 'education', 'education-num', 'Unnamed: 0_y', 'marital-status', 'occupation', 'relationship', 'race', 'sex', 'capital-gain', 'capital-loss', 'hours-per-week', 'native-country', 'income-per-year']), DagNode(node_id=24, operator_type=<OperatorType.PROJECTION_MODIFY: 'Projection (Modify)'>, code_reference=CodeReference(lineno=15, col_offset=9, end_lineno=15, end_col_offset=89), module=('sklearn.preprocessing._label', 'label_binarize'), description=\"label_binarize, classes: ['>50K', '<=50K']\", columns=['array']), DagNode(node_id=30, operator_type=<OperatorType.PROJECTION: 'Projection'>, code_reference=CodeReference(lineno=17, col_offset=21, end_lineno=20, end_col_offset=2), module=('sklearn.compose._column_transformer', 'ColumnTransformer', 'Projection'), description=\"to ['education'] (ColumnTransformer)\", columns=['education']), DagNode(node_id=31, operator_type=<OperatorType.PROJECTION: 'Projection'>, code_reference=CodeReference(lineno=17, col_offset=21, end_lineno=20, end_col_offset=2), module=('sklearn.compose._column_transformer', 'ColumnTransformer', 'Projection'), description=\"to ['workclass'] (ColumnTransformer)\", columns=['workclass']), DagNode(node_id=36, operator_type=<OperatorType.PROJECTION: 'Projection'>, code_reference=CodeReference(lineno=17, col_offset=21, end_lineno=20, end_col_offset=2), module=('sklearn.compose._column_transformer', 'ColumnTransformer', 'Projection'), description=\"to ['age'] (ColumnTransformer)\", columns=['age']), DagNode(node_id=37, operator_type=<OperatorType.PROJECTION: 'Projection'>, code_reference=CodeReference(lineno=17, col_offset=21, end_lineno=20, end_col_offset=2), module=('sklearn.compose._column_transformer', 'ColumnTransformer', 'Projection'), description=\"to ['hours-per-week'] (ColumnTransformer)\", columns=['hours-per-week']), DagNode(node_id=52, operator_type=<OperatorType.TRAIN_LABELS: 'Train Labels'>, code_reference=CodeReference(lineno=21, col_offset=24, end_lineno=23, end_col_offset=51), module=('sklearn.pipeline', 'fit', 'Train Labels'), description=None, columns=['array']), DagNode(node_id=30, operator_type=<OperatorType.TRANSFORMER: 'Transformer'>, code_reference=CodeReference(lineno=18, col_offset=20, end_lineno=18, end_col_offset=72), module=('sklearn.preprocessing._encoders', 'OneHotEncoder', 'Pipeline'), description=\"Categorical Encoder (OneHotEncoder), Column: 'education'\", columns=['education']), DagNode(node_id=31, operator_type=<OperatorType.TRANSFORMER: 'Transformer'>, code_reference=CodeReference(lineno=18, col_offset=20, end_lineno=18, end_col_offset=72), module=('sklearn.preprocessing._encoders', 'OneHotEncoder', 'Pipeline'), description=\"Categorical Encoder (OneHotEncoder), Column: 'workclass'\", columns=['workclass']), DagNode(node_id=36, operator_type=<OperatorType.TRANSFORMER: 'Transformer'>, code_reference=CodeReference(lineno=19, col_offset=16, end_lineno=19, end_col_offset=46), module=('sklearn.preprocessing._data', 'StandardScaler', 'Pipeline'), description=\"Numerical Encoder (StandardScaler), Column: 'age'\", columns=['age']), DagNode(node_id=37, operator_type=<OperatorType.TRANSFORMER: 'Transformer'>, code_reference=CodeReference(lineno=19, col_offset=16, end_lineno=19, end_col_offset=46), module=('sklearn.preprocessing._data', 'StandardScaler', 'Pipeline'), description=\"Numerical Encoder (StandardScaler), Column: 'hours-per-week'\", columns=['hours-per-week']), DagNode(node_id=42, operator_type=<OperatorType.CONCATENATION: 'Concatenation'>, code_reference=CodeReference(lineno=17, col_offset=21, end_lineno=20, end_col_offset=2), module=('sklearn.compose._column_transformer', 'ColumnTransformer', 'Concatenation'), description=None, columns=['array']), DagNode(node_id=47, operator_type=<OperatorType.ESTIMATOR: 'Estimator'>, code_reference=CodeReference(lineno=23, col_offset=19, end_lineno=23, end_col_offset=48), module=('sklearn.tree._classes', 'DecisionTreeClassifier', 'Pipeline'), description='Decision Tree', columns=None), DagNode(node_id=52, operator_type=<OperatorType.FIT: 'Fit Transformers and Estimators'>, code_reference=CodeReference(lineno=21, col_offset=24, end_lineno=23, end_col_offset=51), module=('sklearn.pipeline', 'fit', 'Pipeline'), description=None, columns=None)))"
            ]
          },
          "metadata": {},
          "execution_count": 4
        }
      ]
    },
    {
      "cell_type": "markdown",
      "metadata": {
        "id": "TXWpSFVFxnWK"
      },
      "source": [
        "# Step 2/4: Overview of the check results\n",
        "## Did our check find issues?\n",
        "\n",
        "Let us look at the `check_result` to see our some check failed. We do this using the mlinspect utlity function `check_results_as_data_frame(...)`. We see that an issue was found, so we have to investigate it."
      ]
    },
    {
      "cell_type": "code",
      "metadata": {
        "id": "r34ALYuvxnWK",
        "colab": {
          "base_uri": "https://localhost:8080/",
          "height": 172
        },
        "outputId": "9f2ff644-6b89-4bb2-9e7e-674b10c28815"
      },
      "source": [
        "from IPython.display import display\n",
        "import pandas as pd\n",
        "pd.set_option('display.max_colwidth', None)\n",
        "\n",
        "check_result_df = PipelineInspector.check_results_as_data_frame(check_results)\n",
        "display(check_result_df)"
      ],
      "execution_count": 5,
      "outputs": [
        {
          "output_type": "display_data",
          "data": {
            "text/plain": [
              "                                     check_name               status  \\\n",
              "0  NoBiasIntroducedFor((('race', 'sex'), -0.3))  CheckStatus.FAILURE   \n",
              "1                           NoIllegalFeatures()  CheckStatus.FAILURE   \n",
              "\n",
              "                                                                                                                       description  \n",
              "0  A Join causes a min_relative_ratio_change of 'sex' by -0.4009821195113874, a value below the configured minimum threshold -0.3!  \n",
              "1                                                                                                    Used illegal columns: ['age']  "
            ],
            "text/html": [
              "\n",
              "  <div id=\"df-e7bc69d9-5225-49e7-bdfd-8c0833782678\">\n",
              "    <div class=\"colab-df-container\">\n",
              "      <div>\n",
              "<style scoped>\n",
              "    .dataframe tbody tr th:only-of-type {\n",
              "        vertical-align: middle;\n",
              "    }\n",
              "\n",
              "    .dataframe tbody tr th {\n",
              "        vertical-align: top;\n",
              "    }\n",
              "\n",
              "    .dataframe thead th {\n",
              "        text-align: right;\n",
              "    }\n",
              "</style>\n",
              "<table border=\"1\" class=\"dataframe\">\n",
              "  <thead>\n",
              "    <tr style=\"text-align: right;\">\n",
              "      <th></th>\n",
              "      <th>check_name</th>\n",
              "      <th>status</th>\n",
              "      <th>description</th>\n",
              "    </tr>\n",
              "  </thead>\n",
              "  <tbody>\n",
              "    <tr>\n",
              "      <th>0</th>\n",
              "      <td>NoBiasIntroducedFor((('race', 'sex'), -0.3))</td>\n",
              "      <td>CheckStatus.FAILURE</td>\n",
              "      <td>A Join causes a min_relative_ratio_change of 'sex' by -0.4009821195113874, a value below the configured minimum threshold -0.3!</td>\n",
              "    </tr>\n",
              "    <tr>\n",
              "      <th>1</th>\n",
              "      <td>NoIllegalFeatures()</td>\n",
              "      <td>CheckStatus.FAILURE</td>\n",
              "      <td>Used illegal columns: ['age']</td>\n",
              "    </tr>\n",
              "  </tbody>\n",
              "</table>\n",
              "</div>\n",
              "      <button class=\"colab-df-convert\" onclick=\"convertToInteractive('df-e7bc69d9-5225-49e7-bdfd-8c0833782678')\"\n",
              "              title=\"Convert this dataframe to an interactive table.\"\n",
              "              style=\"display:none;\">\n",
              "        \n",
              "  <svg xmlns=\"http://www.w3.org/2000/svg\" height=\"24px\"viewBox=\"0 0 24 24\"\n",
              "       width=\"24px\">\n",
              "    <path d=\"M0 0h24v24H0V0z\" fill=\"none\"/>\n",
              "    <path d=\"M18.56 5.44l.94 2.06.94-2.06 2.06-.94-2.06-.94-.94-2.06-.94 2.06-2.06.94zm-11 1L8.5 8.5l.94-2.06 2.06-.94-2.06-.94L8.5 2.5l-.94 2.06-2.06.94zm10 10l.94 2.06.94-2.06 2.06-.94-2.06-.94-.94-2.06-.94 2.06-2.06.94z\"/><path d=\"M17.41 7.96l-1.37-1.37c-.4-.4-.92-.59-1.43-.59-.52 0-1.04.2-1.43.59L10.3 9.45l-7.72 7.72c-.78.78-.78 2.05 0 2.83L4 21.41c.39.39.9.59 1.41.59.51 0 1.02-.2 1.41-.59l7.78-7.78 2.81-2.81c.8-.78.8-2.07 0-2.86zM5.41 20L4 18.59l7.72-7.72 1.47 1.35L5.41 20z\"/>\n",
              "  </svg>\n",
              "      </button>\n",
              "      \n",
              "  <style>\n",
              "    .colab-df-container {\n",
              "      display:flex;\n",
              "      flex-wrap:wrap;\n",
              "      gap: 12px;\n",
              "    }\n",
              "\n",
              "    .colab-df-convert {\n",
              "      background-color: #E8F0FE;\n",
              "      border: none;\n",
              "      border-radius: 50%;\n",
              "      cursor: pointer;\n",
              "      display: none;\n",
              "      fill: #1967D2;\n",
              "      height: 32px;\n",
              "      padding: 0 0 0 0;\n",
              "      width: 32px;\n",
              "    }\n",
              "\n",
              "    .colab-df-convert:hover {\n",
              "      background-color: #E2EBFA;\n",
              "      box-shadow: 0px 1px 2px rgba(60, 64, 67, 0.3), 0px 1px 3px 1px rgba(60, 64, 67, 0.15);\n",
              "      fill: #174EA6;\n",
              "    }\n",
              "\n",
              "    [theme=dark] .colab-df-convert {\n",
              "      background-color: #3B4455;\n",
              "      fill: #D2E3FC;\n",
              "    }\n",
              "\n",
              "    [theme=dark] .colab-df-convert:hover {\n",
              "      background-color: #434B5C;\n",
              "      box-shadow: 0px 1px 3px 1px rgba(0, 0, 0, 0.15);\n",
              "      filter: drop-shadow(0px 1px 2px rgba(0, 0, 0, 0.3));\n",
              "      fill: #FFFFFF;\n",
              "    }\n",
              "  </style>\n",
              "\n",
              "      <script>\n",
              "        const buttonEl =\n",
              "          document.querySelector('#df-e7bc69d9-5225-49e7-bdfd-8c0833782678 button.colab-df-convert');\n",
              "        buttonEl.style.display =\n",
              "          google.colab.kernel.accessAllowed ? 'block' : 'none';\n",
              "\n",
              "        async function convertToInteractive(key) {\n",
              "          const element = document.querySelector('#df-e7bc69d9-5225-49e7-bdfd-8c0833782678');\n",
              "          const dataTable =\n",
              "            await google.colab.kernel.invokeFunction('convertToInteractive',\n",
              "                                                     [key], {});\n",
              "          if (!dataTable) return;\n",
              "\n",
              "          const docLinkHtml = 'Like what you see? Visit the ' +\n",
              "            '<a target=\"_blank\" href=https://colab.research.google.com/notebooks/data_table.ipynb>data table notebook</a>'\n",
              "            + ' to learn more about interactive tables.';\n",
              "          element.innerHTML = '';\n",
              "          dataTable['output_type'] = 'display_data';\n",
              "          await google.colab.output.renderOutput(dataTable, element);\n",
              "          const docLink = document.createElement('div');\n",
              "          docLink.innerHTML = docLinkHtml;\n",
              "          element.appendChild(docLink);\n",
              "        }\n",
              "      </script>\n",
              "    </div>\n",
              "  </div>\n",
              "  "
            ]
          },
          "metadata": {}
        }
      ]
    },
    {
      "cell_type": "markdown",
      "metadata": {
        "id": "nmzmVgkNxnWL"
      },
      "source": [
        "A negative min_relative_ratio_change means that the ratio after the join is less than the original ratio\n",
        "\n",
        "https://github.com/stefan-grafberger/mlinspect/blob/19ca0d6ae8672249891835190c9e2d9d3c14f28f/mlinspect/checks/_no_bias_introduced_for.py"
      ]
    },
    {
      "cell_type": "markdown",
      "metadata": {
        "id": "4qW-AuwlxnWM"
      },
      "source": [
        "# Step 3/4: List of operations that could change the distribution \n",
        "\n",
        "As stated before, only some operations like selections, joins and missing value imputation can change the distribution. Our check already filtered all operators that can cause data distribution issues. We can use the mlinspect utility function `get_distribution_changes_overview_as_df(...)` to get an overview. The overview already tells us that mlinspect detected a potential issue caused by a JOIN involving the gender attribute. Note that the automatic issue detection from mlinspect is only as good as its configuration and should not be completely relied upon."
      ]
    },
    {
      "cell_type": "code",
      "metadata": {
        "id": "PcjRw5RHxnWN",
        "colab": {
          "base_uri": "https://localhost:8080/",
          "height": 342
        },
        "outputId": "e33e2ee7-3f38-44f9-aa76-fa31c123bb8c"
      },
      "source": [
        "no_bias_check_result = check_results[NoBiasIntroducedFor([\"race\", \"sex\"])]\n",
        "\n",
        "distribution_changes_overview_df = NoBiasIntroducedFor.get_distribution_changes_overview_as_df(no_bias_check_result)\n",
        "display(distribution_changes_overview_df)\n",
        "\n",
        "dag_node_distribution_changes_list = list(no_bias_check_result.bias_distribution_change.items())"
      ],
      "execution_count": 6,
      "outputs": [
        {
          "output_type": "display_data",
          "data": {
            "text/plain": [
              "     DagNode OperatorType  \\\n",
              "0       OperatorType.JOIN   \n",
              "1  OperatorType.SELECTION   \n",
              "\n",
              "                                                       DagNode CodeReference  \\\n",
              "0  CodeReference(lineno=11, col_offset=18, end_lineno=11, end_col_offset=55)   \n",
              "1   CodeReference(lineno=13, col_offset=7, end_lineno=13, end_col_offset=31)   \n",
              "\n",
              "                DagNode Module DagNode Description  \\\n",
              "0   (pandas.core.frame, merge)               on id   \n",
              "1  (pandas.core.frame, dropna)              dropna   \n",
              "\n",
              "   'race' distribution change below the configured minimum test threshold  \\\n",
              "0                                                                   False   \n",
              "1                                                                   False   \n",
              "\n",
              "   'sex' distribution change below the configured minimum test threshold  \n",
              "0                                                                   True  \n",
              "1                                                                  False  "
            ],
            "text/html": [
              "\n",
              "  <div id=\"df-5ef397af-ffd7-442a-9222-fb6ef3aa738f\">\n",
              "    <div class=\"colab-df-container\">\n",
              "      <div>\n",
              "<style scoped>\n",
              "    .dataframe tbody tr th:only-of-type {\n",
              "        vertical-align: middle;\n",
              "    }\n",
              "\n",
              "    .dataframe tbody tr th {\n",
              "        vertical-align: top;\n",
              "    }\n",
              "\n",
              "    .dataframe thead th {\n",
              "        text-align: right;\n",
              "    }\n",
              "</style>\n",
              "<table border=\"1\" class=\"dataframe\">\n",
              "  <thead>\n",
              "    <tr style=\"text-align: right;\">\n",
              "      <th></th>\n",
              "      <th>DagNode OperatorType</th>\n",
              "      <th>DagNode CodeReference</th>\n",
              "      <th>DagNode Module</th>\n",
              "      <th>DagNode Description</th>\n",
              "      <th>'race' distribution change below the configured minimum test threshold</th>\n",
              "      <th>'sex' distribution change below the configured minimum test threshold</th>\n",
              "    </tr>\n",
              "  </thead>\n",
              "  <tbody>\n",
              "    <tr>\n",
              "      <th>0</th>\n",
              "      <td>OperatorType.JOIN</td>\n",
              "      <td>CodeReference(lineno=11, col_offset=18, end_lineno=11, end_col_offset=55)</td>\n",
              "      <td>(pandas.core.frame, merge)</td>\n",
              "      <td>on id</td>\n",
              "      <td>False</td>\n",
              "      <td>True</td>\n",
              "    </tr>\n",
              "    <tr>\n",
              "      <th>1</th>\n",
              "      <td>OperatorType.SELECTION</td>\n",
              "      <td>CodeReference(lineno=13, col_offset=7, end_lineno=13, end_col_offset=31)</td>\n",
              "      <td>(pandas.core.frame, dropna)</td>\n",
              "      <td>dropna</td>\n",
              "      <td>False</td>\n",
              "      <td>False</td>\n",
              "    </tr>\n",
              "  </tbody>\n",
              "</table>\n",
              "</div>\n",
              "      <button class=\"colab-df-convert\" onclick=\"convertToInteractive('df-5ef397af-ffd7-442a-9222-fb6ef3aa738f')\"\n",
              "              title=\"Convert this dataframe to an interactive table.\"\n",
              "              style=\"display:none;\">\n",
              "        \n",
              "  <svg xmlns=\"http://www.w3.org/2000/svg\" height=\"24px\"viewBox=\"0 0 24 24\"\n",
              "       width=\"24px\">\n",
              "    <path d=\"M0 0h24v24H0V0z\" fill=\"none\"/>\n",
              "    <path d=\"M18.56 5.44l.94 2.06.94-2.06 2.06-.94-2.06-.94-.94-2.06-.94 2.06-2.06.94zm-11 1L8.5 8.5l.94-2.06 2.06-.94-2.06-.94L8.5 2.5l-.94 2.06-2.06.94zm10 10l.94 2.06.94-2.06 2.06-.94-2.06-.94-.94-2.06-.94 2.06-2.06.94z\"/><path d=\"M17.41 7.96l-1.37-1.37c-.4-.4-.92-.59-1.43-.59-.52 0-1.04.2-1.43.59L10.3 9.45l-7.72 7.72c-.78.78-.78 2.05 0 2.83L4 21.41c.39.39.9.59 1.41.59.51 0 1.02-.2 1.41-.59l7.78-7.78 2.81-2.81c.8-.78.8-2.07 0-2.86zM5.41 20L4 18.59l7.72-7.72 1.47 1.35L5.41 20z\"/>\n",
              "  </svg>\n",
              "      </button>\n",
              "      \n",
              "  <style>\n",
              "    .colab-df-container {\n",
              "      display:flex;\n",
              "      flex-wrap:wrap;\n",
              "      gap: 12px;\n",
              "    }\n",
              "\n",
              "    .colab-df-convert {\n",
              "      background-color: #E8F0FE;\n",
              "      border: none;\n",
              "      border-radius: 50%;\n",
              "      cursor: pointer;\n",
              "      display: none;\n",
              "      fill: #1967D2;\n",
              "      height: 32px;\n",
              "      padding: 0 0 0 0;\n",
              "      width: 32px;\n",
              "    }\n",
              "\n",
              "    .colab-df-convert:hover {\n",
              "      background-color: #E2EBFA;\n",
              "      box-shadow: 0px 1px 2px rgba(60, 64, 67, 0.3), 0px 1px 3px 1px rgba(60, 64, 67, 0.15);\n",
              "      fill: #174EA6;\n",
              "    }\n",
              "\n",
              "    [theme=dark] .colab-df-convert {\n",
              "      background-color: #3B4455;\n",
              "      fill: #D2E3FC;\n",
              "    }\n",
              "\n",
              "    [theme=dark] .colab-df-convert:hover {\n",
              "      background-color: #434B5C;\n",
              "      box-shadow: 0px 1px 3px 1px rgba(0, 0, 0, 0.15);\n",
              "      filter: drop-shadow(0px 1px 2px rgba(0, 0, 0, 0.3));\n",
              "      fill: #FFFFFF;\n",
              "    }\n",
              "  </style>\n",
              "\n",
              "      <script>\n",
              "        const buttonEl =\n",
              "          document.querySelector('#df-5ef397af-ffd7-442a-9222-fb6ef3aa738f button.colab-df-convert');\n",
              "        buttonEl.style.display =\n",
              "          google.colab.kernel.accessAllowed ? 'block' : 'none';\n",
              "\n",
              "        async function convertToInteractive(key) {\n",
              "          const element = document.querySelector('#df-5ef397af-ffd7-442a-9222-fb6ef3aa738f');\n",
              "          const dataTable =\n",
              "            await google.colab.kernel.invokeFunction('convertToInteractive',\n",
              "                                                     [key], {});\n",
              "          if (!dataTable) return;\n",
              "\n",
              "          const docLinkHtml = 'Like what you see? Visit the ' +\n",
              "            '<a target=\"_blank\" href=https://colab.research.google.com/notebooks/data_table.ipynb>data table notebook</a>'\n",
              "            + ' to learn more about interactive tables.';\n",
              "          element.innerHTML = '';\n",
              "          dataTable['output_type'] = 'display_data';\n",
              "          await google.colab.output.renderOutput(dataTable, element);\n",
              "          const docLink = document.createElement('div');\n",
              "          docLink.innerHTML = docLinkHtml;\n",
              "          element.appendChild(docLink);\n",
              "        }\n",
              "      </script>\n",
              "    </div>\n",
              "  </div>\n",
              "  "
            ]
          },
          "metadata": {}
        }
      ]
    },
    {
      "cell_type": "markdown",
      "metadata": {
        "id": "QKdDGGewxnWO"
      },
      "source": [
        "# Step 4/4 Detailed Investigation"
      ]
    },
    {
      "cell_type": "markdown",
      "metadata": {
        "id": "_dypwcIqxnWO"
      },
      "source": [
        "### NoBiasIntroduced\n",
        "Now that we know of the potential issue, we will take a look at the histograms before and after the JOIN. We can use `distribution_change.before_and_after_df` to look at the data in form of a `pandas.DataFrame` or use the mlinspect utility function `plot_distribution_change_histograms(...)` to plot the histograms. "
      ]
    },
    {
      "cell_type": "code",
      "metadata": {
        "id": "dvQklFFcxnWP"
      },
      "source": [
        "# Select the DagNode we want to look at by index\n",
        "dag_node, node_distribution_changes = dag_node_distribution_changes_list[0]\n",
        "\n",
        "# Investige the changes\n",
        "print(dag_node.operator_type)\n",
        "for column, distribution_change in node_distribution_changes.items():\n",
        "    print(\"\")\n",
        "    print(\"\\033[1m Column '{}'\\033[0m, acceptable change: {}, min_relative_ratio_change: {}\".format(column, distribution_change.acceptable_change, distribution_change.min_relative_ratio_change))\n",
        "    display(distribution_change.before_and_after_df)\n",
        "    NoBiasIntroducedFor.plot_distribution_change_histograms(distribution_change)"
      ],
      "execution_count": null,
      "outputs": []
    },
    {
      "cell_type": "markdown",
      "metadata": {
        "id": "wStgd5hMxnWP"
      },
      "source": [
        "### Use of illegal features: \n",
        "\n",
        "https://github.com/stefan-grafberger/mlinspect/blob/19ca0d6ae8672249891835190c9e2d9d3c14f28f/mlinspect/checks/_no_illegal_features.py"
      ]
    },
    {
      "cell_type": "code",
      "metadata": {
        "id": "Rc--dp9txnWQ"
      },
      "source": [
        "feature_check_result = check_results[NoIllegalFeatures()]\n",
        "print(\"Used illegal features: {}\".format(feature_check_result.illegal_features))"
      ],
      "execution_count": null,
      "outputs": []
    },
    {
      "cell_type": "markdown",
      "metadata": {
        "id": "ClVo-aUixnWQ"
      },
      "source": [
        "### MaterializeFirstOutputRows\n",
        "For each operator, the MaterializeFirstOutputRows materialized the first 5 output rows. Especially for scikit-learn pipelines, it requires custom debugging code if a user just wants to look at some intermediate results ([see example stackoverflow post](https://stackoverflow.com/questions/34802465/sklearn-is-there-any-way-to-debug-pipelines)). Using mlinspect, this becomes easy. We can look at the input and output of arbitrary featurizers like OneHotEncoders or Word2Vec models.\n",
        "\n",
        "Here, we use this functionality to look at the output of a OneHotEncoder and the imputer right before it. For this, we only need to look at the inspection result for the corresponding Dag nodes."
      ]
    },
    {
      "cell_type": "code",
      "metadata": {
        "id": "GrHKIwLtxnWR"
      },
      "source": [
        "from IPython.display import display\n",
        "\n",
        "first_rows_inspection_result = inspection_results[MaterializeFirstOutputRows(5)]\n",
        "\n",
        "relevant_nodes = [node for node in extracted_dag.nodes if node.description in {\n",
        "    \"Categorical Encoder (OneHotEncoder), Column: 'education'\", \"Categorical Encoder (OneHotEncoder), Column: 'workclass'\" }]\n",
        "\n",
        "for dag_node in relevant_nodes:\n",
        "    if dag_node in first_rows_inspection_result and first_rows_inspection_result[dag_node] is not None:\n",
        "        print(\"\\n\\033[1m{} ({})\\033[0m\\n{}\".format(\n",
        "            dag_node.operator_type, dag_node.description, dag_node.code_reference))\n",
        "        display(first_rows_inspection_result[dag_node])"
      ],
      "execution_count": null,
      "outputs": []
    },
    {
      "cell_type": "markdown",
      "metadata": {
        "id": "HGnoTRbhxnWR"
      },
      "source": [
        "# [TODO] Questions: "
      ]
    },
    {
      "cell_type": "markdown",
      "source": [
        "* *Did we find operators that introduce bias? How \n",
        "did the distribution of demographic groups change?*\n",
        "\n"
      ],
      "metadata": {
        "id": "FFaYmZk7cOM_"
      }
    },
    {
      "cell_type": "markdown",
      "source": [
        "**Write down your answer here:** An error message \"NoBiasIntroducedFor((('race', 'sex'), -0.3))\" suggests that an analysis or model introduced bias with respect to \"race\" and \"sex\". It is likely that the distribution of demographic groups was affected, resulting in unequal outcomes for different groups. To fix this error, adjustments to the analysis or model may be needed, such as reviewing the data, adjusting the model parameters, or incorporating additional variables. It may also be necessary to consult with experts or seek guidance from the software documentation or support team to ensure that the analysis is conducted in a fair and ethical manner."
      ],
      "metadata": {
        "id": "WG-lT3h8cTVF"
      }
    },
    {
      "cell_type": "markdown",
      "metadata": {
        "id": "2prFpvfJxnWS"
      },
      "source": [
        "* *Can missing value imputation cause bias? If so, \n",
        "how?*\n"
      ]
    },
    {
      "cell_type": "markdown",
      "source": [
        "**Write down your answer here:**Missing value imputation can introduce bias if not performed appropriately, as missing data is often not missing at random. Imputing missing values based on the observed data can result in over or under-representation of certain groups in the final analysis, leading to biased estimates. Appropriate methods should be used to ensure fair and ethical analysis."
      ],
      "metadata": {
        "id": "YRzx_TiNcWQJ"
      }
    }
  ]
}