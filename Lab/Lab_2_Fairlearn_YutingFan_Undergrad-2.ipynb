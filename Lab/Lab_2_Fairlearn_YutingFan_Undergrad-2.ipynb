{
  "cells": [
    {
      "cell_type": "markdown",
      "metadata": {
        "id": "253jTpcO60Mf"
      },
      "source": [
        "# **Lab 2 - Detecting and Mitigating Biases using Fairlearn**"
      ]
    },
    {
      "cell_type": "code",
      "execution_count": null,
      "metadata": {
        "id": "G8WWJHeLzxMp"
      },
      "outputs": [],
      "source": []
    },
    {
      "cell_type": "markdown",
      "metadata": {
        "id": "6u42_ViARKxy"
      },
      "source": [
        "**Following Labs:**\n",
        "\n",
        "*   Lab2: Detecting bias and mitigating bias via pre-processing interventions\n",
        "*   Lab3: Mitigating bias via in-processing and postprocessing interventions"
      ]
    },
    {
      "cell_type": "markdown",
      "metadata": {
        "id": "3LrSVlCSDA9Z"
      },
      "source": [
        "#Detecting Bias Using Fairlearn"
      ]
    },
    {
      "cell_type": "markdown",
      "metadata": {
        "id": "RuBQtfv5iZac"
      },
      "source": [
        "## Bias in ML\n",
        "\n",
        "A machine learning algorithm will attempt to find patterns, or generalizations, in the training dataset to use when a prediction for a new instance is needed. For example, the model may discover a pattern whereby a person with a salary over \\$40,000 and an outstanding debt of less than $5 is very likely to repay a loan.\n",
        "\n",
        "However, sometimes the patterns that are found and replicated by a model may not be desirable or, even worse, might be illegal. For example, a loan repayment model may determine that age plays a significant role in the prediction of repayment because the training dataset happened to have better repayment for one age group compared to another. This raises two problems: 1) the training dataset may not be representative of the true population of loan applications for all age groups, and 2) even if it is representative, it is illegal (with limited exceptions) to base loan decisions on an applicant's age, regardless of whether this is an accurate basis for prediction based on historical data.\n",
        "\n",
        "The loan scenario describes an intuitive example of illegal bias. However, not all undesirable biases in machine learning are illegal; it may also exist in more subtle ways. For example, a loan company may want a diverse portfolio of customers across all income levels, and thus, will deem it undesirable if they are making more loans to high income levels over low income levels. Although this is not illegal or unethical, it is undesirable for the company's strategy.\n",
        "\n",
        "## The `Fairlearn` toolkit\n",
        "\n",
        "Fairlearn is a toolkit designed to help address this problem with fairness metrics and bias mitigators. Fairness metrics can be used to check for bias in machine learning workflows. Bias mitigators can be used to overcome bias in the workflow to produce a more fair outcome.\n",
        "\n",
        "As these two examples illustrate, a bias detection and/or mitigation toolkit needs to be tailored to the particular bias of interest. More specifically, we need to define the attribute(s), called protected (or sensitive) attributes of interest: the attribute whose skewness/bias we are trying to detect and mitigate. The term suggests that the system designer should be sensitive to these features when assessing and mitigating group fairness.\n",
        "\n",
        "Several stages of the machine learning pipeline are susceptible to bias. One useful way to categorize these stages are, intuitively, 'before,' 'during,' and 'after' training a model. These stages are commonly referred to as *pre-processing*, *in-processing*, and *post-processing* (in Fairlearn, in-processing techniques are available in the *reductions* package)."
      ]
    },
    {
      "cell_type": "markdown",
      "metadata": {
        "id": "Ip6sQt0eQLAU"
      },
      "source": [
        "## Fairlearn\n",
        "\n",
        "In Labs 2 and 3 we will use Fairlearn to detect and mitigate bias in a classifier. We will use the [ACS PUMS files](https://www.census.gov/programs-surveys/acs/microdata.html), particularly a fraction of the ACS Income dataset, and train a classifier to predict whether an individual has a salary greater than $50K. The protected attribute will be the sex of the individual.\n",
        "\n",
        "In this Lab 2 notebook, we will:\n",
        "\n",
        "1. Load the dataset and conduct basic data exploration and preprocessing\n",
        "2. Explore possible fairness metrics\n",
        "3. Train a logistic regression classifier and evaluate the fairness of this classifier\n",
        "4. Train other logistic regression classifiers with pre-processing interventions and re-evaluate fairness\n",
        "5. Compare the results obtained in 3 and 4"
      ]
    },
    {
      "cell_type": "markdown",
      "metadata": {
        "id": "uFlpmI9rSD3H"
      },
      "source": [
        "#1. Import Statements\n",
        "First, we install Fairlearn and import the necessary packages\n",
        "\n",
        "**BEWARE**: On Colab, you will probably have to restart the runtime (in the `Runtime` dropdown menu at the top of the screen) to import these successfully."
      ]
    },
    {
      "cell_type": "code",
      "execution_count": null,
      "metadata": {
        "id": "9LqUU91SjcFB"
      },
      "outputs": [],
      "source": [
        "%%capture\n",
        "#@markdown\n",
        "\n",
        "!pip install fairlearn\n",
        "!pip install folktables\n",
        "!pip install matplotlib==3.4.1 --force-reinstall\n",
        "!git clone https://github.com/lurosenb/superquail"
      ]
    },
    {
      "cell_type": "code",
      "execution_count": null,
      "metadata": {
        "colab": {
          "base_uri": "https://localhost:8080/",
          "height": 375
        },
        "id": "XJ5pQ55zkzHp",
        "outputId": "8be5a24d-501a-485d-fb12-aa087cd9656c"
      },
      "outputs": [
        {
          "output_type": "error",
          "ename": "AttributeError",
          "evalue": "ignored",
          "traceback": [
            "\u001b[0;31m---------------------------------------------------------------------------\u001b[0m",
            "\u001b[0;31mAttributeError\u001b[0m                            Traceback (most recent call last)",
            "\u001b[0;32m<ipython-input-6-2a1266d09bc9>\u001b[0m in \u001b[0;36m<module>\u001b[0;34m\u001b[0m\n\u001b[1;32m      2\u001b[0m \u001b[0;32mimport\u001b[0m \u001b[0mmatplotlib\u001b[0m\u001b[0;34m.\u001b[0m\u001b[0mpyplot\u001b[0m \u001b[0;32mas\u001b[0m \u001b[0mplt\u001b[0m\u001b[0;34m\u001b[0m\u001b[0;34m\u001b[0m\u001b[0m\n\u001b[1;32m      3\u001b[0m \u001b[0;32mimport\u001b[0m \u001b[0mmatplotlib\u001b[0m\u001b[0;34m.\u001b[0m\u001b[0mticker\u001b[0m \u001b[0;32mas\u001b[0m \u001b[0mmtick\u001b[0m\u001b[0;34m\u001b[0m\u001b[0;34m\u001b[0m\u001b[0m\n\u001b[0;32m----> 4\u001b[0;31m \u001b[0;32mimport\u001b[0m \u001b[0mseaborn\u001b[0m \u001b[0;32mas\u001b[0m \u001b[0msn\u001b[0m\u001b[0;34m\u001b[0m\u001b[0;34m\u001b[0m\u001b[0m\n\u001b[0m\u001b[1;32m      5\u001b[0m \u001b[0;32mimport\u001b[0m \u001b[0mpandas\u001b[0m \u001b[0;32mas\u001b[0m \u001b[0mpd\u001b[0m\u001b[0;34m\u001b[0m\u001b[0;34m\u001b[0m\u001b[0m\n\u001b[1;32m      6\u001b[0m \u001b[0;32mimport\u001b[0m \u001b[0mnumpy\u001b[0m \u001b[0;32mas\u001b[0m \u001b[0mnp\u001b[0m\u001b[0;34m\u001b[0m\u001b[0;34m\u001b[0m\u001b[0m\n",
            "\u001b[0;32m/usr/local/lib/python3.8/dist-packages/seaborn/__init__.py\u001b[0m in \u001b[0;36m<module>\u001b[0;34m\u001b[0m\n\u001b[1;32m      1\u001b[0m \u001b[0;31m# Import seaborn objects\u001b[0m\u001b[0;34m\u001b[0m\u001b[0;34m\u001b[0m\u001b[0;34m\u001b[0m\u001b[0m\n\u001b[0;32m----> 2\u001b[0;31m \u001b[0;32mfrom\u001b[0m \u001b[0;34m.\u001b[0m\u001b[0mrcmod\u001b[0m \u001b[0;32mimport\u001b[0m \u001b[0;34m*\u001b[0m  \u001b[0;31m# noqa: F401,F403\u001b[0m\u001b[0;34m\u001b[0m\u001b[0;34m\u001b[0m\u001b[0m\n\u001b[0m\u001b[1;32m      3\u001b[0m \u001b[0;32mfrom\u001b[0m \u001b[0;34m.\u001b[0m\u001b[0mutils\u001b[0m \u001b[0;32mimport\u001b[0m \u001b[0;34m*\u001b[0m  \u001b[0;31m# noqa: F401,F403\u001b[0m\u001b[0;34m\u001b[0m\u001b[0;34m\u001b[0m\u001b[0m\n\u001b[1;32m      4\u001b[0m \u001b[0;32mfrom\u001b[0m \u001b[0;34m.\u001b[0m\u001b[0mpalettes\u001b[0m \u001b[0;32mimport\u001b[0m \u001b[0;34m*\u001b[0m  \u001b[0;31m# noqa: F401,F403\u001b[0m\u001b[0;34m\u001b[0m\u001b[0;34m\u001b[0m\u001b[0m\n\u001b[1;32m      5\u001b[0m \u001b[0;32mfrom\u001b[0m \u001b[0;34m.\u001b[0m\u001b[0mrelational\u001b[0m \u001b[0;32mimport\u001b[0m \u001b[0;34m*\u001b[0m  \u001b[0;31m# noqa: F401,F403\u001b[0m\u001b[0;34m\u001b[0m\u001b[0;34m\u001b[0m\u001b[0m\n",
            "\u001b[0;32m/usr/local/lib/python3.8/dist-packages/seaborn/rcmod.py\u001b[0m in \u001b[0;36m<module>\u001b[0;34m\u001b[0m\n\u001b[1;32m      5\u001b[0m \u001b[0;32mimport\u001b[0m \u001b[0mmatplotlib\u001b[0m \u001b[0;32mas\u001b[0m \u001b[0mmpl\u001b[0m\u001b[0;34m\u001b[0m\u001b[0;34m\u001b[0m\u001b[0m\n\u001b[1;32m      6\u001b[0m \u001b[0;32mfrom\u001b[0m \u001b[0mcycler\u001b[0m \u001b[0;32mimport\u001b[0m \u001b[0mcycler\u001b[0m\u001b[0;34m\u001b[0m\u001b[0;34m\u001b[0m\u001b[0m\n\u001b[0;32m----> 7\u001b[0;31m \u001b[0;32mfrom\u001b[0m \u001b[0;34m.\u001b[0m \u001b[0;32mimport\u001b[0m \u001b[0mpalettes\u001b[0m\u001b[0;34m\u001b[0m\u001b[0;34m\u001b[0m\u001b[0m\n\u001b[0m\u001b[1;32m      8\u001b[0m \u001b[0;34m\u001b[0m\u001b[0m\n\u001b[1;32m      9\u001b[0m \u001b[0;34m\u001b[0m\u001b[0m\n",
            "\u001b[0;32m/usr/local/lib/python3.8/dist-packages/seaborn/palettes.py\u001b[0m in \u001b[0;36m<module>\u001b[0;34m\u001b[0m\n\u001b[1;32m      7\u001b[0m \u001b[0;32mfrom\u001b[0m \u001b[0;34m.\u001b[0m\u001b[0mexternal\u001b[0m \u001b[0;32mimport\u001b[0m \u001b[0mhusl\u001b[0m\u001b[0;34m\u001b[0m\u001b[0;34m\u001b[0m\u001b[0m\n\u001b[1;32m      8\u001b[0m \u001b[0;34m\u001b[0m\u001b[0m\n\u001b[0;32m----> 9\u001b[0;31m \u001b[0;32mfrom\u001b[0m \u001b[0;34m.\u001b[0m\u001b[0mutils\u001b[0m \u001b[0;32mimport\u001b[0m \u001b[0mdesaturate\u001b[0m\u001b[0;34m,\u001b[0m \u001b[0mget_color_cycle\u001b[0m\u001b[0;34m\u001b[0m\u001b[0;34m\u001b[0m\u001b[0m\n\u001b[0m\u001b[1;32m     10\u001b[0m \u001b[0;32mfrom\u001b[0m \u001b[0;34m.\u001b[0m\u001b[0mcolors\u001b[0m \u001b[0;32mimport\u001b[0m \u001b[0mxkcd_rgb\u001b[0m\u001b[0;34m,\u001b[0m \u001b[0mcrayons\u001b[0m\u001b[0;34m\u001b[0m\u001b[0;34m\u001b[0m\u001b[0m\n\u001b[1;32m     11\u001b[0m \u001b[0;34m\u001b[0m\u001b[0m\n",
            "\u001b[0;32m/usr/local/lib/python3.8/dist-packages/seaborn/utils.py\u001b[0m in \u001b[0;36m<module>\u001b[0;34m\u001b[0m\n\u001b[1;32m      8\u001b[0m \u001b[0;34m\u001b[0m\u001b[0m\n\u001b[1;32m      9\u001b[0m \u001b[0;32mimport\u001b[0m \u001b[0mnumpy\u001b[0m \u001b[0;32mas\u001b[0m \u001b[0mnp\u001b[0m\u001b[0;34m\u001b[0m\u001b[0;34m\u001b[0m\u001b[0m\n\u001b[0;32m---> 10\u001b[0;31m \u001b[0;32mfrom\u001b[0m \u001b[0mscipy\u001b[0m \u001b[0;32mimport\u001b[0m \u001b[0mstats\u001b[0m\u001b[0;34m\u001b[0m\u001b[0;34m\u001b[0m\u001b[0m\n\u001b[0m\u001b[1;32m     11\u001b[0m \u001b[0;32mimport\u001b[0m \u001b[0mpandas\u001b[0m \u001b[0;32mas\u001b[0m \u001b[0mpd\u001b[0m\u001b[0;34m\u001b[0m\u001b[0;34m\u001b[0m\u001b[0m\n\u001b[1;32m     12\u001b[0m \u001b[0;32mimport\u001b[0m \u001b[0mmatplotlib\u001b[0m \u001b[0;32mas\u001b[0m \u001b[0mmpl\u001b[0m\u001b[0;34m\u001b[0m\u001b[0;34m\u001b[0m\u001b[0m\n",
            "\u001b[0;32m/usr/local/lib/python3.8/dist-packages/scipy/stats/__init__.py\u001b[0m in \u001b[0;36m<module>\u001b[0;34m\u001b[0m\n\u001b[1;32m    439\u001b[0m \"\"\"\n\u001b[1;32m    440\u001b[0m \u001b[0;34m\u001b[0m\u001b[0m\n\u001b[0;32m--> 441\u001b[0;31m \u001b[0;32mfrom\u001b[0m \u001b[0;34m.\u001b[0m\u001b[0mstats\u001b[0m \u001b[0;32mimport\u001b[0m \u001b[0;34m*\u001b[0m\u001b[0;34m\u001b[0m\u001b[0;34m\u001b[0m\u001b[0m\n\u001b[0m\u001b[1;32m    442\u001b[0m \u001b[0;32mfrom\u001b[0m \u001b[0;34m.\u001b[0m\u001b[0mdistributions\u001b[0m \u001b[0;32mimport\u001b[0m \u001b[0;34m*\u001b[0m\u001b[0;34m\u001b[0m\u001b[0;34m\u001b[0m\u001b[0m\n\u001b[1;32m    443\u001b[0m \u001b[0;32mfrom\u001b[0m \u001b[0;34m.\u001b[0m\u001b[0mmorestats\u001b[0m \u001b[0;32mimport\u001b[0m \u001b[0;34m*\u001b[0m\u001b[0;34m\u001b[0m\u001b[0;34m\u001b[0m\u001b[0m\n",
            "\u001b[0;32m/usr/local/lib/python3.8/dist-packages/scipy/stats/stats.py\u001b[0m in \u001b[0;36m<module>\u001b[0;34m\u001b[0m\n\u001b[1;32m     41\u001b[0m \u001b[0;32mimport\u001b[0m \u001b[0mscipy\u001b[0m\u001b[0;34m.\u001b[0m\u001b[0mspecial\u001b[0m \u001b[0;32mas\u001b[0m \u001b[0mspecial\u001b[0m\u001b[0;34m\u001b[0m\u001b[0;34m\u001b[0m\u001b[0m\n\u001b[1;32m     42\u001b[0m \u001b[0;32mfrom\u001b[0m \u001b[0mscipy\u001b[0m \u001b[0;32mimport\u001b[0m \u001b[0mlinalg\u001b[0m\u001b[0;34m\u001b[0m\u001b[0;34m\u001b[0m\u001b[0m\n\u001b[0;32m---> 43\u001b[0;31m \u001b[0;32mfrom\u001b[0m \u001b[0;34m.\u001b[0m \u001b[0;32mimport\u001b[0m \u001b[0mdistributions\u001b[0m\u001b[0;34m\u001b[0m\u001b[0;34m\u001b[0m\u001b[0m\n\u001b[0m\u001b[1;32m     44\u001b[0m \u001b[0;32mfrom\u001b[0m \u001b[0;34m.\u001b[0m \u001b[0;32mimport\u001b[0m \u001b[0mmstats_basic\u001b[0m\u001b[0;34m\u001b[0m\u001b[0;34m\u001b[0m\u001b[0m\n\u001b[1;32m     45\u001b[0m from ._stats_mstats_common import (_find_repeats, linregress, theilslopes,\n",
            "\u001b[0;32m/usr/local/lib/python3.8/dist-packages/scipy/stats/distributions.py\u001b[0m in \u001b[0;36m<module>\u001b[0;34m\u001b[0m\n\u001b[1;32m      6\u001b[0m \u001b[0;31m#       instead of `git blame -Lxxx,+x`.\u001b[0m\u001b[0;34m\u001b[0m\u001b[0;34m\u001b[0m\u001b[0;34m\u001b[0m\u001b[0m\n\u001b[1;32m      7\u001b[0m \u001b[0;31m#\u001b[0m\u001b[0;34m\u001b[0m\u001b[0;34m\u001b[0m\u001b[0;34m\u001b[0m\u001b[0m\n\u001b[0;32m----> 8\u001b[0;31m \u001b[0;32mfrom\u001b[0m \u001b[0;34m.\u001b[0m\u001b[0m_distn_infrastructure\u001b[0m \u001b[0;32mimport\u001b[0m \u001b[0;34m(\u001b[0m\u001b[0mrv_discrete\u001b[0m\u001b[0;34m,\u001b[0m \u001b[0mrv_continuous\u001b[0m\u001b[0;34m,\u001b[0m \u001b[0mrv_frozen\u001b[0m\u001b[0;34m)\u001b[0m\u001b[0;34m\u001b[0m\u001b[0;34m\u001b[0m\u001b[0m\n\u001b[0m\u001b[1;32m      9\u001b[0m \u001b[0;34m\u001b[0m\u001b[0m\n\u001b[1;32m     10\u001b[0m \u001b[0;32mfrom\u001b[0m \u001b[0;34m.\u001b[0m \u001b[0;32mimport\u001b[0m \u001b[0m_continuous_distns\u001b[0m\u001b[0;34m\u001b[0m\u001b[0;34m\u001b[0m\u001b[0m\n",
            "\u001b[0;32m/usr/local/lib/python3.8/dist-packages/scipy/stats/_distn_infrastructure.py\u001b[0m in \u001b[0;36m<module>\u001b[0;34m\u001b[0m\n\u001b[1;32m     22\u001b[0m \u001b[0;31m# for root finding for continuous distribution ppf, and max likelihood\u001b[0m\u001b[0;34m\u001b[0m\u001b[0;34m\u001b[0m\u001b[0;34m\u001b[0m\u001b[0m\n\u001b[1;32m     23\u001b[0m \u001b[0;31m# estimation\u001b[0m\u001b[0;34m\u001b[0m\u001b[0;34m\u001b[0m\u001b[0;34m\u001b[0m\u001b[0m\n\u001b[0;32m---> 24\u001b[0;31m \u001b[0;32mfrom\u001b[0m \u001b[0mscipy\u001b[0m \u001b[0;32mimport\u001b[0m \u001b[0moptimize\u001b[0m\u001b[0;34m\u001b[0m\u001b[0;34m\u001b[0m\u001b[0m\n\u001b[0m\u001b[1;32m     25\u001b[0m \u001b[0;34m\u001b[0m\u001b[0m\n\u001b[1;32m     26\u001b[0m \u001b[0;31m# for functions of continuous distributions (e.g. moments, entropy, cdf)\u001b[0m\u001b[0;34m\u001b[0m\u001b[0;34m\u001b[0m\u001b[0;34m\u001b[0m\u001b[0m\n",
            "\u001b[0;32m/usr/local/lib/python3.8/dist-packages/scipy/optimize/__init__.py\u001b[0m in \u001b[0;36m<module>\u001b[0;34m\u001b[0m\n\u001b[1;32m    399\u001b[0m \u001b[0;34m\u001b[0m\u001b[0m\n\u001b[1;32m    400\u001b[0m \u001b[0;32mfrom\u001b[0m \u001b[0;34m.\u001b[0m\u001b[0moptimize\u001b[0m \u001b[0;32mimport\u001b[0m \u001b[0;34m*\u001b[0m\u001b[0;34m\u001b[0m\u001b[0;34m\u001b[0m\u001b[0m\n\u001b[0;32m--> 401\u001b[0;31m \u001b[0;32mfrom\u001b[0m \u001b[0;34m.\u001b[0m\u001b[0m_minimize\u001b[0m \u001b[0;32mimport\u001b[0m \u001b[0;34m*\u001b[0m\u001b[0;34m\u001b[0m\u001b[0;34m\u001b[0m\u001b[0m\n\u001b[0m\u001b[1;32m    402\u001b[0m \u001b[0;32mfrom\u001b[0m \u001b[0;34m.\u001b[0m\u001b[0m_root\u001b[0m \u001b[0;32mimport\u001b[0m \u001b[0;34m*\u001b[0m\u001b[0;34m\u001b[0m\u001b[0;34m\u001b[0m\u001b[0m\n\u001b[1;32m    403\u001b[0m \u001b[0;32mfrom\u001b[0m \u001b[0;34m.\u001b[0m\u001b[0m_root_scalar\u001b[0m \u001b[0;32mimport\u001b[0m \u001b[0;34m*\u001b[0m\u001b[0;34m\u001b[0m\u001b[0;34m\u001b[0m\u001b[0m\n",
            "\u001b[0;32m/usr/local/lib/python3.8/dist-packages/scipy/optimize/_minimize.py\u001b[0m in \u001b[0;36m<module>\u001b[0;34m\u001b[0m\n\u001b[1;32m     25\u001b[0m \u001b[0;32mfrom\u001b[0m \u001b[0;34m.\u001b[0m\u001b[0m_trustregion_krylov\u001b[0m \u001b[0;32mimport\u001b[0m \u001b[0m_minimize_trust_krylov\u001b[0m\u001b[0;34m\u001b[0m\u001b[0;34m\u001b[0m\u001b[0m\n\u001b[1;32m     26\u001b[0m \u001b[0;32mfrom\u001b[0m \u001b[0;34m.\u001b[0m\u001b[0m_trustregion_exact\u001b[0m \u001b[0;32mimport\u001b[0m \u001b[0m_minimize_trustregion_exact\u001b[0m\u001b[0;34m\u001b[0m\u001b[0;34m\u001b[0m\u001b[0m\n\u001b[0;32m---> 27\u001b[0;31m \u001b[0;32mfrom\u001b[0m \u001b[0;34m.\u001b[0m\u001b[0m_trustregion_constr\u001b[0m \u001b[0;32mimport\u001b[0m \u001b[0m_minimize_trustregion_constr\u001b[0m\u001b[0;34m\u001b[0m\u001b[0;34m\u001b[0m\u001b[0m\n\u001b[0m\u001b[1;32m     28\u001b[0m \u001b[0;34m\u001b[0m\u001b[0m\n\u001b[1;32m     29\u001b[0m \u001b[0;31m# constrained minimization\u001b[0m\u001b[0;34m\u001b[0m\u001b[0;34m\u001b[0m\u001b[0;34m\u001b[0m\u001b[0m\n",
            "\u001b[0;32m/usr/local/lib/python3.8/dist-packages/scipy/optimize/_trustregion_constr/__init__.py\u001b[0m in \u001b[0;36m<module>\u001b[0;34m\u001b[0m\n\u001b[1;32m      2\u001b[0m \u001b[0;34m\u001b[0m\u001b[0m\n\u001b[1;32m      3\u001b[0m \u001b[0;34m\u001b[0m\u001b[0m\n\u001b[0;32m----> 4\u001b[0;31m \u001b[0;32mfrom\u001b[0m \u001b[0;34m.\u001b[0m\u001b[0mminimize_trustregion_constr\u001b[0m \u001b[0;32mimport\u001b[0m \u001b[0m_minimize_trustregion_constr\u001b[0m\u001b[0;34m\u001b[0m\u001b[0;34m\u001b[0m\u001b[0m\n\u001b[0m\u001b[1;32m      5\u001b[0m \u001b[0;34m\u001b[0m\u001b[0m\n\u001b[1;32m      6\u001b[0m \u001b[0m__all__\u001b[0m \u001b[0;34m=\u001b[0m \u001b[0;34m[\u001b[0m\u001b[0;34m'_minimize_trustregion_constr'\u001b[0m\u001b[0;34m]\u001b[0m\u001b[0;34m\u001b[0m\u001b[0;34m\u001b[0m\u001b[0m\n",
            "\u001b[0;32m/usr/local/lib/python3.8/dist-packages/scipy/optimize/_trustregion_constr/minimize_trustregion_constr.py\u001b[0m in \u001b[0;36m<module>\u001b[0;34m\u001b[0m\n\u001b[1;32m      3\u001b[0m \u001b[0;32mfrom\u001b[0m \u001b[0mscipy\u001b[0m\u001b[0;34m.\u001b[0m\u001b[0msparse\u001b[0m\u001b[0;34m.\u001b[0m\u001b[0mlinalg\u001b[0m \u001b[0;32mimport\u001b[0m \u001b[0mLinearOperator\u001b[0m\u001b[0;34m\u001b[0m\u001b[0;34m\u001b[0m\u001b[0m\n\u001b[1;32m      4\u001b[0m \u001b[0;32mfrom\u001b[0m \u001b[0;34m.\u001b[0m\u001b[0;34m.\u001b[0m\u001b[0m_differentiable_functions\u001b[0m \u001b[0;32mimport\u001b[0m \u001b[0mVectorFunction\u001b[0m\u001b[0;34m\u001b[0m\u001b[0;34m\u001b[0m\u001b[0m\n\u001b[0;32m----> 5\u001b[0;31m from .._constraints import (\n\u001b[0m\u001b[1;32m      6\u001b[0m     NonlinearConstraint, LinearConstraint, PreparedConstraint, strict_bounds)\n\u001b[1;32m      7\u001b[0m \u001b[0;32mfrom\u001b[0m \u001b[0;34m.\u001b[0m\u001b[0;34m.\u001b[0m\u001b[0m_hessian_update_strategy\u001b[0m \u001b[0;32mimport\u001b[0m \u001b[0mBFGS\u001b[0m\u001b[0;34m\u001b[0m\u001b[0;34m\u001b[0m\u001b[0m\n",
            "\u001b[0;32m/usr/local/lib/python3.8/dist-packages/scipy/optimize/_constraints.py\u001b[0m in \u001b[0;36m<module>\u001b[0;34m\u001b[0m\n\u001b[1;32m      6\u001b[0m \u001b[0;32mfrom\u001b[0m \u001b[0;34m.\u001b[0m\u001b[0moptimize\u001b[0m \u001b[0;32mimport\u001b[0m \u001b[0mOptimizeWarning\u001b[0m\u001b[0;34m\u001b[0m\u001b[0;34m\u001b[0m\u001b[0m\n\u001b[1;32m      7\u001b[0m \u001b[0;32mfrom\u001b[0m \u001b[0mwarnings\u001b[0m \u001b[0;32mimport\u001b[0m \u001b[0mwarn\u001b[0m\u001b[0;34m\u001b[0m\u001b[0;34m\u001b[0m\u001b[0m\n\u001b[0;32m----> 8\u001b[0;31m \u001b[0;32mfrom\u001b[0m \u001b[0mnumpy\u001b[0m\u001b[0;34m.\u001b[0m\u001b[0mtesting\u001b[0m \u001b[0;32mimport\u001b[0m \u001b[0msuppress_warnings\u001b[0m\u001b[0;34m\u001b[0m\u001b[0;34m\u001b[0m\u001b[0m\n\u001b[0m\u001b[1;32m      9\u001b[0m \u001b[0;32mfrom\u001b[0m \u001b[0mscipy\u001b[0m\u001b[0;34m.\u001b[0m\u001b[0msparse\u001b[0m \u001b[0;32mimport\u001b[0m \u001b[0missparse\u001b[0m\u001b[0;34m\u001b[0m\u001b[0;34m\u001b[0m\u001b[0m\n\u001b[1;32m     10\u001b[0m \u001b[0;34m\u001b[0m\u001b[0m\n",
            "\u001b[0;32m/usr/local/lib/python3.8/dist-packages/numpy/testing/__init__.py\u001b[0m in \u001b[0;36m<module>\u001b[0;34m\u001b[0m\n\u001b[1;32m      9\u001b[0m \u001b[0;34m\u001b[0m\u001b[0m\n\u001b[1;32m     10\u001b[0m \u001b[0;32mfrom\u001b[0m \u001b[0;34m.\u001b[0m \u001b[0;32mimport\u001b[0m \u001b[0m_private\u001b[0m\u001b[0;34m\u001b[0m\u001b[0;34m\u001b[0m\u001b[0m\n\u001b[0;32m---> 11\u001b[0;31m \u001b[0;32mfrom\u001b[0m \u001b[0;34m.\u001b[0m\u001b[0m_private\u001b[0m\u001b[0;34m.\u001b[0m\u001b[0mutils\u001b[0m \u001b[0;32mimport\u001b[0m \u001b[0;34m*\u001b[0m\u001b[0;34m\u001b[0m\u001b[0;34m\u001b[0m\u001b[0m\n\u001b[0m\u001b[1;32m     12\u001b[0m \u001b[0;32mfrom\u001b[0m \u001b[0;34m.\u001b[0m\u001b[0m_private\u001b[0m\u001b[0;34m.\u001b[0m\u001b[0mutils\u001b[0m \u001b[0;32mimport\u001b[0m \u001b[0;34m(\u001b[0m\u001b[0m_assert_valid_refcount\u001b[0m\u001b[0;34m,\u001b[0m \u001b[0m_gen_alignment_data\u001b[0m\u001b[0;34m)\u001b[0m\u001b[0;34m\u001b[0m\u001b[0;34m\u001b[0m\u001b[0m\n\u001b[1;32m     13\u001b[0m \u001b[0;32mfrom\u001b[0m \u001b[0;34m.\u001b[0m\u001b[0m_private\u001b[0m \u001b[0;32mimport\u001b[0m \u001b[0mextbuild\u001b[0m\u001b[0;34m,\u001b[0m \u001b[0mdecorators\u001b[0m \u001b[0;32mas\u001b[0m \u001b[0mdec\u001b[0m\u001b[0;34m\u001b[0m\u001b[0;34m\u001b[0m\u001b[0m\n",
            "\u001b[0;32m/usr/local/lib/python3.8/dist-packages/numpy/testing/_private/utils.py\u001b[0m in \u001b[0;36m<module>\u001b[0;34m\u001b[0m\n\u001b[1;32m    478\u001b[0m \u001b[0;34m\u001b[0m\u001b[0m\n\u001b[1;32m    479\u001b[0m \u001b[0;34m\u001b[0m\u001b[0m\n\u001b[0;32m--> 480\u001b[0;31m \u001b[0;34m@\u001b[0m\u001b[0mnp\u001b[0m\u001b[0;34m.\u001b[0m\u001b[0m_no_nep50_warning\u001b[0m\u001b[0;34m(\u001b[0m\u001b[0;34m)\u001b[0m\u001b[0;34m\u001b[0m\u001b[0;34m\u001b[0m\u001b[0m\n\u001b[0m\u001b[1;32m    481\u001b[0m \u001b[0;32mdef\u001b[0m \u001b[0massert_almost_equal\u001b[0m\u001b[0;34m(\u001b[0m\u001b[0mactual\u001b[0m\u001b[0;34m,\u001b[0m\u001b[0mdesired\u001b[0m\u001b[0;34m,\u001b[0m\u001b[0mdecimal\u001b[0m\u001b[0;34m=\u001b[0m\u001b[0;36m7\u001b[0m\u001b[0;34m,\u001b[0m\u001b[0merr_msg\u001b[0m\u001b[0;34m=\u001b[0m\u001b[0;34m''\u001b[0m\u001b[0;34m,\u001b[0m\u001b[0mverbose\u001b[0m\u001b[0;34m=\u001b[0m\u001b[0;32mTrue\u001b[0m\u001b[0;34m)\u001b[0m\u001b[0;34m:\u001b[0m\u001b[0;34m\u001b[0m\u001b[0;34m\u001b[0m\u001b[0m\n\u001b[1;32m    482\u001b[0m     \"\"\"\n",
            "\u001b[0;32m/usr/local/lib/python3.8/dist-packages/numpy/__init__.py\u001b[0m in \u001b[0;36m__getattr__\u001b[0;34m(attr)\u001b[0m\n\u001b[1;32m    311\u001b[0m             \u001b[0mx\u001b[0m \u001b[0;34m=\u001b[0m \u001b[0mones\u001b[0m\u001b[0;34m(\u001b[0m\u001b[0;36m2\u001b[0m\u001b[0;34m,\u001b[0m \u001b[0mdtype\u001b[0m\u001b[0;34m=\u001b[0m\u001b[0mfloat32\u001b[0m\u001b[0;34m)\u001b[0m\u001b[0;34m\u001b[0m\u001b[0;34m\u001b[0m\u001b[0m\n\u001b[1;32m    312\u001b[0m             \u001b[0;32mif\u001b[0m \u001b[0;32mnot\u001b[0m \u001b[0mabs\u001b[0m\u001b[0;34m(\u001b[0m\u001b[0mx\u001b[0m\u001b[0;34m.\u001b[0m\u001b[0mdot\u001b[0m\u001b[0;34m(\u001b[0m\u001b[0mx\u001b[0m\u001b[0;34m)\u001b[0m \u001b[0;34m-\u001b[0m \u001b[0mfloat32\u001b[0m\u001b[0;34m(\u001b[0m\u001b[0;36m2.0\u001b[0m\u001b[0;34m)\u001b[0m\u001b[0;34m)\u001b[0m \u001b[0;34m<\u001b[0m \u001b[0;36m1e-5\u001b[0m\u001b[0;34m:\u001b[0m\u001b[0;34m\u001b[0m\u001b[0;34m\u001b[0m\u001b[0m\n\u001b[0;32m--> 313\u001b[0;31m                 \u001b[0;32mraise\u001b[0m \u001b[0mAssertionError\u001b[0m\u001b[0;34m(\u001b[0m\u001b[0;34m)\u001b[0m\u001b[0;34m\u001b[0m\u001b[0;34m\u001b[0m\u001b[0m\n\u001b[0m\u001b[1;32m    314\u001b[0m         \u001b[0;32mexcept\u001b[0m \u001b[0mAssertionError\u001b[0m\u001b[0;34m:\u001b[0m\u001b[0;34m\u001b[0m\u001b[0;34m\u001b[0m\u001b[0m\n\u001b[1;32m    315\u001b[0m             msg = (\"The current Numpy installation ({!r}) fails to \"\n",
            "\u001b[0;31mAttributeError\u001b[0m: module 'numpy' has no attribute '_no_nep50_warning'"
          ]
        }
      ],
      "source": [
        "#@markdown\n",
        "import matplotlib.pyplot as plt\n",
        "import matplotlib.ticker as mtick\n",
        "import seaborn as sn\n",
        "import pandas as pd\n",
        "import numpy as np\n",
        "from sklearn.model_selection import train_test_split\n",
        "from sklearn.preprocessing import StandardScaler\n",
        "from sklearn.linear_model import LogisticRegression\n",
        "import sklearn.metrics as skm\n",
        "from sklearn.model_selection import cross_val_score\n",
        "import matplotlib.ticker as ticker\n",
        "\n",
        "from folktables import ACSDataSource, ACSEmployment, ACSIncome, ACSPublicCoverage, ACSTravelTime\n",
        "from superquail.data.acs_helper import ACSData\n",
        "\n",
        "from fairlearn.metrics import MetricFrame\n",
        "from fairlearn.metrics import demographic_parity_difference, demographic_parity_ratio, selection_rate\n",
        "from fairlearn.metrics import false_negative_rate, false_positive_rate\n",
        "\n",
        "from IPython.display import clear_output "
      ]
    },
    {
      "cell_type": "markdown",
      "metadata": {
        "id": "XttcS7t0SNbL"
      },
      "source": [
        "#2. Load Data, Conduct Exploratory Analysis, and Preprocess Data\n",
        "Next, we will load the Folktables dataset.  The Folktables dataset is taken from US Census Data and is built to solve a few simple prediction tasks. The sample we pull is data from 2018 in California. The column names are described in the table below. Note that certain categorical variables have been mapped to integer values, which we will keep as-is for the following analyses.\n",
        "\n",
        "For more information on the this dataset, please see the following paper (namely page 18): https://eaamo2021.eaamo.org/accepted/acceptednonarchival/EAMO21_paper_16.pdf"
      ]
    },
    {
      "cell_type": "markdown",
      "metadata": {
        "id": "ErJSui-veHGd"
      },
      "source": [
        "| Column Name | Feature | Description/Notes |\n",
        "| --- | ----------- | --- |\n",
        "| PINCP | Total person’s income | (Target) 1 if >= $50k, 0 if less |\n",
        "| SEX | Sex | (Sensitive Attribute) Male=1, Female=2 |\n",
        "| RAC1P | Race | (Sensitive Attribute) White=1, Black=2, Other races are between 3 and 9 |\n",
        "| AGEP | Age | Ranges from 0-99 |\n",
        "| COW | Class of Worker | Ranges 1-9, see paper for description |\n",
        "| SCHL | Education Level | Ranges 1-24, see paper for description |\n",
        "| MAR | Marital Status | Ranges 1-5, see paper for description |\n",
        "| OCCP | Occupation | Codes taken from Public Use Microdata Sample (PUMS) from the US Census, see paper |\n",
        "| POBP | Place of Birth | Codes taken from Public Use Microdata Sample (PUMS) from the US Census, see paper |\n",
        "| RELP | Relationship | Relationship of individual to person who responded to the Census taker. Ranges 0-17, see paper for description |\n",
        "| WKHP | Hours worked per week | Ranges from 0-99, averaged over previous year |"
      ]
    },
    {
      "cell_type": "code",
      "execution_count": null,
      "metadata": {
        "cellView": "form",
        "colab": {
          "base_uri": "https://localhost:8080/",
          "height": 223
        },
        "id": "MgVUEi3nET1p",
        "outputId": "fd2ecb75-a0d1-42be-d801-977e33b2f2ac"
      },
      "outputs": [
        {
          "name": "stdout",
          "output_type": "stream",
          "text": [
            "(70000, 11)\n"
          ]
        },
        {
          "data": {
            "text/html": [
              "<div>\n",
              "<style scoped>\n",
              "    .dataframe tbody tr th:only-of-type {\n",
              "        vertical-align: middle;\n",
              "    }\n",
              "\n",
              "    .dataframe tbody tr th {\n",
              "        vertical-align: top;\n",
              "    }\n",
              "\n",
              "    .dataframe thead th {\n",
              "        text-align: right;\n",
              "    }\n",
              "</style>\n",
              "<table border=\"1\" class=\"dataframe\">\n",
              "  <thead>\n",
              "    <tr style=\"text-align: right;\">\n",
              "      <th></th>\n",
              "      <th>AGEP</th>\n",
              "      <th>COW</th>\n",
              "      <th>SCHL</th>\n",
              "      <th>MAR</th>\n",
              "      <th>OCCP</th>\n",
              "      <th>POBP</th>\n",
              "      <th>RELP</th>\n",
              "      <th>WKHP</th>\n",
              "      <th>SEX</th>\n",
              "      <th>RAC1P</th>\n",
              "      <th>PINCP</th>\n",
              "    </tr>\n",
              "  </thead>\n",
              "  <tbody>\n",
              "    <tr>\n",
              "      <th>0</th>\n",
              "      <td>36.0</td>\n",
              "      <td>3.0</td>\n",
              "      <td>21.0</td>\n",
              "      <td>5.0</td>\n",
              "      <td>2310.0</td>\n",
              "      <td>247.0</td>\n",
              "      <td>2.0</td>\n",
              "      <td>40.0</td>\n",
              "      <td>2.0</td>\n",
              "      <td>6.0</td>\n",
              "      <td>1.0</td>\n",
              "    </tr>\n",
              "    <tr>\n",
              "      <th>1</th>\n",
              "      <td>58.0</td>\n",
              "      <td>1.0</td>\n",
              "      <td>22.0</td>\n",
              "      <td>1.0</td>\n",
              "      <td>800.0</td>\n",
              "      <td>6.0</td>\n",
              "      <td>0.0</td>\n",
              "      <td>40.0</td>\n",
              "      <td>1.0</td>\n",
              "      <td>1.0</td>\n",
              "      <td>1.0</td>\n",
              "    </tr>\n",
              "    <tr>\n",
              "      <th>2</th>\n",
              "      <td>28.0</td>\n",
              "      <td>1.0</td>\n",
              "      <td>22.0</td>\n",
              "      <td>1.0</td>\n",
              "      <td>710.0</td>\n",
              "      <td>207.0</td>\n",
              "      <td>1.0</td>\n",
              "      <td>40.0</td>\n",
              "      <td>2.0</td>\n",
              "      <td>6.0</td>\n",
              "      <td>1.0</td>\n",
              "    </tr>\n",
              "    <tr>\n",
              "      <th>3</th>\n",
              "      <td>30.0</td>\n",
              "      <td>1.0</td>\n",
              "      <td>22.0</td>\n",
              "      <td>5.0</td>\n",
              "      <td>5860.0</td>\n",
              "      <td>6.0</td>\n",
              "      <td>2.0</td>\n",
              "      <td>50.0</td>\n",
              "      <td>1.0</td>\n",
              "      <td>6.0</td>\n",
              "      <td>0.0</td>\n",
              "    </tr>\n",
              "    <tr>\n",
              "      <th>4</th>\n",
              "      <td>55.0</td>\n",
              "      <td>5.0</td>\n",
              "      <td>16.0</td>\n",
              "      <td>3.0</td>\n",
              "      <td>5540.0</td>\n",
              "      <td>303.0</td>\n",
              "      <td>0.0</td>\n",
              "      <td>40.0</td>\n",
              "      <td>2.0</td>\n",
              "      <td>1.0</td>\n",
              "      <td>1.0</td>\n",
              "    </tr>\n",
              "  </tbody>\n",
              "</table>\n",
              "</div>"
            ],
            "text/plain": [
              "   AGEP  COW  SCHL  MAR    OCCP   POBP  RELP  WKHP  SEX  RAC1P  PINCP\n",
              "0  36.0  3.0  21.0  5.0  2310.0  247.0   2.0  40.0  2.0    6.0    1.0\n",
              "1  58.0  1.0  22.0  1.0   800.0    6.0   0.0  40.0  1.0    1.0    1.0\n",
              "2  28.0  1.0  22.0  1.0   710.0  207.0   1.0  40.0  2.0    6.0    1.0\n",
              "3  30.0  1.0  22.0  5.0  5860.0    6.0   2.0  50.0  1.0    6.0    0.0\n",
              "4  55.0  5.0  16.0  3.0  5540.0  303.0   0.0  40.0  2.0    1.0    1.0"
            ]
          },
          "execution_count": 2,
          "metadata": {},
          "output_type": "execute_result"
        }
      ],
      "source": [
        "#@markdown Read in the folktables dataset \n",
        "full_df, features_df, target_df, groups_df = ACSData().return_acs_data_scenario(scenario=\"ACSIncome\", subsample=70000)\n",
        "\n",
        "print(full_df.shape)\n",
        "full_df.head()"
      ]
    },
    {
      "cell_type": "code",
      "execution_count": null,
      "metadata": {
        "cellView": "form",
        "colab": {
          "base_uri": "https://localhost:8080/"
        },
        "id": "9D-hmorRFKia",
        "outputId": "05fc50c9-f34c-4b20-a85a-124e77e1f3ce"
      },
      "outputs": [
        {
          "name": "stdout",
          "output_type": "stream",
          "text": [
            "<class 'pandas.core.frame.DataFrame'>\n",
            "RangeIndex: 70000 entries, 0 to 69999\n",
            "Data columns (total 11 columns):\n",
            " #   Column  Non-Null Count  Dtype  \n",
            "---  ------  --------------  -----  \n",
            " 0   AGEP    70000 non-null  float64\n",
            " 1   COW     70000 non-null  float64\n",
            " 2   SCHL    70000 non-null  float64\n",
            " 3   MAR     70000 non-null  float64\n",
            " 4   OCCP    70000 non-null  float64\n",
            " 5   POBP    70000 non-null  float64\n",
            " 6   RELP    70000 non-null  float64\n",
            " 7   WKHP    70000 non-null  float64\n",
            " 8   SEX     70000 non-null  float64\n",
            " 9   RAC1P   70000 non-null  float64\n",
            " 10  PINCP   70000 non-null  float64\n",
            "dtypes: float64(11)\n",
            "memory usage: 5.9 MB\n"
          ]
        }
      ],
      "source": [
        "#@markdown Check missing values and data types\n",
        "full_df.info()"
      ]
    },
    {
      "cell_type": "code",
      "execution_count": null,
      "metadata": {
        "cellView": "form",
        "colab": {
          "base_uri": "https://localhost:8080/",
          "height": 518
        },
        "id": "j1x2mdUaID9G",
        "outputId": "75b27e98-ac14-443a-c9e4-f07a5bf6ef5f"
      },
      "outputs": [
        {
          "name": "stdout",
          "output_type": "stream",
          "text": [
            "<class 'pandas.core.frame.DataFrame'>\n",
            "RangeIndex: 70000 entries, 0 to 69999\n",
            "Data columns (total 11 columns):\n",
            " #   Column  Non-Null Count  Dtype  \n",
            "---  ------  --------------  -----  \n",
            " 0   AGEP    70000 non-null  float64\n",
            " 1   COW     70000 non-null  object \n",
            " 2   SCHL    70000 non-null  object \n",
            " 3   MAR     70000 non-null  object \n",
            " 4   OCCP    70000 non-null  object \n",
            " 5   POBP    70000 non-null  object \n",
            " 6   RELP    70000 non-null  object \n",
            " 7   WKHP    70000 non-null  float64\n",
            " 8   SEX     70000 non-null  object \n",
            " 9   RAC1P   70000 non-null  object \n",
            " 10  PINCP   70000 non-null  float64\n",
            "dtypes: float64(3), object(8)\n",
            "memory usage: 5.9+ MB\n"
          ]
        },
        {
          "data": {
            "text/html": [
              "<div>\n",
              "<style scoped>\n",
              "    .dataframe tbody tr th:only-of-type {\n",
              "        vertical-align: middle;\n",
              "    }\n",
              "\n",
              "    .dataframe tbody tr th {\n",
              "        vertical-align: top;\n",
              "    }\n",
              "\n",
              "    .dataframe thead th {\n",
              "        text-align: right;\n",
              "    }\n",
              "</style>\n",
              "<table border=\"1\" class=\"dataframe\">\n",
              "  <thead>\n",
              "    <tr style=\"text-align: right;\">\n",
              "      <th></th>\n",
              "      <th>AGEP</th>\n",
              "      <th>COW</th>\n",
              "      <th>SCHL</th>\n",
              "      <th>MAR</th>\n",
              "      <th>OCCP</th>\n",
              "      <th>POBP</th>\n",
              "      <th>RELP</th>\n",
              "      <th>WKHP</th>\n",
              "      <th>SEX</th>\n",
              "      <th>RAC1P</th>\n",
              "      <th>PINCP</th>\n",
              "    </tr>\n",
              "  </thead>\n",
              "  <tbody>\n",
              "    <tr>\n",
              "      <th>0</th>\n",
              "      <td>36.0</td>\n",
              "      <td>3</td>\n",
              "      <td>21</td>\n",
              "      <td>5</td>\n",
              "      <td>2310</td>\n",
              "      <td>247</td>\n",
              "      <td>2</td>\n",
              "      <td>40.0</td>\n",
              "      <td>2</td>\n",
              "      <td>6</td>\n",
              "      <td>1.0</td>\n",
              "    </tr>\n",
              "    <tr>\n",
              "      <th>1</th>\n",
              "      <td>58.0</td>\n",
              "      <td>1</td>\n",
              "      <td>22</td>\n",
              "      <td>1</td>\n",
              "      <td>800</td>\n",
              "      <td>6</td>\n",
              "      <td>0</td>\n",
              "      <td>40.0</td>\n",
              "      <td>1</td>\n",
              "      <td>1</td>\n",
              "      <td>1.0</td>\n",
              "    </tr>\n",
              "    <tr>\n",
              "      <th>2</th>\n",
              "      <td>28.0</td>\n",
              "      <td>1</td>\n",
              "      <td>22</td>\n",
              "      <td>1</td>\n",
              "      <td>710</td>\n",
              "      <td>207</td>\n",
              "      <td>1</td>\n",
              "      <td>40.0</td>\n",
              "      <td>2</td>\n",
              "      <td>6</td>\n",
              "      <td>1.0</td>\n",
              "    </tr>\n",
              "    <tr>\n",
              "      <th>3</th>\n",
              "      <td>30.0</td>\n",
              "      <td>1</td>\n",
              "      <td>22</td>\n",
              "      <td>5</td>\n",
              "      <td>5860</td>\n",
              "      <td>6</td>\n",
              "      <td>2</td>\n",
              "      <td>50.0</td>\n",
              "      <td>1</td>\n",
              "      <td>6</td>\n",
              "      <td>0.0</td>\n",
              "    </tr>\n",
              "    <tr>\n",
              "      <th>4</th>\n",
              "      <td>55.0</td>\n",
              "      <td>5</td>\n",
              "      <td>16</td>\n",
              "      <td>3</td>\n",
              "      <td>5540</td>\n",
              "      <td>303</td>\n",
              "      <td>0</td>\n",
              "      <td>40.0</td>\n",
              "      <td>2</td>\n",
              "      <td>1</td>\n",
              "      <td>1.0</td>\n",
              "    </tr>\n",
              "  </tbody>\n",
              "</table>\n",
              "</div>"
            ],
            "text/plain": [
              "   AGEP COW SCHL MAR  OCCP POBP RELP  WKHP SEX RAC1P  PINCP\n",
              "0  36.0   3   21   5  2310  247    2  40.0   2     6    1.0\n",
              "1  58.0   1   22   1   800    6    0  40.0   1     1    1.0\n",
              "2  28.0   1   22   1   710  207    1  40.0   2     6    1.0\n",
              "3  30.0   1   22   5  5860    6    2  50.0   1     6    0.0\n",
              "4  55.0   5   16   3  5540  303    0  40.0   2     1    1.0"
            ]
          },
          "execution_count": 4,
          "metadata": {},
          "output_type": "execute_result"
        }
      ],
      "source": [
        "#@markdown Change data types of categorical features\n",
        "numerical_cols = ['AGEP','WKHP']\n",
        "categorical_cols = ['COW','SCHL','MAR','OCCP','POBP','RELP','RAC1P','SEX']\n",
        "\n",
        "for col in categorical_cols:\n",
        "  full_df[col] = full_df[col].astype('int')\n",
        "  full_df[col] = full_df[col].astype('str')\n",
        "\n",
        "full_df.info()\n",
        "full_df.head()"
      ]
    },
    {
      "cell_type": "markdown",
      "metadata": {
        "id": "pHRpGsboZ_wa"
      },
      "source": [
        "Next, we will conduct some basic exploratory analysis of the data beginning with plotting the distributions of our features."
      ]
    },
    {
      "cell_type": "code",
      "execution_count": null,
      "metadata": {
        "colab": {
          "base_uri": "https://localhost:8080/",
          "height": 620
        },
        "id": "umsO2aZ3J3WT",
        "outputId": "17d83932-0a40-4c0d-fe8d-2626516878b0"
      },
      "outputs": [
        {
          "name": "stderr",
          "output_type": "stream",
          "text": [
            "/var/folders/9l/gcj17p8j7zj7dfs281yw5d_c0000gn/T/ipykernel_25104/1673930836.py:24: UserWarning: FixedFormatter should only be used together with FixedLocator\n",
            "  ax[1,2].set_yticklabels(labels)\n"
          ]
        },
        {
          "data": {
            "image/png": "[encoded data removed]",
            "text/plain": [
              "<Figure size 864x576 with 8 Axes>"
            ]
          },
          "metadata": {
            "needs_background": "light"
          },
          "output_type": "display_data"
        }
      ],
      "source": [
        "#@markdown Plot distribution of categorical columns\n",
        "fig, ax = plt.subplots(2,4,figsize=(12,8))\n",
        "ax[0,0].barh(full_df['COW'].value_counts().index[::-1], full_df['COW'].value_counts()[::-1])\n",
        "ax[0,0].set_title('COW')\n",
        "\n",
        "ax[0,1].barh(full_df['SCHL'].value_counts().index[:10][::-1], full_df['SCHL'].value_counts()[:10][::-1])\n",
        "ax[0,1].set_title('SCHL (top-10)')\n",
        "\n",
        "ax[0,2].barh(full_df['MAR'].value_counts().index[::-1], full_df['MAR'].value_counts()[::-1])\n",
        "ax[0,2].set_title('MAR')\n",
        "\n",
        "ax[0,3].barh(full_df['OCCP'].value_counts().index[:10][::-1], full_df['OCCP'].value_counts()[:10][::-1])\n",
        "ax[0,3].set_title('OCCP (top-10)')\n",
        "\n",
        "ax[1,0].barh(full_df['POBP'].value_counts().index[:10][::-1], full_df['POBP'].value_counts()[:10][::-1])\n",
        "ax[1,0].set_title('POBP (top-10)')\n",
        "\n",
        "ax[1,1].barh(full_df['RELP'].value_counts().index[:10][::-1], full_df['RELP'].value_counts()[:10][::-1])\n",
        "ax[1,1].set_title('RELP (top-10)')\n",
        "\n",
        "ax[1,2].barh(full_df['SEX'].value_counts().index[::-1], full_df['SEX'].value_counts()[::-1])\n",
        "ax[1,2].set_title('SEX')\n",
        "labels = ('Female = 2', 'Male = 1')\n",
        "ax[1,2].set_yticklabels(labels)\n",
        "\n",
        "ax[1,3].barh(full_df['RAC1P'].value_counts().index[::-1], full_df['RAC1P'].value_counts()[::-1])\n",
        "ax[1,3].set_title('RAC1P')\n",
        "\n",
        "fig.tight_layout()"
      ]
    },
    {
      "cell_type": "code",
      "execution_count": null,
      "metadata": {
        "cellView": "form",
        "colab": {
          "base_uri": "https://localhost:8080/",
          "height": 513
        },
        "id": "fIN5VbbVQT4_",
        "outputId": "54c600aa-6cf9-4038-9945-579dde98880f"
      },
      "outputs": [
        {
          "data": {
            "image/png": "[encoded data removed]",
            "text/plain": [
              "<Figure size 864x576 with 2 Axes>"
            ]
          },
          "metadata": {
            "needs_background": "light"
          },
          "output_type": "display_data"
        }
      ],
      "source": [
        "#@markdown Plot distribution of numeric features\n",
        "fig, ax = plt.subplots(1,2,figsize=(12,8))\n",
        "\n",
        "#histogram for AGEP (age)\n",
        "num_of_bins_agep = 10\n",
        "y_vals_agep, x_vals_agep, e_agep = ax[0].hist(full_df['AGEP'], bins=num_of_bins_agep, edgecolor='black')\n",
        "ax[0].set_title(\"Histogram of AGEP\")\n",
        "ax[0].set_xlabel(\"age\")\n",
        "ax[0].set_ylabel(\"Percentage\")\n",
        "y_max_agep = round((max(y_vals_agep) / len(full_df)) + 0.02, 2)\n",
        "ax[0].set_yticks(ticks=np.arange(0.0, y_max_agep * len(full_df), 0.01 * len(full_df)))\n",
        "ax[0].set_ylim(ax[0].get_yticks()[0], ax[0].get_yticks()[-1])\n",
        "ax[0].yaxis.set_major_formatter(ticker.PercentFormatter(xmax=len(full_df)))\n",
        "\n",
        "#histogram for WKHP (Hours worked per week)\n",
        "num_of_bins_wkhp = 10\n",
        "y_vals_wkhp, x_vals_wkhp, e_wkhp = ax[1].hist(full_df['WKHP'], bins=num_of_bins_wkhp, edgecolor='black')\n",
        "ax[1].set_title(\"Histogram of WKHP\")\n",
        "ax[1].set_xlabel(\"hours worked per week\")\n",
        "ax[1].set_ylabel(\"Percentage\")\n",
        "y_max_wkhp = round((max(y_vals_wkhp) / len(full_df)) + 0.05, 2)\n",
        "ax[1].set_yticks(ticks=np.arange(0.0, y_max_wkhp * len(full_df), 0.05 * len(full_df)))\n",
        "ax[1].set_ylim(ax[1].get_yticks()[0], ax[1].get_yticks()[-1])\n",
        "ax[1].yaxis.set_major_formatter(ticker.PercentFormatter(xmax=len(full_df)))"
      ]
    },
    {
      "cell_type": "markdown",
      "metadata": {
        "id": "uhrMJoM1sOrj"
      },
      "source": [
        "As we can see, there is nothing very unusual about the distritubtion of the features in this dataset. Also, we note that the proportion of men and women is rather balanced.\n",
        "\n",
        "We can also examine the pairwise correlations between the numeric features and our target variable."
      ]
    },
    {
      "cell_type": "code",
      "execution_count": null,
      "metadata": {
        "cellView": "form",
        "colab": {
          "base_uri": "https://localhost:8080/",
          "height": 265
        },
        "id": "KXO7X2tMyTI6",
        "outputId": "16e1e106-2acf-4bd3-a432-114cdba62783"
      },
      "outputs": [
        {
          "data": {
            "image/png": "[encoded data removed]",
            "text/plain": [
              "<Figure size 432x288 with 2 Axes>"
            ]
          },
          "metadata": {
            "needs_background": "light"
          },
          "output_type": "display_data"
        }
      ],
      "source": [
        "#@markdown Plot pairwise correlations between numeric features\n",
        "\n",
        "sn.heatmap(full_df.corr(), mask=np.identity(len(full_df.corr())), annot=True, cmap='Blues')\n",
        "plt.show()"
      ]
    },
    {
      "cell_type": "markdown",
      "metadata": {
        "id": "5kyJCKQ3yxhQ"
      },
      "source": [
        "Here, we can see that there are only relatively low correlations between our target variable (PINCP) and our numeric features of age and hours worked per week."
      ]
    },
    {
      "cell_type": "markdown",
      "metadata": {
        "id": "iL6p5-Axxbvh"
      },
      "source": [
        "Next, we can look at the distribution of our target variable as well as the joint distribution of our protected and target attributes."
      ]
    },
    {
      "cell_type": "code",
      "execution_count": null,
      "metadata": {
        "cellView": "form",
        "colab": {
          "base_uri": "https://localhost:8080/",
          "height": 279
        },
        "id": "7JCRb5o76oiH",
        "outputId": "8f9c8853-546f-421c-bb1f-32df82e573a5"
      },
      "outputs": [
        {
          "data": {
            "image/png": "[encoded data removed]",
            "text/plain": [
              "<Figure size 432x288 with 1 Axes>"
            ]
          },
          "metadata": {
            "needs_background": "light"
          },
          "output_type": "display_data"
        }
      ],
      "source": [
        "#@markdown Examine distribution of target variable\n",
        "fig = plt.figure()\n",
        "ax = fig.add_subplot(1,1,1)\n",
        "full_df['PINCP'].value_counts().divide(full_df.shape[0]).plot(kind='bar')\n",
        "ax.set_xlabel('Income')\n",
        "ax.set_ylabel('Frequency')\n",
        "plt.setp(ax.get_xticklabels(), rotation=0, ha='center')\n",
        "ax.yaxis.set_major_formatter(mtick.PercentFormatter(1))\n",
        "labels_target = ('0 (<$50k)', '1 (>=$50k)')\n",
        "ax.set_xticklabels(labels_target)\n",
        "plt.show()"
      ]
    },
    {
      "cell_type": "markdown",
      "metadata": {
        "id": "Kq9_1ZSXduNs"
      },
      "source": [
        "From the graph above we note that there is a considerable imbalance of the target variable. Let's see how is this distribution looks by gender."
      ]
    },
    {
      "cell_type": "code",
      "execution_count": null,
      "metadata": {
        "cellView": "form",
        "colab": {
          "base_uri": "https://localhost:8080/",
          "height": 279
        },
        "id": "rWqWUOfamsAm",
        "outputId": "20ff2118-aeff-4409-a608-cada5a2881d5"
      },
      "outputs": [
        {
          "data": {
            "image/png": "[encoded data removed]",
            "text/plain": [
              "<Figure size 432x288 with 1 Axes>"
            ]
          },
          "metadata": {
            "needs_background": "light"
          },
          "output_type": "display_data"
        }
      ],
      "source": [
        "#@markdown Plot distribution of target variable among males and plot distribution of target variable among females\n",
        "hist_df = full_df.groupby(['SEX','PINCP']).size().to_frame('count').reset_index()\n",
        "new_col = full_df.groupby(['SEX']).PINCP.value_counts(normalize=True).values\n",
        "hist_df['frac'] = new_col\n",
        "hist_df.replace({'SEX': {'1': 'Male', '2': 'Female'}}, inplace=True)\n",
        "hist_df.replace({'PINCP': {0.0: '<$50k', 1.0: '>=$50k'}}, inplace=True)\n",
        "sn.barplot(x='PINCP', y='frac', hue='SEX', data=hist_df)\n",
        "plt.ylabel('Percent of Group')\n",
        "plt.xlabel('Income')\n",
        "plt.show()"
      ]
    },
    {
      "cell_type": "code",
      "execution_count": null,
      "metadata": {
        "cellView": "form",
        "colab": {
          "base_uri": "https://localhost:8080/"
        },
        "id": "mb4qHH0dQYAB",
        "outputId": "37f3f577-5bf4-4042-9482-5e1c5e14924d"
      },
      "outputs": [
        {
          "data": {
            "text/plain": [
              "SEX  PINCP\n",
              "1    0.0      19812\n",
              "     1.0      17056\n",
              "2    0.0      21508\n",
              "     1.0      11624\n",
              "Name: PINCP, dtype: int64"
            ]
          },
          "execution_count": 10,
          "metadata": {},
          "output_type": "execute_result"
        }
      ],
      "source": [
        "#@markdown Showing the number of Males and Females per Income group\n",
        "full_df.groupby(['SEX', 'PINCP'])['PINCP'].count()"
      ]
    },
    {
      "cell_type": "markdown",
      "metadata": {
        "id": "3lB_TQJGE1tV"
      },
      "source": [
        "Here, we can see that the proportion of males who make at least \\$50k is higher than the proportion of females who make at least $50k in this dataset. Thus, the initial finding about imbalance of the target variable is more accentuated for females."
      ]
    },
    {
      "cell_type": "markdown",
      "metadata": {
        "id": "c1ffXieBGVGx"
      },
      "source": [
        "# **TODO**: Given the graphs above, what results might we expect from our classifier when it comes to labelling males and females as high or low income?"
      ]
    },
    {
      "cell_type": "markdown",
      "metadata": {
        "id": "vpjRuRyZgbHi"
      },
      "source": [
        "**Answer**: we would see more women as having low income and more men as having higher income."
      ]
    },
    {
      "cell_type": "markdown",
      "metadata": {
        "id": "Vccos4UWJieU"
      },
      "source": [
        "# **TODO**: Why might this data be biased? What type of bias is this?\n"
      ]
    },
    {
      "cell_type": "markdown",
      "metadata": {
        "id": "7oVti2pfgfqD"
      },
      "source": [
        "**Answer**: there could be pre-existing bias because men tends to hold more power than women throughout history and thus they would tend to accumulate more wealth."
      ]
    },
    {
      "cell_type": "code",
      "execution_count": null,
      "metadata": {
        "cellView": "form",
        "id": "nQP7PQb0BGWv",
        "outputId": "9b265a3f-a871-4532-d08a-9373816457bf"
      },
      "outputs": [
        {
          "data": {
            "image/png": "[encoded data removed]",
            "text/plain": [
              "<Figure size 432x288 with 1 Axes>"
            ]
          },
          "metadata": {
            "needs_background": "light"
          },
          "output_type": "display_data"
        }
      ],
      "source": [
        "# @markdown #**TODO**: write some code in this cell that replicates the above histogram plot for black and white individuals in the data.\n",
        "# TODO: write code here\n",
        "hist_df = full_df[(full_df.RAC1P == '1') | (full_df.RAC1P == '2')].groupby(['RAC1P','PINCP']).size().to_frame('count').reset_index()\n",
        "new_col = full_df[(full_df.RAC1P == '1') | (full_df.RAC1P == '2')].groupby(['RAC1P']).PINCP.value_counts(normalize=True).values\n",
        "hist_df['frac'] = new_col\n",
        "hist_df.replace({'RAC1P': {'1': 'White', '2': 'Black'}}, inplace=True)\n",
        "hist_df.replace({'PINCP': {0.0: '<$50k', 1.0: '>=$50k'}}, inplace=True)\n",
        "sn.barplot(x='PINCP', y='frac', hue='RAC1P', data=hist_df)\n",
        "plt.ylabel('Percent of Group')\n",
        "plt.xlabel('Income')\n",
        "plt.show()"
      ]
    },
    {
      "cell_type": "markdown",
      "metadata": {
        "id": "v7mYHwvvrlZn"
      },
      "source": [
        "## Preprocessing\n",
        "Next, we will do some preprocessing on our data to prepare it for use in our model."
      ]
    },
    {
      "cell_type": "code",
      "execution_count": null,
      "metadata": {
        "cellView": "form",
        "colab": {
          "base_uri": "https://localhost:8080/",
          "height": 423
        },
        "id": "UJmRpooUU6cC",
        "outputId": "4fa87b53-ea37-4e34-ecae-aaecee76f962"
      },
      "outputs": [
        {
          "data": {
            "text/html": [
              "<div>\n",
              "<style scoped>\n",
              "    .dataframe tbody tr th:only-of-type {\n",
              "        vertical-align: middle;\n",
              "    }\n",
              "\n",
              "    .dataframe tbody tr th {\n",
              "        vertical-align: top;\n",
              "    }\n",
              "\n",
              "    .dataframe thead th {\n",
              "        text-align: right;\n",
              "    }\n",
              "</style>\n",
              "<table border=\"1\" class=\"dataframe\">\n",
              "  <thead>\n",
              "    <tr style=\"text-align: right;\">\n",
              "      <th></th>\n",
              "      <th>AGEP</th>\n",
              "      <th>COW</th>\n",
              "      <th>SCHL</th>\n",
              "      <th>MAR</th>\n",
              "      <th>OCCP</th>\n",
              "      <th>POBP</th>\n",
              "      <th>RELP</th>\n",
              "      <th>WKHP</th>\n",
              "      <th>SEX</th>\n",
              "      <th>RAC1P</th>\n",
              "      <th>PINCP</th>\n",
              "    </tr>\n",
              "  </thead>\n",
              "  <tbody>\n",
              "    <tr>\n",
              "      <th>0</th>\n",
              "      <td>-0.457472</td>\n",
              "      <td>3</td>\n",
              "      <td>21</td>\n",
              "      <td>5</td>\n",
              "      <td>2310</td>\n",
              "      <td>247</td>\n",
              "      <td>2</td>\n",
              "      <td>0.167031</td>\n",
              "      <td>2</td>\n",
              "      <td>6</td>\n",
              "      <td>1.0</td>\n",
              "    </tr>\n",
              "    <tr>\n",
              "      <th>1</th>\n",
              "      <td>1.016851</td>\n",
              "      <td>1</td>\n",
              "      <td>22</td>\n",
              "      <td>1</td>\n",
              "      <td>800</td>\n",
              "      <td>6</td>\n",
              "      <td>0</td>\n",
              "      <td>0.167031</td>\n",
              "      <td>1</td>\n",
              "      <td>1</td>\n",
              "      <td>1.0</td>\n",
              "    </tr>\n",
              "    <tr>\n",
              "      <th>2</th>\n",
              "      <td>-0.993589</td>\n",
              "      <td>1</td>\n",
              "      <td>22</td>\n",
              "      <td>1</td>\n",
              "      <td>710</td>\n",
              "      <td>207</td>\n",
              "      <td>1</td>\n",
              "      <td>0.167031</td>\n",
              "      <td>2</td>\n",
              "      <td>6</td>\n",
              "      <td>1.0</td>\n",
              "    </tr>\n",
              "    <tr>\n",
              "      <th>3</th>\n",
              "      <td>-0.859560</td>\n",
              "      <td>1</td>\n",
              "      <td>22</td>\n",
              "      <td>5</td>\n",
              "      <td>5860</td>\n",
              "      <td>6</td>\n",
              "      <td>2</td>\n",
              "      <td>0.933723</td>\n",
              "      <td>1</td>\n",
              "      <td>6</td>\n",
              "      <td>0.0</td>\n",
              "    </tr>\n",
              "    <tr>\n",
              "      <th>4</th>\n",
              "      <td>0.815807</td>\n",
              "      <td>5</td>\n",
              "      <td>16</td>\n",
              "      <td>3</td>\n",
              "      <td>5540</td>\n",
              "      <td>303</td>\n",
              "      <td>0</td>\n",
              "      <td>0.167031</td>\n",
              "      <td>2</td>\n",
              "      <td>1</td>\n",
              "      <td>1.0</td>\n",
              "    </tr>\n",
              "    <tr>\n",
              "      <th>...</th>\n",
              "      <td>...</td>\n",
              "      <td>...</td>\n",
              "      <td>...</td>\n",
              "      <td>...</td>\n",
              "      <td>...</td>\n",
              "      <td>...</td>\n",
              "      <td>...</td>\n",
              "      <td>...</td>\n",
              "      <td>...</td>\n",
              "      <td>...</td>\n",
              "      <td>...</td>\n",
              "    </tr>\n",
              "    <tr>\n",
              "      <th>69995</th>\n",
              "      <td>-1.529707</td>\n",
              "      <td>3</td>\n",
              "      <td>18</td>\n",
              "      <td>5</td>\n",
              "      <td>7640</td>\n",
              "      <td>6</td>\n",
              "      <td>2</td>\n",
              "      <td>0.167031</td>\n",
              "      <td>1</td>\n",
              "      <td>1</td>\n",
              "      <td>0.0</td>\n",
              "    </tr>\n",
              "    <tr>\n",
              "      <th>69996</th>\n",
              "      <td>-0.524486</td>\n",
              "      <td>1</td>\n",
              "      <td>16</td>\n",
              "      <td>1</td>\n",
              "      <td>4110</td>\n",
              "      <td>207</td>\n",
              "      <td>0</td>\n",
              "      <td>-1.366351</td>\n",
              "      <td>1</td>\n",
              "      <td>6</td>\n",
              "      <td>0.0</td>\n",
              "    </tr>\n",
              "    <tr>\n",
              "      <th>69997</th>\n",
              "      <td>-0.859560</td>\n",
              "      <td>1</td>\n",
              "      <td>21</td>\n",
              "      <td>1</td>\n",
              "      <td>440</td>\n",
              "      <td>6</td>\n",
              "      <td>0</td>\n",
              "      <td>0.320370</td>\n",
              "      <td>1</td>\n",
              "      <td>6</td>\n",
              "      <td>1.0</td>\n",
              "    </tr>\n",
              "    <tr>\n",
              "      <th>69998</th>\n",
              "      <td>0.078646</td>\n",
              "      <td>1</td>\n",
              "      <td>21</td>\n",
              "      <td>1</td>\n",
              "      <td>4750</td>\n",
              "      <td>6</td>\n",
              "      <td>2</td>\n",
              "      <td>0.550377</td>\n",
              "      <td>1</td>\n",
              "      <td>1</td>\n",
              "      <td>0.0</td>\n",
              "    </tr>\n",
              "    <tr>\n",
              "      <th>69999</th>\n",
              "      <td>1.619983</td>\n",
              "      <td>1</td>\n",
              "      <td>19</td>\n",
              "      <td>5</td>\n",
              "      <td>440</td>\n",
              "      <td>312</td>\n",
              "      <td>0</td>\n",
              "      <td>0.167031</td>\n",
              "      <td>2</td>\n",
              "      <td>1</td>\n",
              "      <td>0.0</td>\n",
              "    </tr>\n",
              "  </tbody>\n",
              "</table>\n",
              "<p>70000 rows × 11 columns</p>\n",
              "</div>"
            ],
            "text/plain": [
              "           AGEP COW SCHL MAR  OCCP POBP RELP      WKHP SEX RAC1P  PINCP\n",
              "0     -0.457472   3   21   5  2310  247    2  0.167031   2     6    1.0\n",
              "1      1.016851   1   22   1   800    6    0  0.167031   1     1    1.0\n",
              "2     -0.993589   1   22   1   710  207    1  0.167031   2     6    1.0\n",
              "3     -0.859560   1   22   5  5860    6    2  0.933723   1     6    0.0\n",
              "4      0.815807   5   16   3  5540  303    0  0.167031   2     1    1.0\n",
              "...         ...  ..  ...  ..   ...  ...  ...       ...  ..   ...    ...\n",
              "69995 -1.529707   3   18   5  7640    6    2  0.167031   1     1    0.0\n",
              "69996 -0.524486   1   16   1  4110  207    0 -1.366351   1     6    0.0\n",
              "69997 -0.859560   1   21   1   440    6    0  0.320370   1     6    1.0\n",
              "69998  0.078646   1   21   1  4750    6    2  0.550377   1     1    0.0\n",
              "69999  1.619983   1   19   5   440  312    0  0.167031   2     1    0.0\n",
              "\n",
              "[70000 rows x 11 columns]"
            ]
          },
          "metadata": {},
          "output_type": "display_data"
        }
      ],
      "source": [
        "#@markdown Standardize numerical features\n",
        "scaler = StandardScaler()\n",
        "full_df[numerical_cols] = scaler.fit_transform(full_df[numerical_cols])\n",
        "display(full_df)"
      ]
    },
    {
      "cell_type": "code",
      "execution_count": null,
      "metadata": {
        "cellView": "form",
        "colab": {
          "base_uri": "https://localhost:8080/",
          "height": 467
        },
        "id": "ttOb_ULRsGUB",
        "outputId": "9eaee168-f2ea-4cf4-f47a-1dbea618bd36"
      },
      "outputs": [
        {
          "data": {
            "text/html": [
              "<div>\n",
              "<style scoped>\n",
              "    .dataframe tbody tr th:only-of-type {\n",
              "        vertical-align: middle;\n",
              "    }\n",
              "\n",
              "    .dataframe tbody tr th {\n",
              "        vertical-align: top;\n",
              "    }\n",
              "\n",
              "    .dataframe thead th {\n",
              "        text-align: right;\n",
              "    }\n",
              "</style>\n",
              "<table border=\"1\" class=\"dataframe\">\n",
              "  <thead>\n",
              "    <tr style=\"text-align: right;\">\n",
              "      <th></th>\n",
              "      <th>AGEP</th>\n",
              "      <th>WKHP</th>\n",
              "      <th>PINCP</th>\n",
              "      <th>COW_1</th>\n",
              "      <th>COW_2</th>\n",
              "      <th>COW_3</th>\n",
              "      <th>COW_4</th>\n",
              "      <th>COW_5</th>\n",
              "      <th>COW_6</th>\n",
              "      <th>COW_7</th>\n",
              "      <th>...</th>\n",
              "      <th>RAC1P_2</th>\n",
              "      <th>RAC1P_3</th>\n",
              "      <th>RAC1P_4</th>\n",
              "      <th>RAC1P_5</th>\n",
              "      <th>RAC1P_6</th>\n",
              "      <th>RAC1P_7</th>\n",
              "      <th>RAC1P_8</th>\n",
              "      <th>RAC1P_9</th>\n",
              "      <th>SEX_1</th>\n",
              "      <th>SEX_2</th>\n",
              "    </tr>\n",
              "  </thead>\n",
              "  <tbody>\n",
              "    <tr>\n",
              "      <th>0</th>\n",
              "      <td>-0.457472</td>\n",
              "      <td>0.167031</td>\n",
              "      <td>1.0</td>\n",
              "      <td>0</td>\n",
              "      <td>0</td>\n",
              "      <td>1</td>\n",
              "      <td>0</td>\n",
              "      <td>0</td>\n",
              "      <td>0</td>\n",
              "      <td>0</td>\n",
              "      <td>...</td>\n",
              "      <td>0</td>\n",
              "      <td>0</td>\n",
              "      <td>0</td>\n",
              "      <td>0</td>\n",
              "      <td>1</td>\n",
              "      <td>0</td>\n",
              "      <td>0</td>\n",
              "      <td>0</td>\n",
              "      <td>0</td>\n",
              "      <td>1</td>\n",
              "    </tr>\n",
              "    <tr>\n",
              "      <th>1</th>\n",
              "      <td>1.016851</td>\n",
              "      <td>0.167031</td>\n",
              "      <td>1.0</td>\n",
              "      <td>1</td>\n",
              "      <td>0</td>\n",
              "      <td>0</td>\n",
              "      <td>0</td>\n",
              "      <td>0</td>\n",
              "      <td>0</td>\n",
              "      <td>0</td>\n",
              "      <td>...</td>\n",
              "      <td>0</td>\n",
              "      <td>0</td>\n",
              "      <td>0</td>\n",
              "      <td>0</td>\n",
              "      <td>0</td>\n",
              "      <td>0</td>\n",
              "      <td>0</td>\n",
              "      <td>0</td>\n",
              "      <td>1</td>\n",
              "      <td>0</td>\n",
              "    </tr>\n",
              "    <tr>\n",
              "      <th>2</th>\n",
              "      <td>-0.993589</td>\n",
              "      <td>0.167031</td>\n",
              "      <td>1.0</td>\n",
              "      <td>1</td>\n",
              "      <td>0</td>\n",
              "      <td>0</td>\n",
              "      <td>0</td>\n",
              "      <td>0</td>\n",
              "      <td>0</td>\n",
              "      <td>0</td>\n",
              "      <td>...</td>\n",
              "      <td>0</td>\n",
              "      <td>0</td>\n",
              "      <td>0</td>\n",
              "      <td>0</td>\n",
              "      <td>1</td>\n",
              "      <td>0</td>\n",
              "      <td>0</td>\n",
              "      <td>0</td>\n",
              "      <td>0</td>\n",
              "      <td>1</td>\n",
              "    </tr>\n",
              "    <tr>\n",
              "      <th>3</th>\n",
              "      <td>-0.859560</td>\n",
              "      <td>0.933723</td>\n",
              "      <td>0.0</td>\n",
              "      <td>1</td>\n",
              "      <td>0</td>\n",
              "      <td>0</td>\n",
              "      <td>0</td>\n",
              "      <td>0</td>\n",
              "      <td>0</td>\n",
              "      <td>0</td>\n",
              "      <td>...</td>\n",
              "      <td>0</td>\n",
              "      <td>0</td>\n",
              "      <td>0</td>\n",
              "      <td>0</td>\n",
              "      <td>1</td>\n",
              "      <td>0</td>\n",
              "      <td>0</td>\n",
              "      <td>0</td>\n",
              "      <td>1</td>\n",
              "      <td>0</td>\n",
              "    </tr>\n",
              "    <tr>\n",
              "      <th>4</th>\n",
              "      <td>0.815807</td>\n",
              "      <td>0.167031</td>\n",
              "      <td>1.0</td>\n",
              "      <td>0</td>\n",
              "      <td>0</td>\n",
              "      <td>0</td>\n",
              "      <td>0</td>\n",
              "      <td>1</td>\n",
              "      <td>0</td>\n",
              "      <td>0</td>\n",
              "      <td>...</td>\n",
              "      <td>0</td>\n",
              "      <td>0</td>\n",
              "      <td>0</td>\n",
              "      <td>0</td>\n",
              "      <td>0</td>\n",
              "      <td>0</td>\n",
              "      <td>0</td>\n",
              "      <td>0</td>\n",
              "      <td>0</td>\n",
              "      <td>1</td>\n",
              "    </tr>\n",
              "    <tr>\n",
              "      <th>...</th>\n",
              "      <td>...</td>\n",
              "      <td>...</td>\n",
              "      <td>...</td>\n",
              "      <td>...</td>\n",
              "      <td>...</td>\n",
              "      <td>...</td>\n",
              "      <td>...</td>\n",
              "      <td>...</td>\n",
              "      <td>...</td>\n",
              "      <td>...</td>\n",
              "      <td>...</td>\n",
              "      <td>...</td>\n",
              "      <td>...</td>\n",
              "      <td>...</td>\n",
              "      <td>...</td>\n",
              "      <td>...</td>\n",
              "      <td>...</td>\n",
              "      <td>...</td>\n",
              "      <td>...</td>\n",
              "      <td>...</td>\n",
              "      <td>...</td>\n",
              "    </tr>\n",
              "    <tr>\n",
              "      <th>69995</th>\n",
              "      <td>-1.529707</td>\n",
              "      <td>0.167031</td>\n",
              "      <td>0.0</td>\n",
              "      <td>0</td>\n",
              "      <td>0</td>\n",
              "      <td>1</td>\n",
              "      <td>0</td>\n",
              "      <td>0</td>\n",
              "      <td>0</td>\n",
              "      <td>0</td>\n",
              "      <td>...</td>\n",
              "      <td>0</td>\n",
              "      <td>0</td>\n",
              "      <td>0</td>\n",
              "      <td>0</td>\n",
              "      <td>0</td>\n",
              "      <td>0</td>\n",
              "      <td>0</td>\n",
              "      <td>0</td>\n",
              "      <td>1</td>\n",
              "      <td>0</td>\n",
              "    </tr>\n",
              "    <tr>\n",
              "      <th>69996</th>\n",
              "      <td>-0.524486</td>\n",
              "      <td>-1.366351</td>\n",
              "      <td>0.0</td>\n",
              "      <td>1</td>\n",
              "      <td>0</td>\n",
              "      <td>0</td>\n",
              "      <td>0</td>\n",
              "      <td>0</td>\n",
              "      <td>0</td>\n",
              "      <td>0</td>\n",
              "      <td>...</td>\n",
              "      <td>0</td>\n",
              "      <td>0</td>\n",
              "      <td>0</td>\n",
              "      <td>0</td>\n",
              "      <td>1</td>\n",
              "      <td>0</td>\n",
              "      <td>0</td>\n",
              "      <td>0</td>\n",
              "      <td>1</td>\n",
              "      <td>0</td>\n",
              "    </tr>\n",
              "    <tr>\n",
              "      <th>69997</th>\n",
              "      <td>-0.859560</td>\n",
              "      <td>0.320370</td>\n",
              "      <td>1.0</td>\n",
              "      <td>1</td>\n",
              "      <td>0</td>\n",
              "      <td>0</td>\n",
              "      <td>0</td>\n",
              "      <td>0</td>\n",
              "      <td>0</td>\n",
              "      <td>0</td>\n",
              "      <td>...</td>\n",
              "      <td>0</td>\n",
              "      <td>0</td>\n",
              "      <td>0</td>\n",
              "      <td>0</td>\n",
              "      <td>1</td>\n",
              "      <td>0</td>\n",
              "      <td>0</td>\n",
              "      <td>0</td>\n",
              "      <td>1</td>\n",
              "      <td>0</td>\n",
              "    </tr>\n",
              "    <tr>\n",
              "      <th>69998</th>\n",
              "      <td>0.078646</td>\n",
              "      <td>0.550377</td>\n",
              "      <td>0.0</td>\n",
              "      <td>1</td>\n",
              "      <td>0</td>\n",
              "      <td>0</td>\n",
              "      <td>0</td>\n",
              "      <td>0</td>\n",
              "      <td>0</td>\n",
              "      <td>0</td>\n",
              "      <td>...</td>\n",
              "      <td>0</td>\n",
              "      <td>0</td>\n",
              "      <td>0</td>\n",
              "      <td>0</td>\n",
              "      <td>0</td>\n",
              "      <td>0</td>\n",
              "      <td>0</td>\n",
              "      <td>0</td>\n",
              "      <td>1</td>\n",
              "      <td>0</td>\n",
              "    </tr>\n",
              "    <tr>\n",
              "      <th>69999</th>\n",
              "      <td>1.619983</td>\n",
              "      <td>0.167031</td>\n",
              "      <td>0.0</td>\n",
              "      <td>1</td>\n",
              "      <td>0</td>\n",
              "      <td>0</td>\n",
              "      <td>0</td>\n",
              "      <td>0</td>\n",
              "      <td>0</td>\n",
              "      <td>0</td>\n",
              "      <td>...</td>\n",
              "      <td>0</td>\n",
              "      <td>0</td>\n",
              "      <td>0</td>\n",
              "      <td>0</td>\n",
              "      <td>0</td>\n",
              "      <td>0</td>\n",
              "      <td>0</td>\n",
              "      <td>0</td>\n",
              "      <td>0</td>\n",
              "      <td>1</td>\n",
              "    </tr>\n",
              "  </tbody>\n",
              "</table>\n",
              "<p>70000 rows × 810 columns</p>\n",
              "</div>"
            ],
            "text/plain": [
              "           AGEP      WKHP  PINCP  COW_1  COW_2  COW_3  COW_4  COW_5  COW_6  \\\n",
              "0     -0.457472  0.167031    1.0      0      0      1      0      0      0   \n",
              "1      1.016851  0.167031    1.0      1      0      0      0      0      0   \n",
              "2     -0.993589  0.167031    1.0      1      0      0      0      0      0   \n",
              "3     -0.859560  0.933723    0.0      1      0      0      0      0      0   \n",
              "4      0.815807  0.167031    1.0      0      0      0      0      1      0   \n",
              "...         ...       ...    ...    ...    ...    ...    ...    ...    ...   \n",
              "69995 -1.529707  0.167031    0.0      0      0      1      0      0      0   \n",
              "69996 -0.524486 -1.366351    0.0      1      0      0      0      0      0   \n",
              "69997 -0.859560  0.320370    1.0      1      0      0      0      0      0   \n",
              "69998  0.078646  0.550377    0.0      1      0      0      0      0      0   \n",
              "69999  1.619983  0.167031    0.0      1      0      0      0      0      0   \n",
              "\n",
              "       COW_7  ...  RAC1P_2  RAC1P_3  RAC1P_4  RAC1P_5  RAC1P_6  RAC1P_7  \\\n",
              "0          0  ...        0        0        0        0        1        0   \n",
              "1          0  ...        0        0        0        0        0        0   \n",
              "2          0  ...        0        0        0        0        1        0   \n",
              "3          0  ...        0        0        0        0        1        0   \n",
              "4          0  ...        0        0        0        0        0        0   \n",
              "...      ...  ...      ...      ...      ...      ...      ...      ...   \n",
              "69995      0  ...        0        0        0        0        0        0   \n",
              "69996      0  ...        0        0        0        0        1        0   \n",
              "69997      0  ...        0        0        0        0        1        0   \n",
              "69998      0  ...        0        0        0        0        0        0   \n",
              "69999      0  ...        0        0        0        0        0        0   \n",
              "\n",
              "       RAC1P_8  RAC1P_9  SEX_1  SEX_2  \n",
              "0            0        0      0      1  \n",
              "1            0        0      1      0  \n",
              "2            0        0      0      1  \n",
              "3            0        0      1      0  \n",
              "4            0        0      0      1  \n",
              "...        ...      ...    ...    ...  \n",
              "69995        0        0      1      0  \n",
              "69996        0        0      1      0  \n",
              "69997        0        0      1      0  \n",
              "69998        0        0      1      0  \n",
              "69999        0        0      0      1  \n",
              "\n",
              "[70000 rows x 810 columns]"
            ]
          },
          "metadata": {},
          "output_type": "display_data"
        }
      ],
      "source": [
        "#@markdown One-hot encode categorical features\n",
        "full_df = pd.get_dummies(full_df, columns=categorical_cols)\n",
        "display(full_df)"
      ]
    },
    {
      "cell_type": "code",
      "execution_count": null,
      "metadata": {
        "cellView": "form",
        "colab": {
          "base_uri": "https://localhost:8080/",
          "height": 279
        },
        "id": "1rLw5F6_sHew",
        "outputId": "3f9ce943-4690-407d-e079-3c34dacfb030"
      },
      "outputs": [
        {
          "data": {
            "text/html": [
              "<div>\n",
              "<style scoped>\n",
              "    .dataframe tbody tr th:only-of-type {\n",
              "        vertical-align: middle;\n",
              "    }\n",
              "\n",
              "    .dataframe tbody tr th {\n",
              "        vertical-align: top;\n",
              "    }\n",
              "\n",
              "    .dataframe thead th {\n",
              "        text-align: right;\n",
              "    }\n",
              "</style>\n",
              "<table border=\"1\" class=\"dataframe\">\n",
              "  <thead>\n",
              "    <tr style=\"text-align: right;\">\n",
              "      <th></th>\n",
              "      <th>AGEP</th>\n",
              "      <th>WKHP</th>\n",
              "      <th>PINCP</th>\n",
              "      <th>COW_1</th>\n",
              "      <th>COW_2</th>\n",
              "      <th>COW_3</th>\n",
              "      <th>COW_4</th>\n",
              "      <th>COW_5</th>\n",
              "      <th>COW_6</th>\n",
              "      <th>COW_7</th>\n",
              "      <th>...</th>\n",
              "      <th>RAC1P_1</th>\n",
              "      <th>RAC1P_2</th>\n",
              "      <th>RAC1P_3</th>\n",
              "      <th>RAC1P_4</th>\n",
              "      <th>RAC1P_5</th>\n",
              "      <th>RAC1P_6</th>\n",
              "      <th>RAC1P_7</th>\n",
              "      <th>RAC1P_8</th>\n",
              "      <th>RAC1P_9</th>\n",
              "      <th>SEX</th>\n",
              "    </tr>\n",
              "  </thead>\n",
              "  <tbody>\n",
              "    <tr>\n",
              "      <th>0</th>\n",
              "      <td>-0.457472</td>\n",
              "      <td>0.167031</td>\n",
              "      <td>1.0</td>\n",
              "      <td>0</td>\n",
              "      <td>0</td>\n",
              "      <td>1</td>\n",
              "      <td>0</td>\n",
              "      <td>0</td>\n",
              "      <td>0</td>\n",
              "      <td>0</td>\n",
              "      <td>...</td>\n",
              "      <td>0</td>\n",
              "      <td>0</td>\n",
              "      <td>0</td>\n",
              "      <td>0</td>\n",
              "      <td>0</td>\n",
              "      <td>1</td>\n",
              "      <td>0</td>\n",
              "      <td>0</td>\n",
              "      <td>0</td>\n",
              "      <td>0</td>\n",
              "    </tr>\n",
              "    <tr>\n",
              "      <th>1</th>\n",
              "      <td>1.016851</td>\n",
              "      <td>0.167031</td>\n",
              "      <td>1.0</td>\n",
              "      <td>1</td>\n",
              "      <td>0</td>\n",
              "      <td>0</td>\n",
              "      <td>0</td>\n",
              "      <td>0</td>\n",
              "      <td>0</td>\n",
              "      <td>0</td>\n",
              "      <td>...</td>\n",
              "      <td>1</td>\n",
              "      <td>0</td>\n",
              "      <td>0</td>\n",
              "      <td>0</td>\n",
              "      <td>0</td>\n",
              "      <td>0</td>\n",
              "      <td>0</td>\n",
              "      <td>0</td>\n",
              "      <td>0</td>\n",
              "      <td>1</td>\n",
              "    </tr>\n",
              "    <tr>\n",
              "      <th>2</th>\n",
              "      <td>-0.993589</td>\n",
              "      <td>0.167031</td>\n",
              "      <td>1.0</td>\n",
              "      <td>1</td>\n",
              "      <td>0</td>\n",
              "      <td>0</td>\n",
              "      <td>0</td>\n",
              "      <td>0</td>\n",
              "      <td>0</td>\n",
              "      <td>0</td>\n",
              "      <td>...</td>\n",
              "      <td>0</td>\n",
              "      <td>0</td>\n",
              "      <td>0</td>\n",
              "      <td>0</td>\n",
              "      <td>0</td>\n",
              "      <td>1</td>\n",
              "      <td>0</td>\n",
              "      <td>0</td>\n",
              "      <td>0</td>\n",
              "      <td>0</td>\n",
              "    </tr>\n",
              "    <tr>\n",
              "      <th>3</th>\n",
              "      <td>-0.859560</td>\n",
              "      <td>0.933723</td>\n",
              "      <td>0.0</td>\n",
              "      <td>1</td>\n",
              "      <td>0</td>\n",
              "      <td>0</td>\n",
              "      <td>0</td>\n",
              "      <td>0</td>\n",
              "      <td>0</td>\n",
              "      <td>0</td>\n",
              "      <td>...</td>\n",
              "      <td>0</td>\n",
              "      <td>0</td>\n",
              "      <td>0</td>\n",
              "      <td>0</td>\n",
              "      <td>0</td>\n",
              "      <td>1</td>\n",
              "      <td>0</td>\n",
              "      <td>0</td>\n",
              "      <td>0</td>\n",
              "      <td>1</td>\n",
              "    </tr>\n",
              "    <tr>\n",
              "      <th>4</th>\n",
              "      <td>0.815807</td>\n",
              "      <td>0.167031</td>\n",
              "      <td>1.0</td>\n",
              "      <td>0</td>\n",
              "      <td>0</td>\n",
              "      <td>0</td>\n",
              "      <td>0</td>\n",
              "      <td>1</td>\n",
              "      <td>0</td>\n",
              "      <td>0</td>\n",
              "      <td>...</td>\n",
              "      <td>1</td>\n",
              "      <td>0</td>\n",
              "      <td>0</td>\n",
              "      <td>0</td>\n",
              "      <td>0</td>\n",
              "      <td>0</td>\n",
              "      <td>0</td>\n",
              "      <td>0</td>\n",
              "      <td>0</td>\n",
              "      <td>0</td>\n",
              "    </tr>\n",
              "  </tbody>\n",
              "</table>\n",
              "<p>5 rows × 809 columns</p>\n",
              "</div>"
            ],
            "text/plain": [
              "       AGEP      WKHP  PINCP  COW_1  COW_2  COW_3  COW_4  COW_5  COW_6  COW_7  \\\n",
              "0 -0.457472  0.167031    1.0      0      0      1      0      0      0      0   \n",
              "1  1.016851  0.167031    1.0      1      0      0      0      0      0      0   \n",
              "2 -0.993589  0.167031    1.0      1      0      0      0      0      0      0   \n",
              "3 -0.859560  0.933723    0.0      1      0      0      0      0      0      0   \n",
              "4  0.815807  0.167031    1.0      0      0      0      0      1      0      0   \n",
              "\n",
              "   ...  RAC1P_1  RAC1P_2  RAC1P_3  RAC1P_4  RAC1P_5  RAC1P_6  RAC1P_7  \\\n",
              "0  ...        0        0        0        0        0        1        0   \n",
              "1  ...        1        0        0        0        0        0        0   \n",
              "2  ...        0        0        0        0        0        1        0   \n",
              "3  ...        0        0        0        0        0        1        0   \n",
              "4  ...        1        0        0        0        0        0        0   \n",
              "\n",
              "   RAC1P_8  RAC1P_9  SEX  \n",
              "0        0        0    0  \n",
              "1        0        0    1  \n",
              "2        0        0    0  \n",
              "3        0        0    1  \n",
              "4        0        0    0  \n",
              "\n",
              "[5 rows x 809 columns]"
            ]
          },
          "execution_count": 16,
          "metadata": {},
          "output_type": "execute_result"
        }
      ],
      "source": [
        "#@markdown Since the sex attribute is already binary we can drop one of the redundant dummy columns\n",
        "#note: males are now labeled as 1 and females are labeled as 0\n",
        "full_df.drop(columns=['SEX_2'], inplace=True)\n",
        "full_df.rename(columns={'SEX_1':'SEX'}, inplace=True)\n",
        "\n",
        "full_df.head()"
      ]
    },
    {
      "cell_type": "markdown",
      "metadata": {
        "id": "lldcQFkCx1Y5"
      },
      "source": [
        "#3. Train Logistic Regression Classifier\n",
        "Next, we will split our data into training and test sets randomly.  Then, we will train a logistic regression classifier and evaluate possible biases within that classifier.\n",
        "\n",
        "### Aside: Accuracy as a Metric\n",
        "\n",
        "Traditional machine learning (i.e. without a focus on fairness) often measures the quality of a classifier by it's **accuracy**, or what fraction of samples were labeled correctly:\n",
        "$$\n",
        "\\text{Accuracy} = \\frac{\\text{Number of Correctly Labeled People}}{\\text{Total Number of People}}\n",
        "$$\n",
        "This can also be expressed using the terms of the [\"Confusion Matrix\"](https://en.wikipedia.org/wiki/Confusion_matrix), where we let\n",
        "- $\\text{TP} = $ \"True Positives\" $ = \\text{Num. people Correctly labeled as Positive}$\n",
        "- $\\text{FP} = $ \"False Positives\" $ = \\text{Num. people Wrongly labeled as Positive}$\n",
        "- $\\text{TN} = $ \"True Negatives\" $ = \\text{Num. people Correctly labeled as Negative}$\n",
        "- $\\text{FN} = $ \"False Negatives\" $ = \\text{Num. people Wrongly labeled as Negative}$\n",
        "\n",
        "Which lets us express the Accuacy as\n",
        "$$\n",
        "\\text{Accuracy} = \\frac{TP + TN}{TP + FP + TN + FN}\n",
        "$$"
      ]
    },
    {
      "cell_type": "code",
      "execution_count": null,
      "metadata": {
        "cellView": "form",
        "colab": {
          "base_uri": "https://localhost:8080/"
        },
        "id": "ugcIGIK_XDxC",
        "outputId": "d65a6031-e18e-460a-e76e-7d42e623e237"
      },
      "outputs": [
        {
          "name": "stdout",
          "output_type": "stream",
          "text": [
            "X_train shape: (56000, 808)\n",
            "X_test shape: (14000, 808)\n",
            "y_train shape: (56000,)\n",
            "y_test shape: (14000,)\n"
          ]
        }
      ],
      "source": [
        "#@markdown Split data into training and test sets\n",
        "target = full_df['PINCP']\n",
        "full_df.drop(columns='PINCP', inplace=True)\n",
        "\n",
        "#note: here we are setting a value for the random_state (seed) parameter so that the results of this lab will remain consistent\n",
        "X_train, X_test, y_train, y_test = train_test_split(full_df, target, test_size=0.2, random_state=4)\n",
        "\n",
        "print(f'X_train shape: {X_train.shape}')\n",
        "print(f'X_test shape: {X_test.shape}')\n",
        "print(f'y_train shape: {y_train.shape}')\n",
        "print(f'y_test shape: {y_test.shape}')"
      ]
    },
    {
      "cell_type": "code",
      "execution_count": null,
      "metadata": {
        "cellView": "form",
        "id": "NlbkMZZEoFxG",
        "outputId": "5229d793-842c-430e-eae0-7a1050559a4a"
      },
      "outputs": [
        {
          "name": "stdout",
          "output_type": "stream",
          "text": [
            "General baseline accuracy: 0.5911\n"
          ]
        },
        {
          "data": {
            "text/plain": [
              "0.0    8276\n",
              "1.0    5724\n",
              "Name: PINCP, dtype: int64"
            ]
          },
          "execution_count": 19,
          "metadata": {},
          "output_type": "execute_result"
        }
      ],
      "source": [
        "#@markdown #**TODO**: What would be the accuracy ($\\frac{(TP + TN)}{(TP + FP + TN + FN)}$) of a classifier that always predicts the majority label (baseline classifier)?\n",
        "#@markdown Since the majority label is 0, the accuracy of this majority label classifier would be the number of 0's over the total number of records.\n",
        "\n",
        "# TODO: write code here\n",
        "\n",
        "baseline_accuracy = y_test[y_test == 0.0].count() / y_test.count()\n",
        "print(f'General baseline accuracy: {baseline_accuracy:.4f}')\n",
        "\n",
        "y_test.value_counts()"
      ]
    },
    {
      "cell_type": "code",
      "execution_count": null,
      "metadata": {
        "colab": {
          "base_uri": "https://localhost:8080/"
        },
        "id": "FHt5VXJefZ8L",
        "outputId": "a4131fdd-dc15-4607-a1ba-46fb2f55590c"
      },
      "outputs": [
        {
          "name": "stdout",
          "output_type": "stream",
          "text": [
            "Male baseline accuracy: 0.5392\n",
            "Female baseline accuracy: 0.6500\n"
          ]
        }
      ],
      "source": [
        "# @markdown #**TODO**: What would be the accuracy ($\\frac{(TP + TN)}{(TP + FP + TN + FN)}$) for the Male and Female groups considering a classifier that always predicts the majority label (baseline classifier) for each of these groups?\n",
        "\n",
        "# TODO: write code here\n",
        "\n",
        "male_baseline_accuracy = y_test[(X_test.SEX == 1) & (y_test == 0.0)].count() / y_test[X_test.SEX == 1].count()\n",
        "female_baseline_accuracy = y_test[(X_test.SEX == 0) & (y_test == 0.0)].count() / y_test[X_test.SEX == 0].count()\n",
        "print(f'Male baseline accuracy: {male_baseline_accuracy:.4f}')\n",
        "print(f'Female baseline accuracy: {female_baseline_accuracy:.4f}')"
      ]
    },
    {
      "cell_type": "code",
      "execution_count": null,
      "metadata": {
        "cellView": "form",
        "colab": {
          "base_uri": "https://localhost:8080/"
        },
        "id": "d6f1ZdiyXSE3",
        "outputId": "7f0886fd-580b-4c7b-802b-00f24aa96826"
      },
      "outputs": [
        {
          "name": "stdout",
          "output_type": "stream",
          "text": [
            "Logistic Regression test accuracy: 0.8172\n"
          ]
        }
      ],
      "source": [
        "#@markdown Implement logistic regression\n",
        "clf = LogisticRegression()\n",
        "clf.fit(X_train, y_train)\n",
        "clf_accuracy = clf.score(X_test, y_test)\n",
        "\n",
        "clear_output()\n",
        "\n",
        "print(f'Logistic Regression test accuracy: {clf_accuracy:.4f}')"
      ]
    },
    {
      "cell_type": "markdown",
      "metadata": {
        "id": "d9vugXFztlG8"
      },
      "source": [
        "## Evaluate fairness"
      ]
    },
    {
      "cell_type": "markdown",
      "metadata": {
        "id": "GlGbK5w4x7q-"
      },
      "source": [
        "Next, we will evaluate the fairness of our classifier on the test set. We first define the **selection rate** of the classifier on a group:\n",
        "$$\n",
        "\\text{Selection Rate} = \\frac{\\text{Number of People Classified Positive}}{\\text{Total Number of People}}\n",
        "$$\n",
        "We will compute the selection rate amongst men and amongst women, and compare them. The difference of their selection rates is called the **Demographic parity difference**, and the ratio of their rates is called the **Demographic parity ratio**.\n",
        "\n",
        "In general, if we have more than 2 classes,\n",
        "- The demographic parity difference is the difference of the largest and smallest selection rates, so it is always positive. A demographic parity difference of 0 means that all groups have the same selection rate.\n",
        "\n",
        "- The demographic parity ratio is the ratio of the smallest to largest selection rates, so it is always between 0 and 1, where a ratio of 1 means that all groups have the same selection rate.\n",
        "\n",
        "<!-- Next, we will evaluate the fairness of our classifier on the test set.  We will first focus on two metrics - demographic parity difference and demographic parity ratio.  **Demographic parity difference** is defined as the difference between the largest and the smallest group-level selection rate across all values of the sensitive feature(s).  A demographic parity difference of 0 means that all groups have the same selection rate.  **Demographic parity ratio** is defined as the ratio between the smallest and the largest group-level selection rate across all values of the sensitive feature(s).  A demographic parity ratio of 1 means that all groups have the same selection rate. -->\n",
        "\n",
        "More formally: let $X$ denote a feature vector used for predictions, $A$ be a single sensitive feature (such as age or race), $Y$ be the true label, and $h$ a classifier or predictor resulted from a Machine Learning algorithm. Then:\n",
        "\n",
        "*Demographic Parity Difference* is defined as $(max_a\\mathbb{E}[h(X)~|~  A = a])~ - ~ (min_a\\mathbb{E}[h(X)~|~  A = a]) $\n",
        "\n",
        "\n",
        "*Demographic Parity Ratio* is defined as $\\frac{max_a\\mathbb{E}[h(X)~|~  A = a]}{min_a\\mathbb{E}[h(X)~|~  A = a]} $"
      ]
    },
    {
      "cell_type": "code",
      "execution_count": null,
      "metadata": {
        "cellView": "form",
        "colab": {
          "base_uri": "https://localhost:8080/"
        },
        "id": "S9-CPsT9bhhy",
        "outputId": "05f0a009-7b71-4d89-99ba-08749d2f238a"
      },
      "outputs": [
        {
          "name": "stdout",
          "output_type": "stream",
          "text": [
            "Demographic parity difference: 0.1158\n",
            "Demographic parity ratio: 0.7491\n",
            "Male selection rate: 0.4613\n",
            "Female selection rate: 0.3456\n"
          ]
        }
      ],
      "source": [
        "#@markdown Evaluate the fairness of the classifier using `demographic_parity_difference` and `demographic_parity_ratio`\n",
        "#note: we are conducting this analysis over the test set\n",
        "\n",
        "#compute test predictions\n",
        "y_pred = clf.predict(X_test)\n",
        "\n",
        "#compute demographic parity difference and demographic parity ratio\n",
        "demo_parity_diff = demographic_parity_difference(y_test, y_pred, sensitive_features=X_test['SEX'])\n",
        "demo_parity_ratio = demographic_parity_ratio(y_test, y_pred, sensitive_features=X_test['SEX'])\n",
        "\n",
        "print(f'Demographic parity difference: {demo_parity_diff:.4f}')\n",
        "print(f'Demographic parity ratio: {demo_parity_ratio:.4f}')\n",
        "\n",
        "#compute selection rate for males and females\n",
        "male_selection_rate = selection_rate(y_test[X_test['SEX']==1], y_pred[X_test['SEX']==1])\n",
        "female_selection_rate = selection_rate(y_test[X_test['SEX']==0], y_pred[X_test['SEX']==0])\n",
        "\n",
        "print(f'Male selection rate: {male_selection_rate:.4f}')\n",
        "print(f'Female selection rate: {female_selection_rate:.4f}')"
      ]
    },
    {
      "cell_type": "markdown",
      "metadata": {
        "id": "JbwDQ2nQ8c_J"
      },
      "source": [
        "Here, we can see that there are substantial differences in selection rates between males and females with males being significantly more likely to be classified as high income."
      ]
    },
    {
      "cell_type": "markdown",
      "metadata": {
        "id": "DxWyzIlKyHIH"
      },
      "source": [
        "Fairlearn also provides the fairlearn.metrics.MetricFrame class to evaluate disparities in treatment between different sub-populations.\n",
        "\n",
        "The **fairlearn.metrics.MetricFrame** object requires a minimum of four arguments:\n",
        "\n",
        "*   The underlying metric function(s) to be evaluated\n",
        "*   The true values\n",
        "*   The predicted values\n",
        "*   The sensitive feature values\n",
        "\n",
        "Metric functions must have a signature ''fn(y_true, y_pred)'', i.e., require only two arguments.  Here we will again look at selection rate, but we will also examine a few other metrics.  We will use accuracy, selection rate, false negative rate, and false positive rate."
      ]
    },
    {
      "cell_type": "code",
      "execution_count": null,
      "metadata": {
        "cellView": "form",
        "id": "0lhzxtUcmay1"
      },
      "outputs": [],
      "source": [
        "#@markdown Evaluate the fairness of the classifier using the MetricFrame class for the `SEX` variable\n",
        "\n",
        "#changing sensitive feature inputs to be 'male' and 'female' instead of 1 and 0\n",
        "sensitive_feature_sex = X_test['SEX'].replace({0:'female', 1:'male'})\n",
        "\n",
        "#evaluation metrics\n",
        "metrics = {'accuracy': skm.accuracy_score,\n",
        "           'selection_rate': selection_rate,  # i.e., the percentage of the population which have ‘1’ as their predicted label\n",
        "           'FNR': false_negative_rate,\n",
        "           'FPR': false_positive_rate\n",
        "           }\n",
        "\n",
        "grouped_on_sex = MetricFrame(metrics=metrics,\n",
        "                             y_true=y_test,\n",
        "                             y_pred=y_pred,\n",
        "                             sensitive_features=sensitive_feature_sex)"
      ]
    },
    {
      "cell_type": "markdown",
      "metadata": {
        "id": "P-AAN3eYyOrh"
      },
      "source": [
        "The **fairlearn.metrics.MetricFrame** has the **overall** property, which evaluates the metrics on the entire dataset."
      ]
    },
    {
      "cell_type": "code",
      "execution_count": null,
      "metadata": {
        "cellView": "form",
        "colab": {
          "base_uri": "https://localhost:8080/"
        },
        "id": "JPuojgxHm4EG",
        "outputId": "06778503-6145-4153-d0a9-1735dd28de1b"
      },
      "outputs": [
        {
          "data": {
            "text/plain": [
              "accuracy          0.817214\n",
              "selection_rate    0.407071\n",
              "FNR               0.225716\n",
              "FPR               0.153093\n",
              "dtype: float64"
            ]
          },
          "execution_count": 24,
          "metadata": {},
          "output_type": "execute_result"
        }
      ],
      "source": [
        "#@title\n",
        "grouped_on_sex.overall"
      ]
    },
    {
      "cell_type": "code",
      "execution_count": null,
      "metadata": {
        "cellView": "form",
        "id": "OG4i1QxPYDm9"
      },
      "outputs": [],
      "source": [
        "#@markdown # **TODO**: Evaluate fairness for the `RAC1P` variable (for black and white individuals at minimum), and show `grouped_on_race.overall` \n",
        "\n",
        "# TODO: write code here\n",
        "sensitive_feature_race = X_test[(X_test.RAC1P_1 == 1) | (X_test.RAC1P_2 == 1)]['RAC1P_1'].replace({0:'Black', 1:'White'})\n",
        "\n",
        "#evaluation metrics\n",
        "metrics = {'accuracy': skm.accuracy_score,\n",
        "           'selection_rate': selection_rate,  # i.e., the percentage of the population which have ‘1’ as their predicted label\n",
        "           'FNR': false_negative_rate,\n",
        "           'FPR': false_positive_rate\n",
        "           }\n",
        "\n",
        "grouped_on_race = MetricFrame(metrics=metrics,\n",
        "                             y_true=y_test[(X_test.RAC1P_1 == 1) | (X_test.RAC1P_2 == 1)],\n",
        "                             y_pred=y_pred[(X_test.RAC1P_1 == 1) | (X_test.RAC1P_2 == 1)],\n",
        "                             sensitive_features=sensitive_feature_race)"
      ]
    },
    {
      "cell_type": "code",
      "execution_count": null,
      "metadata": {
        "cellView": "form",
        "colab": {
          "base_uri": "https://localhost:8080/"
        },
        "id": "HD4OsxeWbXjW",
        "outputId": "19bf7ddb-aa98-4d2b-99b7-29f302a33c0b"
      },
      "outputs": [
        {
          "data": {
            "text/plain": [
              "accuracy          0.810571\n",
              "selection_rate    0.441785\n",
              "FNR               0.208312\n",
              "FPR               0.175033\n",
              "dtype: float64"
            ]
          },
          "execution_count": 34,
          "metadata": {},
          "output_type": "execute_result"
        }
      ],
      "source": [
        "#@markdown\n",
        "grouped_on_race.overall"
      ]
    },
    {
      "cell_type": "markdown",
      "metadata": {
        "id": "yr-EFAs8yQBd"
      },
      "source": [
        "The **fairlearn.metrics.MetricFrame** object also has the **by_group** functionality. This displays the selected metrics evaluated on each subgroup defined by the categories in the sensitive_features (sex in our case)."
      ]
    },
    {
      "cell_type": "code",
      "execution_count": null,
      "metadata": {
        "cellView": "form",
        "colab": {
          "base_uri": "https://localhost:8080/",
          "height": 143
        },
        "id": "F4KM3xmxm9Ng",
        "outputId": "c2b3b482-a013-4ef7-c044-9525872e788a"
      },
      "outputs": [
        {
          "data": {
            "text/html": [
              "<div>\n",
              "<style scoped>\n",
              "    .dataframe tbody tr th:only-of-type {\n",
              "        vertical-align: middle;\n",
              "    }\n",
              "\n",
              "    .dataframe tbody tr th {\n",
              "        vertical-align: top;\n",
              "    }\n",
              "\n",
              "    .dataframe thead th {\n",
              "        text-align: right;\n",
              "    }\n",
              "</style>\n",
              "<table border=\"1\" class=\"dataframe\">\n",
              "  <thead>\n",
              "    <tr style=\"text-align: right;\">\n",
              "      <th></th>\n",
              "      <th>accuracy</th>\n",
              "      <th>selection_rate</th>\n",
              "      <th>FNR</th>\n",
              "      <th>FPR</th>\n",
              "    </tr>\n",
              "    <tr>\n",
              "      <th>SEX</th>\n",
              "      <th></th>\n",
              "      <th></th>\n",
              "      <th></th>\n",
              "      <th></th>\n",
              "    </tr>\n",
              "  </thead>\n",
              "  <tbody>\n",
              "    <tr>\n",
              "      <th>female</th>\n",
              "      <td>0.819138</td>\n",
              "      <td>0.345574</td>\n",
              "      <td>0.264693</td>\n",
              "      <td>0.135724</td>\n",
              "    </tr>\n",
              "    <tr>\n",
              "      <th>male</th>\n",
              "      <td>0.815517</td>\n",
              "      <td>0.461342</td>\n",
              "      <td>0.199591</td>\n",
              "      <td>0.171571</td>\n",
              "    </tr>\n",
              "  </tbody>\n",
              "</table>\n",
              "</div>"
            ],
            "text/plain": [
              "        accuracy  selection_rate       FNR       FPR\n",
              "SEX                                                 \n",
              "female  0.819138        0.345574  0.264693  0.135724\n",
              "male    0.815517        0.461342  0.199591  0.171571"
            ]
          },
          "execution_count": 35,
          "metadata": {},
          "output_type": "execute_result"
        }
      ],
      "source": [
        "#@title\n",
        "grouped_on_sex.by_group"
      ]
    },
    {
      "cell_type": "code",
      "execution_count": null,
      "metadata": {
        "cellView": "form",
        "colab": {
          "base_uri": "https://localhost:8080/",
          "height": 143
        },
        "id": "LaYBo98cbbJK",
        "outputId": "087aaf48-1b5d-4f44-80db-90fb095fed47"
      },
      "outputs": [
        {
          "data": {
            "text/html": [
              "<div>\n",
              "<style scoped>\n",
              "    .dataframe tbody tr th:only-of-type {\n",
              "        vertical-align: middle;\n",
              "    }\n",
              "\n",
              "    .dataframe tbody tr th {\n",
              "        vertical-align: top;\n",
              "    }\n",
              "\n",
              "    .dataframe thead th {\n",
              "        text-align: right;\n",
              "    }\n",
              "</style>\n",
              "<table border=\"1\" class=\"dataframe\">\n",
              "  <thead>\n",
              "    <tr style=\"text-align: right;\">\n",
              "      <th></th>\n",
              "      <th>accuracy</th>\n",
              "      <th>selection_rate</th>\n",
              "      <th>FNR</th>\n",
              "      <th>FPR</th>\n",
              "    </tr>\n",
              "    <tr>\n",
              "      <th>RAC1P_1</th>\n",
              "      <th></th>\n",
              "      <th></th>\n",
              "      <th></th>\n",
              "      <th></th>\n",
              "    </tr>\n",
              "  </thead>\n",
              "  <tbody>\n",
              "    <tr>\n",
              "      <th>Black</th>\n",
              "      <td>0.771930</td>\n",
              "      <td>0.314195</td>\n",
              "      <td>0.377273</td>\n",
              "      <td>0.147420</td>\n",
              "    </tr>\n",
              "    <tr>\n",
              "      <th>White</th>\n",
              "      <td>0.813386</td>\n",
              "      <td>0.451081</td>\n",
              "      <td>0.198463</td>\n",
              "      <td>0.177359</td>\n",
              "    </tr>\n",
              "  </tbody>\n",
              "</table>\n",
              "</div>"
            ],
            "text/plain": [
              "         accuracy  selection_rate       FNR       FPR\n",
              "RAC1P_1                                              \n",
              "Black    0.771930        0.314195  0.377273  0.147420\n",
              "White    0.813386        0.451081  0.198463  0.177359"
            ]
          },
          "execution_count": 36,
          "metadata": {},
          "output_type": "execute_result"
        }
      ],
      "source": [
        "#@markdown # **TODO**: Display for `RAC1P` as well\n",
        "\n",
        "# TODO: write code here\n",
        "grouped_on_race.by_group"
      ]
    },
    {
      "cell_type": "markdown",
      "metadata": {
        "id": "LNr0r1yIIE3Y"
      },
      "source": [
        "Reminder: Females are labeled 0 and males are labeled 1."
      ]
    },
    {
      "cell_type": "code",
      "execution_count": null,
      "metadata": {
        "cellView": "form",
        "colab": {
          "base_uri": "https://localhost:8080/",
          "height": 966
        },
        "id": "5B9z7HUdm_up",
        "outputId": "3a0869cc-fd13-40ea-af7a-16ee3f4f041a"
      },
      "outputs": [
        {
          "data": {
            "text/plain": [
              "<AxesSubplot:title={'center':'FNR and FPR by sex'}, xlabel='SEX'>"
            ]
          },
          "execution_count": 37,
          "metadata": {},
          "output_type": "execute_result"
        },
        {
          "data": {
            "image/png": "[encoded data removed]",
            "text/plain": [
              "<Figure size 720x504 with 1 Axes>"
            ]
          },
          "metadata": {
            "needs_background": "light"
          },
          "output_type": "display_data"
        },
        {
          "data": {
            "image/png": "[encoded data removed]",
            "text/plain": [
              "<Figure size 720x504 with 1 Axes>"
            ]
          },
          "metadata": {
            "needs_background": "light"
          },
          "output_type": "display_data"
        }
      ],
      "source": [
        "#@markdown Plot the metric values\n",
        "\n",
        "metrics_1 = {'accuracy': skm.accuracy_score,\n",
        "           'selection_rate': selection_rate,  # i.e., the percentage of the population which have ‘1’ as their predicted label\n",
        "           }\n",
        "\n",
        "metrics_2 = {\n",
        "           'FNR': false_negative_rate,\n",
        "           'FPR': false_positive_rate\n",
        "           }\n",
        "\n",
        "grouped_on_sex_accuracy_selection = MetricFrame(metrics=metrics_1,\n",
        "                             y_true=y_test,\n",
        "                             y_pred=y_pred,\n",
        "                             sensitive_features=sensitive_feature_sex)\n",
        "\n",
        "grouped_on_sex_fpr_fnr = MetricFrame(metrics=metrics_2,\n",
        "                             y_true=y_test,\n",
        "                             y_pred=y_pred,\n",
        "                             sensitive_features=sensitive_feature_sex)\n",
        "\n",
        "grouped_on_sex_accuracy_selection.by_group.plot.bar(\n",
        "    subplots=False, \n",
        "    figsize=(10, 7), \n",
        "    ylim=[0,1],\n",
        "    title=\"Accuracy and selection rate by sex\",\n",
        "    )\n",
        "\n",
        "grouped_on_sex_fpr_fnr.by_group.plot.bar(\n",
        "    subplots=False, \n",
        "    figsize=(10, 7), \n",
        "    ylim=[0,1],\n",
        "    title=\"FNR and FPR by sex\",\n",
        "    )"
      ]
    },
    {
      "cell_type": "code",
      "execution_count": null,
      "metadata": {
        "cellView": "form",
        "colab": {
          "base_uri": "https://localhost:8080/",
          "height": 954
        },
        "id": "PK3tfGI-bjAy",
        "outputId": "227c1159-f15c-409d-b869-0036f04d1f9d"
      },
      "outputs": [
        {
          "data": {
            "text/plain": [
              "<AxesSubplot:title={'center':'FNR and FPR by race'}, xlabel='RAC1P_1'>"
            ]
          },
          "execution_count": 38,
          "metadata": {},
          "output_type": "execute_result"
        },
        {
          "data": {
            "image/png": "[encoded data removed]",
            "text/plain": [
              "<Figure size 720x504 with 1 Axes>"
            ]
          },
          "metadata": {
            "needs_background": "light"
          },
          "output_type": "display_data"
        },
        {
          "data": {
            "image/png": "[encoded data removed]",
            "text/plain": [
              "<Figure size 720x504 with 1 Axes>"
            ]
          },
          "metadata": {
            "needs_background": "light"
          },
          "output_type": "display_data"
        }
      ],
      "source": [
        "# @markdown #**TODO**: Replicate the above plots for at `RAC1P` and at least black/white individuals in the data. \n",
        "\n",
        "# TODO: write code here\n",
        "metrics_1 = {'accuracy': skm.accuracy_score,\n",
        "           'selection_rate': selection_rate,  # i.e., the percentage of the population which have ‘1’ as their predicted label\n",
        "           }\n",
        "\n",
        "metrics_2 = {\n",
        "           'FNR': false_negative_rate,\n",
        "           'FPR': false_positive_rate\n",
        "           }\n",
        "\n",
        "grouped_on_race_accuracy_selection = MetricFrame(metrics=metrics_1,\n",
        "                             y_true=y_test[(X_test.RAC1P_1 == 1) | (X_test.RAC1P_2 == 1)],\n",
        "                             y_pred=y_pred[(X_test.RAC1P_1 == 1) | (X_test.RAC1P_2 == 1)],\n",
        "                             sensitive_features=sensitive_feature_race)\n",
        "\n",
        "grouped_on_race_fpr_fnr = MetricFrame(metrics=metrics_2,\n",
        "                             y_true=y_test[(X_test.RAC1P_1 == 1) | (X_test.RAC1P_2 == 1)],\n",
        "                             y_pred=y_pred[(X_test.RAC1P_1 == 1) | (X_test.RAC1P_2 == 1)],\n",
        "                             sensitive_features=sensitive_feature_race)\n",
        "\n",
        "grouped_on_race_accuracy_selection.by_group.plot.bar(\n",
        "    subplots=False, \n",
        "    figsize=(10, 7), \n",
        "    ylim=[0,1],\n",
        "    title=\"Accuracy and selection rate by race\",\n",
        "    )\n",
        "\n",
        "grouped_on_race_fpr_fnr.by_group.plot.bar(\n",
        "    subplots=False, \n",
        "    figsize=(10, 7), \n",
        "    ylim=[0,1],\n",
        "    title=\"FNR and FPR by race\",\n",
        "    )"
      ]
    },
    {
      "cell_type": "markdown",
      "metadata": {
        "id": "LH7SZrv2N8ot"
      },
      "source": [
        "# **TODO**: Observe that accuracy for male and female groups is comparable, and yet we see disparities in FPR and FNR.  Which group benefits from the discrepancies in FPR and FNR shown above?  If you were deploying this system how would you measure performance (eg. accuracy, FNR, FPR)? (Reminder: females are labelled 0, males are labelled 1)\n"
      ]
    },
    {
      "cell_type": "markdown",
      "metadata": {
        "id": "5cX_eE4QhmLO"
      },
      "source": [
        "**Answer**: black males are affected more because of fnr. i would measure accuracy rather than fnr or fpr."
      ]
    },
    {
      "cell_type": "markdown",
      "metadata": {
        "id": "PFqCzXyXyhcO"
      },
      "source": [
        "#4. Train \"Blind\" Logistic Regression Classifier (Fairness through Blindness)"
      ]
    },
    {
      "cell_type": "markdown",
      "metadata": {
        "id": "7cJPVQ7byn53"
      },
      "source": [
        "Next, we will remove the protected attribute of \"sex\" from our data and see what effect this has on the performance of our classifier."
      ]
    },
    {
      "cell_type": "code",
      "execution_count": null,
      "metadata": {
        "cellView": "form",
        "id": "BGZewKk9tBbZ"
      },
      "outputs": [],
      "source": [
        "# @markdown Remove sensitive attribute from data\n",
        "X_train_blind = X_train.drop(columns='SEX')\n",
        "X_test_blind = X_test.drop(columns='SEX')"
      ]
    },
    {
      "cell_type": "code",
      "execution_count": null,
      "metadata": {
        "cellView": "form",
        "colab": {
          "base_uri": "https://localhost:8080/"
        },
        "id": "P-0MCOFjtL9l",
        "outputId": "5794d331-89cc-403c-db74-529e969d179f"
      },
      "outputs": [
        {
          "name": "stdout",
          "output_type": "stream",
          "text": [
            "Logistic Regression test accuracy (without sensitive attribute): 0.8145\n"
          ]
        }
      ],
      "source": [
        "# @markdown Implement logistic regression\n",
        "clf_blind = LogisticRegression()\n",
        "clf_blind.fit(X_train_blind, y_train) \n",
        "clf_blind_accuracy = clf_blind.score(X_test_blind, y_test)\n",
        "\n",
        "clear_output()\n",
        "\n",
        "print(f'Logistic Regression test accuracy (without sensitive attribute): {clf_blind_accuracy:.4f}')"
      ]
    },
    {
      "cell_type": "code",
      "execution_count": null,
      "metadata": {
        "cellView": "form",
        "colab": {
          "base_uri": "https://localhost:8080/"
        },
        "id": "5Svx5AUycMC5",
        "outputId": "7283e4dc-6ae1-47b1-834b-29e07436c825"
      },
      "outputs": [
        {
          "name": "stdout",
          "output_type": "stream",
          "text": [
            "Recall the original classifier:\n",
            "Logistic Regression test accuracy: 0.8172\n",
            "Demographic parity difference: 0.1158\n",
            "Demographic parity ratio: 0.7491\n",
            "Male selection rate: 0.4613\n",
            "Female selection rate: 0.3456\n"
          ]
        }
      ],
      "source": [
        "# @markdown Recall the accuracy fairness of the original classifier\n",
        "print('Recall the original classifier:')\n",
        "print(f'Logistic Regression test accuracy: {clf_accuracy:.4f}')\n",
        "print(f'Demographic parity difference: {demo_parity_diff:.4f}')\n",
        "print(f'Demographic parity ratio: {demo_parity_ratio:.4f}')\n",
        "print(f'Male selection rate: {male_selection_rate:.4f}')\n",
        "print(f'Female selection rate: {female_selection_rate:.4f}')"
      ]
    },
    {
      "cell_type": "code",
      "execution_count": null,
      "metadata": {
        "cellView": "form",
        "colab": {
          "base_uri": "https://localhost:8080/"
        },
        "id": "bEg0YU9Ltbzh",
        "outputId": "a2de9e73-69af-43a0-c386-437ae8b625de"
      },
      "outputs": [
        {
          "name": "stdout",
          "output_type": "stream",
          "text": [
            "Demographic parity difference (without sensitive attribute): 0.0725\n",
            "Demographic parity ratio (without sensitive attribute): 0.8363\n",
            "Male selection rate (without sensitive attribute): 0.4429\n",
            "Female selection rate (without sensitive attribute): 0.3704\n"
          ]
        }
      ],
      "source": [
        "# @markdown Evaluate fairness of the blind classifier\n",
        "\n",
        "#compute test predictions\n",
        "y_pred_blind = clf_blind.predict(X_test_blind)\n",
        "\n",
        "#compute demographic parity difference and demographic parity ratio\n",
        "demo_parity_diff_blind = demographic_parity_difference(y_test, y_pred_blind, sensitive_features=X_test['SEX'])\n",
        "demo_parity_ratio_blind = demographic_parity_ratio(y_test, y_pred_blind, sensitive_features=X_test['SEX'])\n",
        "\n",
        "print(f'Demographic parity difference (without sensitive attribute): {demo_parity_diff_blind:.4f}')\n",
        "print(f'Demographic parity ratio (without sensitive attribute): {demo_parity_ratio_blind:.4f}')\n",
        "\n",
        "#compute selection rate for males and females\n",
        "male_selection_rate_blind = selection_rate(y_test[X_test['SEX']==1], y_pred_blind[X_test['SEX']==1])\n",
        "female_selection_rate_blind = selection_rate(y_test[X_test['SEX']==0], y_pred_blind[X_test['SEX']==0])\n",
        "\n",
        "print(f'Male selection rate (without sensitive attribute): {male_selection_rate_blind:.4f}')\n",
        "print(f'Female selection rate (without sensitive attribute): {female_selection_rate_blind:.4f}')\n",
        "\n"
      ]
    },
    {
      "cell_type": "markdown",
      "metadata": {
        "id": "Yueobvhd78gp"
      },
      "source": [
        "# **TODO:** describe the differences of both models in terms of accuracy and fairness among male and female groups?\n"
      ]
    },
    {
      "cell_type": "markdown",
      "metadata": {
        "id": "lh0IiGaahqs9"
      },
      "source": [
        "**Answer**: logistic model is more accurate and the fairness model is more sensitive to demographic parity."
      ]
    },
    {
      "cell_type": "markdown",
      "metadata": {
        "id": "PRVVozeK0IYV"
      },
      "source": [
        "**Nevertheless**, we see that removing the protected feature did not eliminate the biases within our classifier, as exhibited below."
      ]
    },
    {
      "cell_type": "code",
      "execution_count": null,
      "metadata": {
        "cellView": "form",
        "id": "6FP75qKmuC6_"
      },
      "outputs": [],
      "source": [
        "# @markdown Evaluate the biases of the classifier using the MetricFrame class\n",
        "grouped_on_sex_blind = MetricFrame(metrics=metrics,\n",
        "                                     y_true=y_test,\n",
        "                                     y_pred=y_pred_blind,\n",
        "                                     sensitive_features=sensitive_feature_sex)"
      ]
    },
    {
      "cell_type": "code",
      "execution_count": null,
      "metadata": {
        "cellView": "form",
        "colab": {
          "base_uri": "https://localhost:8080/"
        },
        "id": "Z0l6FUGluMWh",
        "outputId": "2bcfeb5f-db5d-4de9-e968-bfeb8d389de9"
      },
      "outputs": [
        {
          "data": {
            "text/plain": [
              "accuracy          0.814500\n",
              "selection_rate    0.408929\n",
              "FNR               0.226765\n",
              "FPR               0.156960\n",
              "dtype: float64"
            ]
          },
          "execution_count": 44,
          "metadata": {},
          "output_type": "execute_result"
        }
      ],
      "source": [
        "# @markdown\n",
        "grouped_on_sex_blind.overall"
      ]
    },
    {
      "cell_type": "code",
      "execution_count": null,
      "metadata": {
        "cellView": "form",
        "colab": {
          "base_uri": "https://localhost:8080/",
          "height": 143
        },
        "id": "DwAXmgKcuR0M",
        "outputId": "409acb8a-1ae5-4b32-f439-65bd4cd74d37"
      },
      "outputs": [
        {
          "data": {
            "text/html": [
              "<div>\n",
              "<style scoped>\n",
              "    .dataframe tbody tr th:only-of-type {\n",
              "        vertical-align: middle;\n",
              "    }\n",
              "\n",
              "    .dataframe tbody tr th {\n",
              "        vertical-align: top;\n",
              "    }\n",
              "\n",
              "    .dataframe thead th {\n",
              "        text-align: right;\n",
              "    }\n",
              "</style>\n",
              "<table border=\"1\" class=\"dataframe\">\n",
              "  <thead>\n",
              "    <tr style=\"text-align: right;\">\n",
              "      <th></th>\n",
              "      <th>accuracy</th>\n",
              "      <th>selection_rate</th>\n",
              "      <th>FNR</th>\n",
              "      <th>FPR</th>\n",
              "    </tr>\n",
              "    <tr>\n",
              "      <th>SEX</th>\n",
              "      <th></th>\n",
              "      <th></th>\n",
              "      <th></th>\n",
              "      <th></th>\n",
              "    </tr>\n",
              "  </thead>\n",
              "  <tbody>\n",
              "    <tr>\n",
              "      <th>female</th>\n",
              "      <td>0.816547</td>\n",
              "      <td>0.370410</td>\n",
              "      <td>0.232912</td>\n",
              "      <td>0.156821</td>\n",
              "    </tr>\n",
              "    <tr>\n",
              "      <th>male</th>\n",
              "      <td>0.812693</td>\n",
              "      <td>0.442921</td>\n",
              "      <td>0.222644</td>\n",
              "      <td>0.157107</td>\n",
              "    </tr>\n",
              "  </tbody>\n",
              "</table>\n",
              "</div>"
            ],
            "text/plain": [
              "        accuracy  selection_rate       FNR       FPR\n",
              "SEX                                                 \n",
              "female  0.816547        0.370410  0.232912  0.156821\n",
              "male    0.812693        0.442921  0.222644  0.157107"
            ]
          },
          "execution_count": 45,
          "metadata": {},
          "output_type": "execute_result"
        }
      ],
      "source": [
        "# @markdown\n",
        "grouped_on_sex_blind.by_group"
      ]
    },
    {
      "cell_type": "markdown",
      "metadata": {
        "id": "zENn3IQzsNjR"
      },
      "source": [
        "## **Showing all the metrics for the full data and blinded data.**"
      ]
    },
    {
      "cell_type": "code",
      "execution_count": null,
      "metadata": {
        "cellView": "form",
        "colab": {
          "base_uri": "https://localhost:8080/",
          "height": 513
        },
        "id": "5TOyiVARo16T",
        "outputId": "33614a9a-1ed2-4328-a4bd-6b902445bca3"
      },
      "outputs": [
        {
          "data": {
            "image/png": "[encoded data removed]",
            "text/plain": [
              "<Figure size 1080x504 with 1 Axes>"
            ]
          },
          "metadata": {
            "needs_background": "light"
          },
          "output_type": "display_data"
        }
      ],
      "source": [
        "# @markdown Comparing the results: full-data vs. blinded data\n",
        "\n",
        "#demographic parity difference\n",
        "demo_parity_diff = demographic_parity_difference(y_test, y_pred, sensitive_features=X_test['SEX'])\n",
        "demo_parity_diff_blind = demographic_parity_difference(y_test, y_pred_blind, sensitive_features=X_test['SEX'])\n",
        "\n",
        "#demographic parity ratio\n",
        "demo_parity_ratio = demographic_parity_ratio(y_test, y_pred, sensitive_features=X_test['SEX'])\n",
        "demo_parity_ratio_blind = demographic_parity_ratio(y_test, y_pred_blind, sensitive_features=X_test['SEX'])\n",
        "\n",
        "#selection rate\n",
        "male_selection_rate = selection_rate(y_test[X_test['SEX']==1], y_pred[X_test['SEX']==1])\n",
        "male_selection_rate_blind = selection_rate(y_test[X_test['SEX']==1], y_pred_blind[X_test['SEX']==1])\n",
        "\n",
        "female_selection_rate = selection_rate(y_test[X_test['SEX']==0], y_pred[X_test['SEX']==0])\n",
        "female_selection_rate_blind = selection_rate(y_test[X_test['SEX']==0], y_pred_blind[X_test['SEX']==0])\n",
        "\n",
        "#fnr\n",
        "male_fnr = false_negative_rate(y_test[X_test['SEX']==1], y_pred[X_test['SEX']==1])\n",
        "male_fnr_blind = false_negative_rate(y_test[X_test['SEX']==1], y_pred_blind[X_test['SEX']==1])\n",
        "\n",
        "female_fnr = false_negative_rate(y_test[X_test['SEX']==0], y_pred[X_test['SEX']==0])\n",
        "female_fnr_blind = false_negative_rate(y_test[X_test['SEX']==0], y_pred_blind[X_test['SEX']==0])\n",
        "\n",
        "#fpr\n",
        "male_fpr = false_positive_rate(y_test[X_test['SEX']==1], y_pred[X_test['SEX']==1])\n",
        "male_fpr_blind = false_positive_rate(y_test[X_test['SEX']==1], y_pred_blind[X_test['SEX']==1])\n",
        "\n",
        "female_fpr = false_positive_rate(y_test[X_test['SEX']==0], y_pred[X_test['SEX']==0])\n",
        "female_fpr_blind = false_positive_rate(y_test[X_test['SEX']==0], y_pred_blind[X_test['SEX']==0])\n",
        "\n",
        "#plot\n",
        "labels = ['Demo Parity Diff','Demo Parity Ratio','Sel Rate (Male)',\n",
        "          'Sel Rate (Female)', 'FNR (Male)', 'FNR (Female)', 'FPR(Male)',\n",
        "          'FPR(Female)']\n",
        "\n",
        "Y_full = [demo_parity_diff, demo_parity_ratio, male_selection_rate, \n",
        "          female_selection_rate, male_fnr, female_fnr, male_fpr, female_fpr]\n",
        "\n",
        "Y_blind = [demo_parity_diff_blind, demo_parity_ratio_blind, \n",
        "           male_selection_rate_blind, female_selection_rate_blind, male_fnr_blind, \n",
        "           female_fnr_blind, male_fpr_blind, female_fpr_blind]\n",
        "\n",
        "x = np.arange(len(labels))\n",
        "width = 0.35\n",
        "\n",
        "fig, ax = plt.subplots(figsize=(15, 7))\n",
        "rects1 = ax.bar(x - width/2, Y_full, width, label='Full Model')\n",
        "rects2 = ax.bar(x + width/2, Y_blind, width, label='Blind Model')\n",
        "\n",
        "ax.set_title('Metrics Comparison', size=20)\n",
        "ax.set_xticks(x)\n",
        "ax.set_xticklabels(labels)\n",
        "ax.legend(fontsize='x-large')\n",
        "ax.bar_label(rects1, padding=3, fmt='%.3f')\n",
        "ax.bar_label(rects2, padding=3, fmt='%.3f')\n",
        "ax.set_ylim([0, 1])\n",
        "fig.tight_layout()\n",
        "plt.rcParams[\"figure.figsize\"] = (18,8)\n",
        "plt.show()\n"
      ]
    },
    {
      "cell_type": "markdown",
      "metadata": {
        "id": "wz-7mcA60DyU"
      },
      "source": [
        "# **TODO:** What are the key takeaways from this Lab?\n"
      ]
    },
    {
      "cell_type": "markdown",
      "metadata": {
        "id": "13fHBQTGhvCt"
      },
      "source": [
        "**Answer**: It's crucial to take fairness into account when conducting a responsible analysis of a dataset. When analyzing data, it's important to remember to identify and remove any sensitive attributes. Although models that consider fairness may not necessarily have better test accuracy, they are more likely to produce smaller differences in demographic parity and higher parity ratios, making the analysis a fairer process.\n",
        "\n",
        "\n",
        "\n",
        "\n"
      ]
    }
  ],
  "metadata": {
    "colab": {
      "collapsed_sections": [
        "RuBQtfv5iZac",
        "Ip6sQt0eQLAU"
      ],
      "provenance": []
    },
    "kernelspec": {
      "display_name": "Python 3 (ipykernel)",
      "language": "python",
      "name": "python3"
    },
    "language_info": {
      "codemirror_mode": {
        "name": "ipython",
        "version": 3
      },
      "file_extension": ".py",
      "mimetype": "text/x-python",
      "name": "python",
      "nbconvert_exporter": "python",
      "pygments_lexer": "ipython3",
      "version": "3.9.9"
    }
  },
  "nbformat": 4,
  "nbformat_minor": 0
}