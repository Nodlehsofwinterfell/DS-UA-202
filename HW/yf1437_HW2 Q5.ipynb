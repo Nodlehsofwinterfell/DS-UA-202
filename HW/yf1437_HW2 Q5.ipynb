{
  "cells": [
    {
      "cell_type": "markdown",
      "metadata": {
        "id": "rmoZ7PnaFdYv"
      },
      "source": [
        "# RDS HW2 Template\n",
        "\n",
        "Install the Data Synthesizer library."
      ]
    },
    {
      "cell_type": "code",
      "execution_count": 1,
      "metadata": {
        "id": "1VR_j1uKFdY0",
        "colab": {
          "base_uri": "https://localhost:8080/"
        },
        "outputId": "38721f61-eed8-4c7c-db94-2a3b2956fe29"
      },
      "outputs": [
        {
          "output_type": "stream",
          "name": "stdout",
          "text": [
            "Looking in indexes: https://pypi.org/simple, https://us-python.pkg.dev/colab-wheels/public/simple/\n",
            "Collecting DataSynthesizer\n",
            "  Downloading DataSynthesizer-0.1.11-py2.py3-none-any.whl (24 kB)\n",
            "Requirement already satisfied: python-dateutil>=2.8.1 in /usr/local/lib/python3.9/dist-packages (from DataSynthesizer) (2.8.2)\n",
            "Requirement already satisfied: numpy>=1.18.5 in /usr/local/lib/python3.9/dist-packages (from DataSynthesizer) (1.22.4)\n",
            "Requirement already satisfied: matplotlib>=3.2.2 in /usr/local/lib/python3.9/dist-packages (from DataSynthesizer) (3.7.1)\n",
            "Requirement already satisfied: pandas>=1.0.5 in /usr/local/lib/python3.9/dist-packages (from DataSynthesizer) (1.4.4)\n",
            "Requirement already satisfied: scikit-learn>=0.23.1 in /usr/local/lib/python3.9/dist-packages (from DataSynthesizer) (1.2.2)\n",
            "Requirement already satisfied: seaborn>=0.10.1 in /usr/local/lib/python3.9/dist-packages (from DataSynthesizer) (0.12.2)\n",
            "Requirement already satisfied: pillow>=6.2.0 in /usr/local/lib/python3.9/dist-packages (from matplotlib>=3.2.2->DataSynthesizer) (8.4.0)\n",
            "Requirement already satisfied: importlib-resources>=3.2.0 in /usr/local/lib/python3.9/dist-packages (from matplotlib>=3.2.2->DataSynthesizer) (5.12.0)\n",
            "Requirement already satisfied: contourpy>=1.0.1 in /usr/local/lib/python3.9/dist-packages (from matplotlib>=3.2.2->DataSynthesizer) (1.0.7)\n",
            "Requirement already satisfied: fonttools>=4.22.0 in /usr/local/lib/python3.9/dist-packages (from matplotlib>=3.2.2->DataSynthesizer) (4.39.2)\n",
            "Requirement already satisfied: cycler>=0.10 in /usr/local/lib/python3.9/dist-packages (from matplotlib>=3.2.2->DataSynthesizer) (0.11.0)\n",
            "Requirement already satisfied: packaging>=20.0 in /usr/local/lib/python3.9/dist-packages (from matplotlib>=3.2.2->DataSynthesizer) (23.0)\n",
            "Requirement already satisfied: kiwisolver>=1.0.1 in /usr/local/lib/python3.9/dist-packages (from matplotlib>=3.2.2->DataSynthesizer) (1.4.4)\n",
            "Requirement already satisfied: pyparsing>=2.3.1 in /usr/local/lib/python3.9/dist-packages (from matplotlib>=3.2.2->DataSynthesizer) (3.0.9)\n",
            "Requirement already satisfied: pytz>=2020.1 in /usr/local/lib/python3.9/dist-packages (from pandas>=1.0.5->DataSynthesizer) (2022.7.1)\n",
            "Requirement already satisfied: six>=1.5 in /usr/local/lib/python3.9/dist-packages (from python-dateutil>=2.8.1->DataSynthesizer) (1.16.0)\n",
            "Requirement already satisfied: scipy>=1.3.2 in /usr/local/lib/python3.9/dist-packages (from scikit-learn>=0.23.1->DataSynthesizer) (1.10.1)\n",
            "Requirement already satisfied: joblib>=1.1.1 in /usr/local/lib/python3.9/dist-packages (from scikit-learn>=0.23.1->DataSynthesizer) (1.1.1)\n",
            "Requirement already satisfied: threadpoolctl>=2.0.0 in /usr/local/lib/python3.9/dist-packages (from scikit-learn>=0.23.1->DataSynthesizer) (3.1.0)\n",
            "Requirement already satisfied: zipp>=3.1.0 in /usr/local/lib/python3.9/dist-packages (from importlib-resources>=3.2.0->matplotlib>=3.2.2->DataSynthesizer) (3.15.0)\n",
            "Installing collected packages: DataSynthesizer\n",
            "Successfully installed DataSynthesizer-0.1.11\n"
          ]
        }
      ],
      "source": [
        "!pip install DataSynthesizer"
      ]
    },
    {
      "cell_type": "code",
      "execution_count": 2,
      "metadata": {
        "id": "yd3BwlQ1FdZD"
      },
      "outputs": [],
      "source": [
        "from DataSynthesizer.DataDescriber import DataDescriber\n",
        "from DataSynthesizer.DataGenerator import DataGenerator\n",
        "from DataSynthesizer.ModelInspector import ModelInspector\n",
        "from DataSynthesizer.lib.utils import normalize_given_distribution, read_json_file, pairwise_attributes_mutual_information, mutual_information, set_random_seed\n",
        "\n",
        "from IPython.display import clear_output\n",
        "from scipy.stats import entropy, ks_2samp\n",
        "from scipy.spatial.distance import euclidean\n",
        "from sklearn.metrics import mutual_info_score\n",
        "from random import randint\n",
        "import pandas as pd\n",
        "import matplotlib.pyplot as plt\n",
        "import seaborn as sns\n",
        "%matplotlib inline"
      ]
    },
    {
      "cell_type": "code",
      "execution_count": 3,
      "metadata": {
        "id": "M6YGhJ8yFdZO"
      },
      "outputs": [],
      "source": [
        "def generate_data_A(input_data_file, output_data_size, seed=None):\n",
        "    seed = seed or randint(0, 2**30)\n",
        "    description_file = description_files['A']\n",
        "    \n",
        "    describer = DataDescriber()\n",
        "    describer.describe_dataset_in_random_mode(input_data_file, seed=seed)\n",
        "    describer.save_dataset_description_to_file(description_file)\n",
        "    \n",
        "    generator = DataGenerator()\n",
        "    generator.generate_dataset_in_random_mode(output_data_size, description_file, seed=seed)\n",
        "    return generator.synthetic_dataset"
      ]
    },
    {
      "cell_type": "code",
      "execution_count": 4,
      "metadata": {
        "id": "_ucdJfUuFdZe"
      },
      "outputs": [],
      "source": [
        "def generate_data_B(input_data_file, output_data_size, epsilon=0.1, seed=None):\n",
        "    seed = seed or randint(0, 2**30)\n",
        "    description_file = description_files['B']\n",
        "    \n",
        "    describer = DataDescriber()\n",
        "    describer.describe_dataset_in_independent_attribute_mode(input_data_file, epsilon=epsilon, seed=seed)\n",
        "    describer.save_dataset_description_to_file(description_file)\n",
        "    \n",
        "    generator = DataGenerator()\n",
        "    generator.generate_dataset_in_independent_mode(output_data_size, description_file, seed=seed)\n",
        "    return generator.synthetic_dataset"
      ]
    },
    {
      "cell_type": "code",
      "execution_count": 5,
      "metadata": {
        "id": "AiO-8_CPFdZj"
      },
      "outputs": [],
      "source": [
        "def generate_data_CD(input_data_file, output_data_size, description_file, epsilon=0.5, k=1, seed=None):\n",
        "    seed = seed or randint(0, 2**30)\n",
        "    \n",
        "    describer = DataDescriber()\n",
        "    describer.describe_dataset_in_correlated_attribute_mode(input_data_file, k=k, epsilon=epsilon, seed=seed)\n",
        "    describer.save_dataset_description_to_file(description_file)\n",
        "    \n",
        "    generator = DataGenerator()\n",
        "    generator.generate_dataset_in_correlated_attribute_mode(output_data_size, description_file, seed=seed)\n",
        "    return generator.synthetic_dataset\n",
        "\n",
        "def generate_data_C(input_data_file, output_data_size, epsilon=0.1, seed=None):\n",
        "    return generate_data_CD(input_data_file, output_data_size, description_files['C'], epsilon, k=1, seed=seed)\n",
        "\n",
        "def generate_data_D(input_data_file, output_data_size, epsilon=0.1, seed=None):\n",
        "    return generate_data_CD(input_data_file, output_data_size, description_files['D'], epsilon, k=2, seed=seed)"
      ]
    },
    {
      "cell_type": "markdown",
      "metadata": {
        "id": "_ZaByotmFdZo"
      },
      "source": [
        "Start with a real dataset __hw_compas__ and a fake dataset __hw_xyz__. Generate synthetic datasets of size __N=10000__, in the following four categories:\n",
        "- A:  random mode\n",
        "- B: independent attribute mode with __epsilon = 0.1__\n",
        "- C:  correlated attribute mode with __epsilon = 0.1__, Bayes net degree k=1\n",
        "- D: correlated attribute mode with __epsilon = 0.1__, Bayes net degree k=2"
      ]
    },
    {
      "cell_type": "code",
      "execution_count": 6,
      "metadata": {
        "id": "GXqw1Tjl3kdb"
      },
      "outputs": [],
      "source": [
        "# Packages for reading csv file into Colaboratory:\n",
        "!pip install -U -q PyDrive==1.3.1\n",
        "\n",
        "from pydrive.auth import GoogleAuth\n",
        "from pydrive.drive import GoogleDrive\n",
        "from google.colab import auth\n",
        "from oauth2client.client import GoogleCredentials\n",
        "\n",
        "# Authenticate and create the PyDrive client. \n",
        "# Please follow the steps as instructed when you run the following commands. \n",
        "\n",
        "auth.authenticate_user()\n",
        "gauth = GoogleAuth()\n",
        "gauth.credentials = GoogleCredentials.get_application_default()\n",
        "drive = GoogleDrive(gauth)"
      ]
    },
    {
      "cell_type": "code",
      "execution_count": 7,
      "metadata": {
        "id": "hecmLsCU3lsg"
      },
      "outputs": [],
      "source": [
        "fileid_compas = '1kgSIBkOM9y0nz_l8LI8ze9TAhF5gbb64'    \n",
        "real_data_file = 'hw_compas.csv'\n",
        "\n",
        "fileid_fake = '1b_T0SHQUMbVvZueZ6yXlxTKBHctMgM0k'    \n",
        "fake_data_file = 'hw_fake.csv'\n",
        "\n",
        "downloaded = drive.CreateFile({'id':fileid_compas}) \n",
        "downloaded.GetContentFile(real_data_file)  \n",
        "df_real = pd.read_csv(real_data_file)\n",
        "\n",
        "downloaded = drive.CreateFile({'id':fileid_fake}) \n",
        "downloaded.GetContentFile(fake_data_file)  \n",
        "df_fake = pd.read_csv(fake_data_file)"
      ]
    },
    {
      "cell_type": "code",
      "execution_count": 8,
      "metadata": {
        "id": "cwmlF9kRFdZp"
      },
      "outputs": [],
      "source": [
        "output_data_size = 10000\n",
        "epsilon = 0.1\n",
        "\n",
        "seed = 0  # make the entire notebook reproducible\n",
        "\n",
        "description_files = {'A': './descrption_A.json', \n",
        "                     'B': './descrption_B.json', \n",
        "                     'C': './descrption_C.json', \n",
        "                     'D': './descrption_D.json'}\n",
        "\n",
        "set_random_seed(seed)\n",
        "\n",
        "df_real_A = generate_data_A(real_data_file, output_data_size)\n",
        "df_real_B = generate_data_B(real_data_file, output_data_size, epsilon=epsilon)\n",
        "df_real_C = generate_data_C(real_data_file, output_data_size, epsilon=epsilon)\n",
        "df_real_D = generate_data_D(real_data_file, output_data_size, epsilon=epsilon)\n",
        "\n",
        "df_fake_A = generate_data_A(fake_data_file, output_data_size)\n",
        "df_fake_B = generate_data_B(fake_data_file, output_data_size, epsilon=epsilon)\n",
        "df_fake_C = generate_data_C(fake_data_file, output_data_size, epsilon=epsilon)\n",
        "df_fake_D = generate_data_D(fake_data_file, output_data_size, epsilon=epsilon)\n",
        "\n",
        "clear_output()"
      ]
    },
    {
      "cell_type": "markdown",
      "metadata": {
        "id": "9jSaXvMoFdZu"
      },
      "source": [
        "## Part (a)"
      ]
    },
    {
      "cell_type": "markdown",
      "metadata": {
        "id": "DyXI_gY_FdZx"
      },
      "source": [
        "### Q1\n",
        "\n",
        "Median, Mean, Min, Max of __age__ and __score__ for each A, B, C and D, compare to the ground truth value in __hw_compas__, present results in a table"
      ]
    },
    {
      "cell_type": "code",
      "execution_count": 25,
      "metadata": {
        "id": "1uMG1X8DFdZz",
        "colab": {
          "base_uri": "https://localhost:8080/"
        },
        "outputId": "19565c73-efaa-466c-81d0-d70ee34b86bb"
      },
      "outputs": [
        {
          "output_type": "stream",
          "name": "stdout",
          "text": [
            "Age\n",
            "             Median       Mean   Min    Max\n",
            "A              51.0  50.173100   0.0  100.0\n",
            "B              33.0  35.735400  18.0   76.0\n",
            "C              36.0  41.578800  18.0   96.0\n",
            "D              39.0  44.153200  18.0   96.0\n",
            "groud truth    32.0  35.143319  18.0   96.0\n",
            "\n",
            "Score\n",
            "             Median      Mean  Min   Max\n",
            "A               5.0  4.939200 -1.0  10.0\n",
            "B               4.0  4.365700  1.0  10.0\n",
            "C               5.0  4.948700 -1.0  10.0\n",
            "D               4.0  4.466000 -1.0  10.0\n",
            "groud truth     4.0  4.371268 -1.0  10.0\n"
          ]
        }
      ],
      "source": [
        "# Your code here\n",
        "# def analyse(data):\n",
        "#   data[]\n",
        "\n",
        "age_list_A = [df_real_A['age'].describe()['50%'], df_real_A['age'].describe()['mean'], df_real_A['age'].describe()['min'], df_real_A['age'].describe()['max']]\n",
        "age_list_B = [df_real_B['age'].describe()['50%'], df_real_B['age'].describe()['mean'], df_real_B['age'].describe()['min'], df_real_B['age'].describe()['max']]\n",
        "age_list_C = [df_real_C['age'].describe()['50%'], df_real_C['age'].describe()['mean'], df_real_C['age'].describe()['min'], df_real_C['age'].describe()['max']]\n",
        "age_list_D = [df_real_D['age'].describe()['50%'], df_real_D['age'].describe()['mean'], df_real_D['age'].describe()['min'], df_real_D['age'].describe()['max']]\n",
        "age_ground_truth = [df_real['age'].describe()['50%'], df_real['age'].describe()['mean'], df_real['age'].describe()['min'], df_real['age'].describe()['max']]\n",
        "age_df = pd.DataFrame(data=[age_list_A,age_list_B,age_list_C,age_list_D,age_ground_truth], index=['A','B','C','D','groud truth'],columns=['Median','Mean','Min','Max'])\n",
        "\n",
        "score_list_A = [df_real_A['score'].describe()['50%'], df_real_A['score'].describe()['mean'], df_real_A['score'].describe()['min'], df_real_A['score'].describe()['max']]\n",
        "score_list_B = [df_real_B['score'].describe()['50%'], df_real_B['score'].describe()['mean'], df_real_B['score'].describe()['min'], df_real_B['score'].describe()['max']]\n",
        "score_list_C = [df_real_C['score'].describe()['50%'], df_real_C['score'].describe()['mean'], df_real_C['score'].describe()['min'], df_real_C['score'].describe()['max']]\n",
        "score_list_D = [df_real_D['score'].describe()['50%'], df_real_D['score'].describe()['mean'], df_real_D['score'].describe()['min'], df_real_D['score'].describe()['max']]\n",
        "score_ground_truth = [df_real['score'].describe()['50%'], df_real['score'].describe()['mean'], df_real['score'].describe()['min'], df_real['score'].describe()['max']]\n",
        "score_df = pd.DataFrame(data=[score_list_A,score_list_B,score_list_C,score_list_D,score_ground_truth], index=['A','B','C','D','groud truth'],columns=['Median','Mean','Min','Max'])\n",
        "print(\"Age\")\n",
        "print(age_df)\n",
        "print()\n",
        "print(\"Score\")\n",
        "print(score_df)"
      ]
    },
    {
      "cell_type": "markdown",
      "metadata": {
        "id": "ZFgyc2B4FdZ6"
      },
      "source": [
        "### Q2\n",
        "\n",
        "Some more sophisticated statistical measure that’s good for independent attribute mode - __Two-sample Kolmogorov–Smirnov test__ and __KL-divergence__. Also show the difference visually, comparing real vs. synthetic"
      ]
    },
    {
      "cell_type": "code",
      "execution_count": 34,
      "metadata": {
        "id": "ZeqtORgGFdZ7",
        "colab": {
          "base_uri": "https://localhost:8080/",
          "height": 1000
        },
        "outputId": "a9820a94-c6b3-4880-ee52-dfe4d9549255"
      },
      "outputs": [
        {
          "output_type": "display_data",
          "data": {
            "text/plain": [
              "<Figure size 432x288 with 1 Axes>"
            ],
            "image/png": "[encoded data removed]"
          },
          "metadata": {
            "needs_background": "light"
          }
        },
        {
          "output_type": "display_data",
          "data": {
            "text/plain": [
              "<Figure size 432x288 with 1 Axes>"
            ],
            "image/png": "[encoded data removed]"
          },
          "metadata": {
            "needs_background": "light"
          }
        },
        {
          "output_type": "display_data",
          "data": {
            "text/plain": [
              "<Figure size 432x288 with 1 Axes>"
            ],
            "image/png": "[encoded data removed]"
          },
          "metadata": {
            "needs_background": "light"
          }
        },
        {
          "output_type": "display_data",
          "data": {
            "text/plain": [
              "<Figure size 432x288 with 1 Axes>"
            ],
            "image/png": "[encoded data removed]"
          },
          "metadata": {
            "needs_background": "light"
          }
        },
        {
          "output_type": "display_data",
          "data": {
            "text/plain": [
              "<Figure size 432x288 with 1 Axes>"
            ],
            "image/png": "[encoded data removed]"
          },
          "metadata": {
            "needs_background": "light"
          }
        },
        {
          "output_type": "display_data",
          "data": {
            "text/plain": [
              "<Figure size 432x288 with 1 Axes>"
            ],
            "image/png": "[encoded data removed]"
          },
          "metadata": {
            "needs_background": "light"
          }
        }
      ],
      "source": [
        "# Your code here\n",
        "df_real['age'].hist()\n",
        "plt.title(\"the distribution of values of age in hw_compas\")\n",
        "plt.show()\n",
        "\n",
        "df_real['sex'].hist()\n",
        "plt.title(\"the distribution of values of sex in hw_compas\")\n",
        "plt.show()\n",
        "\n",
        "df_real_A['age'].hist()\n",
        "plt.title(\"the distribution of values of age in synthetic datasets generated under settings A\")\n",
        "plt.show()\n",
        "\n",
        "df_real_A['sex'].hist()\n",
        "plt.title(\"the distribution of values of sex in synthetic datasets generated under settings A\")\n",
        "plt.show()\n",
        "\n",
        "df_real_B['age'].hist()\n",
        "plt.title(\"the distribution of values of age in synthetic datasets generated under settings B\")\n",
        "plt.show()\n",
        "\n",
        "df_real_B['sex'].hist()\n",
        "plt.title(\"the distribution of values of sex in synthetic datasets generated under settings B\")\n",
        "plt.show()"
      ]
    },
    {
      "cell_type": "markdown",
      "metadata": {
        "id": "g-Or3PInFdan"
      },
      "source": [
        "#### Two-sample Kolmogorov–Smirnov test for continous attributes"
      ]
    },
    {
      "cell_type": "code",
      "execution_count": 26,
      "metadata": {
        "id": "yTzh1CM6Fdap"
      },
      "outputs": [],
      "source": [
        "def ks_test(df_in: pd.DataFrame, df_out: pd.DataFrame, attr: str):\n",
        "    \"\"\"\n",
        "    df_in: the sensitive dataset\n",
        "    df_out: the synthetic dataset\n",
        "    attr: the attribute that will be calculated for Two-sample Kolmogorov–Smirnov test.\n",
        "    \"\"\"\n",
        "    return ks_2samp(df_in[attr], df_out[attr])[0]"
      ]
    },
    {
      "cell_type": "markdown",
      "metadata": {
        "id": "X1eUjSSxFda3"
      },
      "source": [
        "#### KL-divergence for categorical attributes"
      ]
    },
    {
      "cell_type": "code",
      "execution_count": 27,
      "metadata": {
        "id": "cidvm1mAFda3"
      },
      "outputs": [],
      "source": [
        "def get_distribution_of_categorical_attribute(attribute: pd.Series, indicies=None):\n",
        "    distribution = attribute.dropna().value_counts()\n",
        "    if indicies is not None:\n",
        "        for idx in set(indicies) - set(distribution.index):\n",
        "            distribution.loc[idx] = 0\n",
        "    distribution.sort_index(inplace=True)\n",
        "    return distribution/sum(distribution)\n",
        "\n",
        "def kl_test(df_in: pd.DataFrame, df_out: pd.DataFrame, attr: str):\n",
        "    \"\"\"\n",
        "    df_in: the sensitive dataset\n",
        "    df_out: the synthetic dataset\n",
        "    attr: the attribute that will be calculated for KL-divergence.\n",
        "    \"\"\"\n",
        "    distribution_in = get_distribution_of_categorical_attribute(df_in[attr])\n",
        "    distribution_out = get_distribution_of_categorical_attribute(df_out[attr], distribution_in.index)\n",
        "    return entropy(distribution_out, distribution_in)"
      ]
    },
    {
      "cell_type": "code",
      "source": [
        "print(\"K-S test(age), hw_compas vs. A:\")\n",
        "print(ks_test(df_real, df_real_A, 'age'))\n",
        "print(\"K-S test(age), hw_compas vs. B:\")\n",
        "print(ks_test(df_real, df_real_B, 'age'))\n",
        "\n",
        "print(\"KL-divergence(sex), hw_compas vs. A:\")\n",
        "print(kl_test(df_real, df_real_A, 'sex'))\n",
        "print(\"KL-divergence(sex), hw_compas vs. B:\")\n",
        "print(kl_test(df_real, df_real_B, 'sex'))"
      ],
      "metadata": {
        "colab": {
          "base_uri": "https://localhost:8080/"
        },
        "id": "MD0Fs77THkxh",
        "outputId": "f420237c-907b-4240-f5c0-a07213facdcf"
      },
      "execution_count": 38,
      "outputs": [
        {
          "output_type": "stream",
          "name": "stdout",
          "text": [
            "K-S test(age), hw_compas vs. A:\n",
            "0.3735091775112699\n",
            "K-S test(age), hw_compas vs. B:\n",
            "0.026252445351705345\n",
            "KL-divergence(sex), hw_compas vs. A:\n",
            "0.22319792405369002\n",
            "KL-divergence(sex), hw_compas vs. B:\n",
            "0.0002494300869420041\n"
          ]
        }
      ]
    },
    {
      "cell_type": "markdown",
      "metadata": {
        "id": "XKzIAfI9FdbD"
      },
      "source": [
        "### Q3\n",
        "\n",
        "some more sophisticated statistical measure that’s good for correlated attribute mode, and will be better with k=2 (case D) than with k=1 (case C), __some distance over pairwise correlation coefficients? Also show the difference visually, comparing results on real vs. synthetic datasets__."
      ]
    },
    {
      "cell_type": "code",
      "source": [
        "# Use pairwise_attributes_mutual_information function. \n",
        "# For function parameters, refer to https://github.com/DataResponsibly/DataSynthesizer/blob/master/DataSynthesizer/lib/utils.py#L31\n",
        "# Your code here\n",
        "mi_fake = pairwise_attributes_mutual_information(df_fake)\n",
        "mi_C = pairwise_attributes_mutual_information(df_fake_C)\n",
        "mi_D = pairwise_attributes_mutual_information(df_fake_D)\n",
        "print(mi_fake)\n",
        "print(mi_C)\n",
        "print(mi_D)"
      ],
      "metadata": {
        "id": "NNd9mfMOVXrA",
        "colab": {
          "base_uri": "https://localhost:8080/"
        },
        "outputId": "d5829d0f-79dc-4fbd-9e73-3c51bdcfe737"
      },
      "execution_count": 40,
      "outputs": [
        {
          "output_type": "stream",
          "name": "stdout",
          "text": [
            "           child_1   child_2  parent_1  parent_2\n",
            "child_1   1.000000  0.211242  0.214345  0.195899\n",
            "child_2   0.211242  1.000000  0.208301  0.200690\n",
            "parent_1  0.214345  0.208301  1.000000  0.002421\n",
            "parent_2  0.195899  0.200690  0.002421  1.000000\n",
            "           child_1   child_2  parent_1  parent_2\n",
            "child_1   1.000000  0.229400  0.070395  0.026739\n",
            "child_2   0.229400  1.000000  0.249762  0.114695\n",
            "parent_1  0.070395  0.249762  1.000000  0.028520\n",
            "parent_2  0.026739  0.114695  0.028520  1.000000\n",
            "           child_1   child_2  parent_1  parent_2\n",
            "child_1   1.000000  0.074153  0.034209  0.221418\n",
            "child_2   0.074153  1.000000  0.203135  0.110479\n",
            "parent_1  0.034209  0.203135  1.000000  0.073704\n",
            "parent_2  0.221418  0.110479  0.073704  1.000000\n"
          ]
        }
      ]
    },
    {
      "cell_type": "code",
      "source": [
        "# Use can sns.heatmap for pairwise mutual information\n",
        "# For examples, refer to https://seaborn.pydata.org/generated/seaborn.heatmap.html\n",
        "# Your code here\n",
        "sns.heatmap(mi_fake, vmax=1, vmin=0)"
      ],
      "metadata": {
        "id": "beIDrJn3VYbS",
        "colab": {
          "base_uri": "https://localhost:8080/",
          "height": 290
        },
        "outputId": "467bc93e-4ff1-4f01-d796-84188613cba0"
      },
      "execution_count": 44,
      "outputs": [
        {
          "output_type": "execute_result",
          "data": {
            "text/plain": [
              "<Axes: >"
            ]
          },
          "metadata": {},
          "execution_count": 44
        },
        {
          "output_type": "display_data",
          "data": {
            "text/plain": [
              "<Figure size 432x288 with 2 Axes>"
            ],
            "image/png": "[encoded data removed]"
          },
          "metadata": {
            "needs_background": "light"
          }
        }
      ]
    },
    {
      "cell_type": "code",
      "source": [
        "sns.heatmap(mi_C, vmax=1, vmin=0)"
      ],
      "metadata": {
        "colab": {
          "base_uri": "https://localhost:8080/",
          "height": 290
        },
        "id": "53tTpuuLMJKv",
        "outputId": "0aeeb7ce-bfa2-4d96-8512-8bd9edabd3f5"
      },
      "execution_count": 45,
      "outputs": [
        {
          "output_type": "execute_result",
          "data": {
            "text/plain": [
              "<Axes: >"
            ]
          },
          "metadata": {},
          "execution_count": 45
        },
        {
          "output_type": "display_data",
          "data": {
            "text/plain": [
              "<Figure size 432x288 with 2 Axes>"
            ],
            "image/png": "[encoded data removed]"
          },
          "metadata": {
            "needs_background": "light"
          }
        }
      ]
    },
    {
      "cell_type": "code",
      "source": [
        "sns.heatmap(mi_D, vmax=1, vmin=0)"
      ],
      "metadata": {
        "colab": {
          "base_uri": "https://localhost:8080/",
          "height": 290
        },
        "id": "pMhaflJLMJVg",
        "outputId": "33dfbac9-e55c-4480-ef6e-3028e4dec8d9"
      },
      "execution_count": 46,
      "outputs": [
        {
          "output_type": "execute_result",
          "data": {
            "text/plain": [
              "<Axes: >"
            ]
          },
          "metadata": {},
          "execution_count": 46
        },
        {
          "output_type": "display_data",
          "data": {
            "text/plain": [
              "<Figure size 432x288 with 2 Axes>"
            ],
            "image/png": "[encoded data removed]"
          },
          "metadata": {
            "needs_background": "light"
          }
        }
      ]
    },
    {
      "cell_type": "markdown",
      "metadata": {
        "id": "FpoWEnYTFdbb"
      },
      "source": [
        "## Part (b)\n",
        "\n",
        "Study the variability in accuracy of answers to Q1 and Q2 for A, B and C: fix epsilon = 0.1, generate __10__ synthetic databases (by specifying different seeds).  Plot accuracy as a box-and-whiskers plot.  "
      ]
    },
    {
      "cell_type": "code",
      "execution_count": 52,
      "metadata": {
        "id": "xTEwLoi0Fdbb",
        "colab": {
          "base_uri": "https://localhost:8080/"
        },
        "outputId": "541348b9-1119-4c9d-9527-6e6c4077829e"
      },
      "outputs": [
        {
          "output_type": "stream",
          "name": "stdout",
          "text": [
            "================ Constructing Bayesian Network (BN) ================\n",
            "Adding ROOT score\n",
            "Adding attribute sex\n",
            "Adding attribute race\n",
            "Adding attribute age\n",
            "========================== BN constructed ==========================\n",
            "================ Constructing Bayesian Network (BN) ================\n",
            "Adding ROOT age\n",
            "Adding attribute score\n",
            "Adding attribute race\n",
            "Adding attribute sex\n",
            "========================== BN constructed ==========================\n",
            "================ Constructing Bayesian Network (BN) ================\n",
            "Adding ROOT score\n",
            "Adding attribute sex\n",
            "Adding attribute race\n",
            "Adding attribute age\n",
            "========================== BN constructed ==========================\n",
            "================ Constructing Bayesian Network (BN) ================\n",
            "Adding ROOT sex\n",
            "Adding attribute age\n",
            "Adding attribute race\n",
            "Adding attribute score\n",
            "========================== BN constructed ==========================\n",
            "================ Constructing Bayesian Network (BN) ================\n",
            "Adding ROOT age\n",
            "Adding attribute sex\n",
            "Adding attribute score\n",
            "Adding attribute race\n",
            "========================== BN constructed ==========================\n",
            "================ Constructing Bayesian Network (BN) ================\n",
            "Adding ROOT score\n",
            "Adding attribute sex\n",
            "Adding attribute race\n",
            "Adding attribute age\n",
            "========================== BN constructed ==========================\n",
            "================ Constructing Bayesian Network (BN) ================\n",
            "Adding ROOT sex\n",
            "Adding attribute age\n",
            "Adding attribute score\n",
            "Adding attribute race\n",
            "========================== BN constructed ==========================\n",
            "================ Constructing Bayesian Network (BN) ================\n",
            "Adding ROOT age\n",
            "Adding attribute race\n",
            "Adding attribute score\n",
            "Adding attribute sex\n",
            "========================== BN constructed ==========================\n",
            "================ Constructing Bayesian Network (BN) ================\n",
            "Adding ROOT race\n",
            "Adding attribute age\n",
            "Adding attribute score\n",
            "Adding attribute sex\n",
            "========================== BN constructed ==========================\n",
            "================ Constructing Bayesian Network (BN) ================\n",
            "Adding ROOT sex\n",
            "Adding attribute score\n",
            "Adding attribute race\n",
            "Adding attribute age\n",
            "========================== BN constructed ==========================\n"
          ]
        }
      ],
      "source": [
        "# You can use sns.boxplot for the plots\n",
        "# For examples, refer to https://seaborn.pydata.org/generated/seaborn.boxplot.html\n",
        "# Your code here\n",
        "import random\n",
        "df_mean_median = pd.DataFrame([], columns=['dataset','mean','median'])\n",
        "for i in range(10):\n",
        "  seed = random.randint(0, 100000)\n",
        "  set_random_seed(seed)\n",
        "  df_real_A = generate_data_A(real_data_file, output_data_size)\n",
        "  df_real_B = generate_data_B(real_data_file, output_data_size, epsilon=epsilon)\n",
        "  df_real_C = generate_data_C(real_data_file, output_data_size, epsilon=epsilon)\n",
        "  df_mean_median.loc[i*3] = ['A', df_real_A['age'].describe()['mean'], df_real_A['age'].describe()['50%']]\n",
        "  df_mean_median.loc[i*3+1] = ['B', df_real_B['age'].describe()['mean'], df_real_B['age'].describe()['50%']]\n",
        "  df_mean_median.loc[i*3+2] = ['C', df_real_C['age'].describe()['mean'], df_real_C['age'].describe()['50%']]"
      ]
    },
    {
      "cell_type": "code",
      "source": [
        "sns.boxplot(x=\"dataset\", y=\"mean\", data=df_mean_median)"
      ],
      "metadata": {
        "colab": {
          "base_uri": "https://localhost:8080/",
          "height": 302
        },
        "id": "zVk2DcZObQgq",
        "outputId": "611a0a4c-6fdc-4cb1-c041-8381a7be7488"
      },
      "execution_count": 53,
      "outputs": [
        {
          "output_type": "execute_result",
          "data": {
            "text/plain": [
              "<Axes: xlabel='dataset', ylabel='mean'>"
            ]
          },
          "metadata": {},
          "execution_count": 53
        },
        {
          "output_type": "display_data",
          "data": {
            "text/plain": [
              "<Figure size 432x288 with 1 Axes>"
            ],
            "image/png": "[encoded data removed]"
          },
          "metadata": {
            "needs_background": "light"
          }
        }
      ]
    },
    {
      "cell_type": "code",
      "source": [
        "sns.boxplot(x=\"dataset\", y=\"median\", data=df_mean_median)"
      ],
      "metadata": {
        "colab": {
          "base_uri": "https://localhost:8080/",
          "height": 302
        },
        "id": "02xxevWGbU5J",
        "outputId": "1dff6fdf-7003-4142-8b60-2b8073f216d1"
      },
      "execution_count": 54,
      "outputs": [
        {
          "output_type": "execute_result",
          "data": {
            "text/plain": [
              "<Axes: xlabel='dataset', ylabel='median'>"
            ]
          },
          "metadata": {},
          "execution_count": 54
        },
        {
          "output_type": "display_data",
          "data": {
            "text/plain": [
              "<Figure size 432x288 with 1 Axes>"
            ],
            "image/png": "[encoded data removed]"
          },
          "metadata": {
            "needs_background": "light"
          }
        }
      ]
    },
    {
      "cell_type": "markdown",
      "metadata": {
        "id": "UINl2ivCFdbk"
      },
      "source": [
        "## Part (c)\n",
        "\n",
        "Study how accuracy of Q3 changes for case **C**, as you vary __epsilon__ = [0.02, 0.04, 0.06, 0.08, 0.1]."
      ]
    },
    {
      "cell_type": "code",
      "source": [
        "epsilons = [0.02, 0.04, 0.06, 0.08, 0.1]\n",
        "df_KL = pd.DataFrame([], columns=['epsilon','B','C','D'])\n",
        "n = 0\n",
        "for i in range(10):\n",
        "  seed = random.randint(0, 100000)\n",
        "  set_random_seed(seed)\n",
        "  for eps in epsilons:\n",
        "    df_real_B = generate_data_B(real_data_file, output_data_size, epsilon=eps)\n",
        "    df_real_C = generate_data_C(real_data_file, output_data_size, epsilon=eps)\n",
        "    df_real_D = generate_data_D(real_data_file, output_data_size, epsilon=eps)\n",
        "    df_KL.loc[n] = [eps, kl_test(df_real, df_real_B, 'race'), kl_test(df_real, df_real_C, 'race'), kl_test(df_real, df_real_D, 'race')]\n",
        "    n += 1"
      ],
      "metadata": {
        "colab": {
          "base_uri": "https://localhost:8080/"
        },
        "id": "BQU1x8y7buIh",
        "outputId": "5b884af4-ac5e-46cc-c9cf-bc3fcd88fe69"
      },
      "execution_count": 55,
      "outputs": [
        {
          "output_type": "stream",
          "name": "stdout",
          "text": [
            "================ Constructing Bayesian Network (BN) ================\n",
            "Adding ROOT sex\n",
            "Adding attribute race\n",
            "Adding attribute score\n",
            "Adding attribute age\n",
            "========================== BN constructed ==========================\n",
            "================ Constructing Bayesian Network (BN) ================\n",
            "Adding ROOT age\n",
            "Adding attribute sex\n",
            "Adding attribute score\n",
            "Adding attribute race\n",
            "========================== BN constructed ==========================\n",
            "================ Constructing Bayesian Network (BN) ================\n",
            "Adding ROOT race\n",
            "Adding attribute sex\n",
            "Adding attribute score\n",
            "Adding attribute age\n",
            "========================== BN constructed ==========================\n",
            "================ Constructing Bayesian Network (BN) ================\n",
            "Adding ROOT sex\n",
            "Adding attribute score\n",
            "Adding attribute race\n",
            "Adding attribute age\n",
            "========================== BN constructed ==========================\n",
            "================ Constructing Bayesian Network (BN) ================\n",
            "Adding ROOT race\n",
            "Adding attribute sex\n",
            "Adding attribute age\n",
            "Adding attribute score\n",
            "========================== BN constructed ==========================\n",
            "================ Constructing Bayesian Network (BN) ================\n",
            "Adding ROOT race\n",
            "Adding attribute age\n",
            "Adding attribute score\n",
            "Adding attribute sex\n",
            "========================== BN constructed ==========================\n",
            "================ Constructing Bayesian Network (BN) ================\n",
            "Adding ROOT sex\n",
            "Adding attribute race\n",
            "Adding attribute age\n",
            "Adding attribute score\n",
            "========================== BN constructed ==========================\n",
            "================ Constructing Bayesian Network (BN) ================\n",
            "Adding ROOT sex\n",
            "Adding attribute age\n",
            "Adding attribute score\n",
            "Adding attribute race\n",
            "========================== BN constructed ==========================\n",
            "================ Constructing Bayesian Network (BN) ================\n",
            "Adding ROOT age\n",
            "Adding attribute race\n",
            "Adding attribute sex\n",
            "Adding attribute score\n",
            "========================== BN constructed ==========================\n",
            "================ Constructing Bayesian Network (BN) ================\n",
            "Adding ROOT sex\n",
            "Adding attribute score\n",
            "Adding attribute age\n",
            "Adding attribute race\n",
            "========================== BN constructed ==========================\n",
            "================ Constructing Bayesian Network (BN) ================\n",
            "Adding ROOT sex\n",
            "Adding attribute race\n",
            "Adding attribute age\n",
            "Adding attribute score\n",
            "========================== BN constructed ==========================\n",
            "================ Constructing Bayesian Network (BN) ================\n",
            "Adding ROOT race\n",
            "Adding attribute score\n",
            "Adding attribute age\n",
            "Adding attribute sex\n",
            "========================== BN constructed ==========================\n",
            "================ Constructing Bayesian Network (BN) ================\n",
            "Adding ROOT race\n",
            "Adding attribute sex\n",
            "Adding attribute age\n",
            "Adding attribute score\n",
            "========================== BN constructed ==========================\n",
            "================ Constructing Bayesian Network (BN) ================\n",
            "Adding ROOT race\n",
            "Adding attribute age\n",
            "Adding attribute sex\n",
            "Adding attribute score\n",
            "========================== BN constructed ==========================\n",
            "================ Constructing Bayesian Network (BN) ================\n",
            "Adding ROOT age\n",
            "Adding attribute score\n",
            "Adding attribute race\n",
            "Adding attribute sex\n",
            "========================== BN constructed ==========================\n",
            "================ Constructing Bayesian Network (BN) ================\n",
            "Adding ROOT sex\n",
            "Adding attribute score\n",
            "Adding attribute race\n",
            "Adding attribute age\n",
            "========================== BN constructed ==========================\n",
            "================ Constructing Bayesian Network (BN) ================\n",
            "Adding ROOT sex\n",
            "Adding attribute age\n",
            "Adding attribute score\n",
            "Adding attribute race\n",
            "========================== BN constructed ==========================\n",
            "================ Constructing Bayesian Network (BN) ================\n",
            "Adding ROOT race\n",
            "Adding attribute score\n",
            "Adding attribute age\n",
            "Adding attribute sex\n",
            "========================== BN constructed ==========================\n",
            "================ Constructing Bayesian Network (BN) ================\n",
            "Adding ROOT age\n",
            "Adding attribute race\n",
            "Adding attribute sex\n",
            "Adding attribute score\n",
            "========================== BN constructed ==========================\n",
            "================ Constructing Bayesian Network (BN) ================\n",
            "Adding ROOT age\n",
            "Adding attribute sex\n",
            "Adding attribute score\n",
            "Adding attribute race\n",
            "========================== BN constructed ==========================\n",
            "================ Constructing Bayesian Network (BN) ================\n",
            "Adding ROOT score\n",
            "Adding attribute sex\n",
            "Adding attribute age\n",
            "Adding attribute race\n",
            "========================== BN constructed ==========================\n",
            "================ Constructing Bayesian Network (BN) ================\n",
            "Adding ROOT sex\n",
            "Adding attribute score\n",
            "Adding attribute age\n",
            "Adding attribute race\n",
            "========================== BN constructed ==========================\n",
            "================ Constructing Bayesian Network (BN) ================\n",
            "Adding ROOT age\n",
            "Adding attribute score\n",
            "Adding attribute sex\n",
            "Adding attribute race\n",
            "========================== BN constructed ==========================\n",
            "================ Constructing Bayesian Network (BN) ================\n",
            "Adding ROOT sex\n",
            "Adding attribute score\n",
            "Adding attribute race\n",
            "Adding attribute age\n",
            "========================== BN constructed ==========================\n",
            "================ Constructing Bayesian Network (BN) ================\n",
            "Adding ROOT score\n",
            "Adding attribute age\n",
            "Adding attribute race\n",
            "Adding attribute sex\n",
            "========================== BN constructed ==========================\n",
            "================ Constructing Bayesian Network (BN) ================\n",
            "Adding ROOT score\n",
            "Adding attribute sex\n",
            "Adding attribute race\n",
            "Adding attribute age\n",
            "========================== BN constructed ==========================\n",
            "================ Constructing Bayesian Network (BN) ================\n",
            "Adding ROOT score\n",
            "Adding attribute race\n",
            "Adding attribute age\n",
            "Adding attribute sex\n",
            "========================== BN constructed ==========================\n",
            "================ Constructing Bayesian Network (BN) ================\n",
            "Adding ROOT race\n",
            "Adding attribute score\n",
            "Adding attribute sex\n",
            "Adding attribute age\n",
            "========================== BN constructed ==========================\n",
            "================ Constructing Bayesian Network (BN) ================\n",
            "Adding ROOT race\n",
            "Adding attribute sex\n",
            "Adding attribute score\n",
            "Adding attribute age\n",
            "========================== BN constructed ==========================\n",
            "================ Constructing Bayesian Network (BN) ================\n",
            "Adding ROOT sex\n",
            "Adding attribute race\n",
            "Adding attribute score\n",
            "Adding attribute age\n",
            "========================== BN constructed ==========================\n",
            "================ Constructing Bayesian Network (BN) ================\n",
            "Adding ROOT race\n",
            "Adding attribute score\n",
            "Adding attribute sex\n",
            "Adding attribute age\n",
            "========================== BN constructed ==========================\n",
            "================ Constructing Bayesian Network (BN) ================\n",
            "Adding ROOT sex\n",
            "Adding attribute age\n",
            "Adding attribute score\n",
            "Adding attribute race\n",
            "========================== BN constructed ==========================\n",
            "================ Constructing Bayesian Network (BN) ================\n",
            "Adding ROOT score\n",
            "Adding attribute sex\n",
            "Adding attribute race\n",
            "Adding attribute age\n",
            "========================== BN constructed ==========================\n",
            "================ Constructing Bayesian Network (BN) ================\n",
            "Adding ROOT sex\n",
            "Adding attribute race\n",
            "Adding attribute score\n",
            "Adding attribute age\n",
            "========================== BN constructed ==========================\n",
            "================ Constructing Bayesian Network (BN) ================\n",
            "Adding ROOT score\n",
            "Adding attribute age\n",
            "Adding attribute race\n",
            "Adding attribute sex\n",
            "========================== BN constructed ==========================\n",
            "================ Constructing Bayesian Network (BN) ================\n",
            "Adding ROOT sex\n",
            "Adding attribute race\n",
            "Adding attribute age\n",
            "Adding attribute score\n",
            "========================== BN constructed ==========================\n",
            "================ Constructing Bayesian Network (BN) ================\n",
            "Adding ROOT race\n",
            "Adding attribute score\n",
            "Adding attribute sex\n",
            "Adding attribute age\n",
            "========================== BN constructed ==========================\n",
            "================ Constructing Bayesian Network (BN) ================\n",
            "Adding ROOT race\n",
            "Adding attribute score\n",
            "Adding attribute sex\n",
            "Adding attribute age\n",
            "========================== BN constructed ==========================\n",
            "================ Constructing Bayesian Network (BN) ================\n",
            "Adding ROOT age\n",
            "Adding attribute score\n",
            "Adding attribute race\n",
            "Adding attribute sex\n",
            "========================== BN constructed ==========================\n",
            "================ Constructing Bayesian Network (BN) ================\n",
            "Adding ROOT race\n",
            "Adding attribute age\n",
            "Adding attribute score\n",
            "Adding attribute sex\n",
            "========================== BN constructed ==========================\n",
            "================ Constructing Bayesian Network (BN) ================\n",
            "Adding ROOT sex\n",
            "Adding attribute race\n",
            "Adding attribute age\n",
            "Adding attribute score\n",
            "========================== BN constructed ==========================\n",
            "================ Constructing Bayesian Network (BN) ================\n",
            "Adding ROOT score\n",
            "Adding attribute race\n",
            "Adding attribute sex\n",
            "Adding attribute age\n",
            "========================== BN constructed ==========================\n",
            "================ Constructing Bayesian Network (BN) ================\n",
            "Adding ROOT sex\n",
            "Adding attribute race\n",
            "Adding attribute age\n",
            "Adding attribute score\n",
            "========================== BN constructed ==========================\n",
            "================ Constructing Bayesian Network (BN) ================\n",
            "Adding ROOT score\n",
            "Adding attribute age\n",
            "Adding attribute race\n",
            "Adding attribute sex\n",
            "========================== BN constructed ==========================\n",
            "================ Constructing Bayesian Network (BN) ================\n",
            "Adding ROOT race\n",
            "Adding attribute score\n",
            "Adding attribute sex\n",
            "Adding attribute age\n",
            "========================== BN constructed ==========================\n",
            "================ Constructing Bayesian Network (BN) ================\n",
            "Adding ROOT sex\n",
            "Adding attribute race\n",
            "Adding attribute age\n",
            "Adding attribute score\n",
            "========================== BN constructed ==========================\n",
            "================ Constructing Bayesian Network (BN) ================\n",
            "Adding ROOT sex\n",
            "Adding attribute age\n",
            "Adding attribute race\n",
            "Adding attribute score\n",
            "========================== BN constructed ==========================\n",
            "================ Constructing Bayesian Network (BN) ================\n",
            "Adding ROOT sex\n",
            "Adding attribute age\n",
            "Adding attribute score\n",
            "Adding attribute race\n",
            "========================== BN constructed ==========================\n",
            "================ Constructing Bayesian Network (BN) ================\n",
            "Adding ROOT score\n",
            "Adding attribute age\n",
            "Adding attribute race\n",
            "Adding attribute sex\n",
            "========================== BN constructed ==========================\n",
            "================ Constructing Bayesian Network (BN) ================\n",
            "Adding ROOT sex\n",
            "Adding attribute race\n",
            "Adding attribute score\n",
            "Adding attribute age\n",
            "========================== BN constructed ==========================\n",
            "================ Constructing Bayesian Network (BN) ================\n",
            "Adding ROOT score\n",
            "Adding attribute sex\n",
            "Adding attribute race\n",
            "Adding attribute age\n",
            "========================== BN constructed ==========================\n",
            "================ Constructing Bayesian Network (BN) ================\n",
            "Adding ROOT score\n",
            "Adding attribute age\n",
            "Adding attribute race\n",
            "Adding attribute sex\n",
            "========================== BN constructed ==========================\n",
            "================ Constructing Bayesian Network (BN) ================\n",
            "Adding ROOT age\n",
            "Adding attribute score\n",
            "Adding attribute race\n",
            "Adding attribute sex\n",
            "========================== BN constructed ==========================\n",
            "================ Constructing Bayesian Network (BN) ================\n",
            "Adding ROOT race\n",
            "Adding attribute age\n",
            "Adding attribute score\n",
            "Adding attribute sex\n",
            "========================== BN constructed ==========================\n",
            "================ Constructing Bayesian Network (BN) ================\n",
            "Adding ROOT score\n",
            "Adding attribute sex\n",
            "Adding attribute race\n",
            "Adding attribute age\n",
            "========================== BN constructed ==========================\n",
            "================ Constructing Bayesian Network (BN) ================\n",
            "Adding ROOT score\n",
            "Adding attribute sex\n",
            "Adding attribute age\n",
            "Adding attribute race\n",
            "========================== BN constructed ==========================\n",
            "================ Constructing Bayesian Network (BN) ================\n",
            "Adding ROOT race\n",
            "Adding attribute sex\n",
            "Adding attribute age\n",
            "Adding attribute score\n",
            "========================== BN constructed ==========================\n",
            "================ Constructing Bayesian Network (BN) ================\n",
            "Adding ROOT sex\n",
            "Adding attribute age\n",
            "Adding attribute score\n",
            "Adding attribute race\n",
            "========================== BN constructed ==========================\n",
            "================ Constructing Bayesian Network (BN) ================\n",
            "Adding ROOT age\n",
            "Adding attribute race\n",
            "Adding attribute score\n",
            "Adding attribute sex\n",
            "========================== BN constructed ==========================\n",
            "================ Constructing Bayesian Network (BN) ================\n",
            "Adding ROOT race\n",
            "Adding attribute score\n",
            "Adding attribute sex\n",
            "Adding attribute age\n",
            "========================== BN constructed ==========================\n",
            "================ Constructing Bayesian Network (BN) ================\n",
            "Adding ROOT sex\n",
            "Adding attribute race\n",
            "Adding attribute age\n",
            "Adding attribute score\n",
            "========================== BN constructed ==========================\n",
            "================ Constructing Bayesian Network (BN) ================\n",
            "Adding ROOT sex\n",
            "Adding attribute age\n",
            "Adding attribute score\n",
            "Adding attribute race\n",
            "========================== BN constructed ==========================\n",
            "================ Constructing Bayesian Network (BN) ================\n",
            "Adding ROOT age\n",
            "Adding attribute score\n",
            "Adding attribute race\n",
            "Adding attribute sex\n",
            "========================== BN constructed ==========================\n",
            "================ Constructing Bayesian Network (BN) ================\n",
            "Adding ROOT race\n",
            "Adding attribute score\n",
            "Adding attribute age\n",
            "Adding attribute sex\n",
            "========================== BN constructed ==========================\n",
            "================ Constructing Bayesian Network (BN) ================\n",
            "Adding ROOT score\n",
            "Adding attribute age\n",
            "Adding attribute sex\n",
            "Adding attribute race\n",
            "========================== BN constructed ==========================\n",
            "================ Constructing Bayesian Network (BN) ================\n",
            "Adding ROOT race\n",
            "Adding attribute age\n",
            "Adding attribute score\n",
            "Adding attribute sex\n",
            "========================== BN constructed ==========================\n",
            "================ Constructing Bayesian Network (BN) ================\n",
            "Adding ROOT score\n",
            "Adding attribute age\n",
            "Adding attribute race\n",
            "Adding attribute sex\n",
            "========================== BN constructed ==========================\n",
            "================ Constructing Bayesian Network (BN) ================\n",
            "Adding ROOT sex\n",
            "Adding attribute race\n",
            "Adding attribute age\n",
            "Adding attribute score\n",
            "========================== BN constructed ==========================\n",
            "================ Constructing Bayesian Network (BN) ================\n",
            "Adding ROOT score\n",
            "Adding attribute age\n",
            "Adding attribute race\n",
            "Adding attribute sex\n",
            "========================== BN constructed ==========================\n",
            "================ Constructing Bayesian Network (BN) ================\n",
            "Adding ROOT sex\n",
            "Adding attribute age\n",
            "Adding attribute score\n",
            "Adding attribute race\n",
            "========================== BN constructed ==========================\n",
            "================ Constructing Bayesian Network (BN) ================\n",
            "Adding ROOT score\n",
            "Adding attribute age\n",
            "Adding attribute race\n",
            "Adding attribute sex\n",
            "========================== BN constructed ==========================\n",
            "================ Constructing Bayesian Network (BN) ================\n",
            "Adding ROOT score\n",
            "Adding attribute age\n",
            "Adding attribute sex\n",
            "Adding attribute race\n",
            "========================== BN constructed ==========================\n",
            "================ Constructing Bayesian Network (BN) ================\n",
            "Adding ROOT score\n",
            "Adding attribute age\n",
            "Adding attribute sex\n",
            "Adding attribute race\n",
            "========================== BN constructed ==========================\n",
            "================ Constructing Bayesian Network (BN) ================\n",
            "Adding ROOT race\n",
            "Adding attribute sex\n",
            "Adding attribute score\n",
            "Adding attribute age\n",
            "========================== BN constructed ==========================\n",
            "================ Constructing Bayesian Network (BN) ================\n",
            "Adding ROOT score\n",
            "Adding attribute age\n",
            "Adding attribute race\n",
            "Adding attribute sex\n",
            "========================== BN constructed ==========================\n",
            "================ Constructing Bayesian Network (BN) ================\n",
            "Adding ROOT age\n",
            "Adding attribute sex\n",
            "Adding attribute score\n",
            "Adding attribute race\n",
            "========================== BN constructed ==========================\n",
            "================ Constructing Bayesian Network (BN) ================\n",
            "Adding ROOT sex\n",
            "Adding attribute age\n",
            "Adding attribute score\n",
            "Adding attribute race\n",
            "========================== BN constructed ==========================\n",
            "================ Constructing Bayesian Network (BN) ================\n",
            "Adding ROOT sex\n",
            "Adding attribute score\n",
            "Adding attribute race\n",
            "Adding attribute age\n",
            "========================== BN constructed ==========================\n",
            "================ Constructing Bayesian Network (BN) ================\n",
            "Adding ROOT race\n",
            "Adding attribute age\n",
            "Adding attribute score\n",
            "Adding attribute sex\n",
            "========================== BN constructed ==========================\n",
            "================ Constructing Bayesian Network (BN) ================\n",
            "Adding ROOT age\n",
            "Adding attribute score\n",
            "Adding attribute race\n",
            "Adding attribute sex\n",
            "========================== BN constructed ==========================\n",
            "================ Constructing Bayesian Network (BN) ================\n",
            "Adding ROOT age\n",
            "Adding attribute race\n",
            "Adding attribute sex\n",
            "Adding attribute score\n",
            "========================== BN constructed ==========================\n",
            "================ Constructing Bayesian Network (BN) ================\n",
            "Adding ROOT age\n",
            "Adding attribute score\n",
            "Adding attribute race\n",
            "Adding attribute sex\n",
            "========================== BN constructed ==========================\n",
            "================ Constructing Bayesian Network (BN) ================\n",
            "Adding ROOT score\n",
            "Adding attribute age\n",
            "Adding attribute race\n",
            "Adding attribute sex\n",
            "========================== BN constructed ==========================\n",
            "================ Constructing Bayesian Network (BN) ================\n",
            "Adding ROOT sex\n",
            "Adding attribute race\n",
            "Adding attribute age\n",
            "Adding attribute score\n",
            "========================== BN constructed ==========================\n",
            "================ Constructing Bayesian Network (BN) ================\n",
            "Adding ROOT score\n",
            "Adding attribute sex\n",
            "Adding attribute race\n",
            "Adding attribute age\n",
            "========================== BN constructed ==========================\n",
            "================ Constructing Bayesian Network (BN) ================\n",
            "Adding ROOT score\n",
            "Adding attribute sex\n",
            "Adding attribute race\n",
            "Adding attribute age\n",
            "========================== BN constructed ==========================\n",
            "================ Constructing Bayesian Network (BN) ================\n",
            "Adding ROOT race\n",
            "Adding attribute age\n",
            "Adding attribute score\n",
            "Adding attribute sex\n",
            "========================== BN constructed ==========================\n",
            "================ Constructing Bayesian Network (BN) ================\n",
            "Adding ROOT score\n",
            "Adding attribute race\n",
            "Adding attribute age\n",
            "Adding attribute sex\n",
            "========================== BN constructed ==========================\n",
            "================ Constructing Bayesian Network (BN) ================\n",
            "Adding ROOT race\n",
            "Adding attribute score\n",
            "Adding attribute age\n",
            "Adding attribute sex\n",
            "========================== BN constructed ==========================\n",
            "================ Constructing Bayesian Network (BN) ================\n",
            "Adding ROOT age\n",
            "Adding attribute score\n",
            "Adding attribute sex\n",
            "Adding attribute race\n",
            "========================== BN constructed ==========================\n",
            "================ Constructing Bayesian Network (BN) ================\n",
            "Adding ROOT score\n",
            "Adding attribute age\n",
            "Adding attribute race\n",
            "Adding attribute sex\n",
            "========================== BN constructed ==========================\n",
            "================ Constructing Bayesian Network (BN) ================\n",
            "Adding ROOT age\n",
            "Adding attribute sex\n",
            "Adding attribute race\n",
            "Adding attribute score\n",
            "========================== BN constructed ==========================\n",
            "================ Constructing Bayesian Network (BN) ================\n",
            "Adding ROOT age\n",
            "Adding attribute score\n",
            "Adding attribute race\n",
            "Adding attribute sex\n",
            "========================== BN constructed ==========================\n",
            "================ Constructing Bayesian Network (BN) ================\n",
            "Adding ROOT sex\n",
            "Adding attribute age\n",
            "Adding attribute score\n",
            "Adding attribute race\n",
            "========================== BN constructed ==========================\n",
            "================ Constructing Bayesian Network (BN) ================\n",
            "Adding ROOT race\n",
            "Adding attribute age\n",
            "Adding attribute score\n",
            "Adding attribute sex\n",
            "========================== BN constructed ==========================\n",
            "================ Constructing Bayesian Network (BN) ================\n",
            "Adding ROOT sex\n",
            "Adding attribute age\n",
            "Adding attribute race\n",
            "Adding attribute score\n",
            "========================== BN constructed ==========================\n",
            "================ Constructing Bayesian Network (BN) ================\n",
            "Adding ROOT race\n",
            "Adding attribute score\n",
            "Adding attribute sex\n",
            "Adding attribute age\n",
            "========================== BN constructed ==========================\n",
            "================ Constructing Bayesian Network (BN) ================\n",
            "Adding ROOT score\n",
            "Adding attribute sex\n",
            "Adding attribute race\n",
            "Adding attribute age\n",
            "========================== BN constructed ==========================\n",
            "================ Constructing Bayesian Network (BN) ================\n",
            "Adding ROOT sex\n",
            "Adding attribute age\n",
            "Adding attribute race\n",
            "Adding attribute score\n",
            "========================== BN constructed ==========================\n",
            "================ Constructing Bayesian Network (BN) ================\n",
            "Adding ROOT age\n",
            "Adding attribute score\n",
            "Adding attribute sex\n",
            "Adding attribute race\n",
            "========================== BN constructed ==========================\n"
          ]
        }
      ]
    },
    {
      "cell_type": "code",
      "source": [
        "sns.boxplot(x=\"epsilon\", y=\"B\", data=df_KL)"
      ],
      "metadata": {
        "colab": {
          "base_uri": "https://localhost:8080/",
          "height": 305
        },
        "id": "luflvIqadC0g",
        "outputId": "43cc7add-2452-4dd1-974b-81aae11e6a36"
      },
      "execution_count": 60,
      "outputs": [
        {
          "output_type": "execute_result",
          "data": {
            "text/plain": [
              "<Axes: xlabel='epsilon', ylabel='B'>"
            ]
          },
          "metadata": {},
          "execution_count": 60
        },
        {
          "output_type": "display_data",
          "data": {
            "text/plain": [
              "<Figure size 432x288 with 1 Axes>"
            ],
            "image/png": "[encoded data removed]"
          },
          "metadata": {
            "needs_background": "light"
          }
        }
      ]
    },
    {
      "cell_type": "code",
      "source": [
        "sns.boxplot(x=\"epsilon\", y=\"C\", data=df_KL)"
      ],
      "metadata": {
        "colab": {
          "base_uri": "https://localhost:8080/",
          "height": 302
        },
        "id": "rDZLG8-RdPyw",
        "outputId": "b3e5b241-c90f-49ea-cb12-8aedf3d37bb3"
      },
      "execution_count": 61,
      "outputs": [
        {
          "output_type": "execute_result",
          "data": {
            "text/plain": [
              "<Axes: xlabel='epsilon', ylabel='C'>"
            ]
          },
          "metadata": {},
          "execution_count": 61
        },
        {
          "output_type": "display_data",
          "data": {
            "text/plain": [
              "<Figure size 432x288 with 1 Axes>"
            ],
            "image/png": "[encoded data removed]"
          },
          "metadata": {
            "needs_background": "light"
          }
        }
      ]
    },
    {
      "cell_type": "code",
      "source": [
        "sns.boxplot(x=\"epsilon\", y=\"D\", data=df_KL)"
      ],
      "metadata": {
        "colab": {
          "base_uri": "https://localhost:8080/",
          "height": 302
        },
        "id": "5pzoH6NndRVP",
        "outputId": "132a9c6b-7aa3-4ce2-b334-e17564ed1576"
      },
      "execution_count": 62,
      "outputs": [
        {
          "output_type": "execute_result",
          "data": {
            "text/plain": [
              "<Axes: xlabel='epsilon', ylabel='D'>"
            ]
          },
          "metadata": {},
          "execution_count": 62
        },
        {
          "output_type": "display_data",
          "data": {
            "text/plain": [
              "<Figure size 432x288 with 1 Axes>"
            ],
            "image/png": "[encoded data removed]"
          },
          "metadata": {
            "needs_background": "light"
          }
        }
      ]
    }
  ],
  "metadata": {
    "colab": {
      "provenance": []
    },
    "kernelspec": {
      "display_name": "Python 3",
      "language": "python",
      "name": "python3"
    },
    "language_info": {
      "codemirror_mode": {
        "name": "ipython",
        "version": 3
      },
      "file_extension": ".py",
      "mimetype": "text/x-python",
      "name": "python",
      "nbconvert_exporter": "python",
      "pygments_lexer": "ipython3",
      "version": "3.7.1"
    }
  },
  "nbformat": 4,
  "nbformat_minor": 0
}